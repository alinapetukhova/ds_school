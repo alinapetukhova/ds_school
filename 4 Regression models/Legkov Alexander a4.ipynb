{
 "cells": [
  {
   "cell_type": "code",
   "execution_count": 1081,
   "metadata": {},
   "outputs": [],
   "source": [
    "import pandas as pd\n",
    "import numpy as np\n",
    "import matplotlib.pyplot as plt\n",
    "import seaborn as sns\n",
    "from sklearn.feature_extraction.text import CountVectorizer\n",
    "from sklearn.preprocessing import LabelEncoder, OneHotEncoder, StandardScaler\n",
    "from sklearn.tree import DecisionTreeClassifier\n",
    "from sklearn.model_selection import train_test_split, GridSearchCV, StratifiedKFold\n",
    "from sklearn.metrics import roc_auc_score, accuracy_score, recall_score, precision_score,\\\n",
    "                            confusion_matrix, mean_absolute_error, mean_squared_error, r2_score,\\\n",
    "                            explained_variance_score\n",
    "from scipy import stats\n",
    "\n",
    "import warnings\n",
    "warnings.simplefilter('ignore')\n",
    "%matplotlib inline"
   ]
  },
  {
   "cell_type": "markdown",
   "metadata": {},
   "source": [
    "# Laptop Prices"
   ]
  },
  {
   "cell_type": "code",
   "execution_count": 1082,
   "metadata": {},
   "outputs": [
    {
     "data": {
      "text/plain": [
       "(1303, 12)"
      ]
     },
     "execution_count": 1082,
     "metadata": {},
     "output_type": "execute_result"
    }
   ],
   "source": [
    "data = pd.read_csv('laptops.csv', sep=',', encoding='latin-1')\n",
    "data.drop(['Unnamed: 0'], axis=1, inplace=True)\n",
    "data.shape"
   ]
  },
  {
   "cell_type": "code",
   "execution_count": 1085,
   "metadata": {},
   "outputs": [],
   "source": [
    "data['Weight_kg'] = data['Weight'].apply(lambda x: float(x[:-2]))\n",
    "data['Ram_GB'] = data['Ram'].apply(lambda x: float(x[:-2]))\n",
    "data.drop(['Weight','Ram'], axis=1,inplace=True)"
   ]
  },
  {
   "cell_type": "code",
   "execution_count": 1086,
   "metadata": {},
   "outputs": [],
   "source": [
    "def Get_Memory(string_memory, type_memory):\n",
    "    memory = string_memory.split('+')\n",
    "    value_memory=0    \n",
    "    for m in memory:\n",
    "        index_memory = m.find(\"GB \"+type_memory)\n",
    "        if index_memory!=-1:\n",
    "            value_memory = m[:index_memory]\n",
    "        \n",
    "    return int(value_memory)"
   ]
  },
  {
   "cell_type": "code",
   "execution_count": 1087,
   "metadata": {
    "scrolled": true
   },
   "outputs": [],
   "source": [
    "data['SSD'] = data['Memory'].apply(lambda x: Get_Memory(x, 'SSD'))\n",
    "data['HDD'] = data['Memory'].apply(lambda x: Get_Memory(x, 'HDD'))\n",
    "data['Flash'] = data['Memory'].apply(lambda x: Get_Memory(x, 'Flash'))\n",
    "data.drop('Memory',axis=1,inplace=True)"
   ]
  },
  {
   "cell_type": "code",
   "execution_count": 1088,
   "metadata": {},
   "outputs": [],
   "source": [
    "def get_screen_resol(screen):\n",
    "    resolution = screen.split()[-1]    \n",
    "    width, height = resolution.split('x')     \n",
    "    return float(width)*float(height)    "
   ]
  },
  {
   "cell_type": "code",
   "execution_count": 1089,
   "metadata": {},
   "outputs": [],
   "source": [
    "#признак в виде произведения кол.пикселей по высоте на кол.пиксеоей по ширине\n",
    "data['Resolution'] = data['ScreenResolution'].apply(get_screen_resol)"
   ]
  },
  {
   "cell_type": "code",
   "execution_count": 1090,
   "metadata": {},
   "outputs": [],
   "source": [
    "def get_ghz(cpu):\n",
    "    return float(cpu.split()[-1][:-3])\n",
    "\n",
    "def get_cpu_series(cpu):\n",
    "    cpu_split = cpu.split()[0:3]\n",
    "        \n",
    "    return ' '.join(cpu.split()[0:3])"
   ]
  },
  {
   "cell_type": "code",
   "execution_count": 1091,
   "metadata": {
    "scrolled": true
   },
   "outputs": [],
   "source": [
    "data['Cpu_Ghz'] = data['Cpu'].apply(get_ghz)\n",
    "data['Cpu'] = data['Cpu'].apply(get_cpu_series)\n",
    "data['Gpu'] = data['Gpu'].apply(get_cpu_series)"
   ]
  },
  {
   "cell_type": "code",
   "execution_count": 1092,
   "metadata": {},
   "outputs": [],
   "source": [
    "# OneHotEncoding для типа ноутбука\n",
    "ohe = pd.get_dummies(data['TypeName'])\n",
    "data = data.join(ohe)"
   ]
  },
  {
   "cell_type": "code",
   "execution_count": 1099,
   "metadata": {},
   "outputs": [],
   "source": [
    "data = data[data['Price_euros']<4000]"
   ]
  },
  {
   "cell_type": "code",
   "execution_count": 1108,
   "metadata": {},
   "outputs": [],
   "source": [
    "data['Cpu_company'] = data['Cpu'].apply(lambda x: x.split()[0])"
   ]
  },
  {
   "cell_type": "code",
   "execution_count": 1113,
   "metadata": {},
   "outputs": [],
   "source": [
    "data['Gpu_'] = data['Gpu'].apply(lambda gpu: gpu.split()[0])"
   ]
  },
  {
   "cell_type": "code",
   "execution_count": 1117,
   "metadata": {},
   "outputs": [],
   "source": [
    "data.drop(['TypeName','Gpu_','ScreenResolution','Cpu_company'], axis=1,inplace=True)"
   ]
  },
  {
   "cell_type": "code",
   "execution_count": 1118,
   "metadata": {},
   "outputs": [],
   "source": [
    "ohe = pd.get_dummies(data['OpSys'])\n",
    "data = data.join(ohe)\n",
    "data.drop('OpSys',axis=1,inplace=True)"
   ]
  },
  {
   "cell_type": "code",
   "execution_count": 1119,
   "metadata": {},
   "outputs": [],
   "source": [
    "ohe = pd.get_dummies(data['Cpu'])\n",
    "data = data.join(ohe)\n",
    "data.drop('Cpu',axis=1,inplace=True)"
   ]
  },
  {
   "cell_type": "code",
   "execution_count": 1120,
   "metadata": {},
   "outputs": [],
   "source": [
    "ohe = pd.get_dummies(data['Company'])\n",
    "data = data.join(ohe)\n",
    "data.drop('Company',axis=1,inplace=True)"
   ]
  },
  {
   "cell_type": "code",
   "execution_count": 1121,
   "metadata": {},
   "outputs": [],
   "source": [
    "ohe = pd.get_dummies(data['Product'])\n",
    "data = data.join(ohe)\n",
    "data.drop('Product',axis=1,inplace=True)"
   ]
  },
  {
   "cell_type": "code",
   "execution_count": 1122,
   "metadata": {},
   "outputs": [],
   "source": [
    "ohe = pd.get_dummies(data['Gpu'])\n",
    "data = data.join(ohe)\n",
    "data.drop('Gpu',axis=1,inplace=True)"
   ]
  },
  {
   "cell_type": "code",
   "execution_count": 1124,
   "metadata": {},
   "outputs": [],
   "source": [
    "data_class = data.drop('Price_euros',axis=1)\n",
    "target_class = data['Price_euros']>data['Price_euros'].mean()\n",
    "target_class = target_class.apply(int)"
   ]
  },
  {
   "cell_type": "markdown",
   "metadata": {},
   "source": [
    "Разделим выборку на train и test"
   ]
  },
  {
   "cell_type": "code",
   "execution_count": 1132,
   "metadata": {},
   "outputs": [],
   "source": [
    "X_train, X_test, y_train, y_test = train_test_split(data_class,\n",
    "                                                    target_class,\n",
    "                                                    test_size = 0.2,\n",
    "                                                    random_state=17,\n",
    "                                                    shuffle=True)"
   ]
  },
  {
   "cell_type": "code",
   "execution_count": 1146,
   "metadata": {},
   "outputs": [],
   "source": [
    "from sklearn.ensemble import BaggingClassifier, RandomForestClassifier, VotingClassifier\n",
    "from sklearn.linear_model import LogisticRegression\n",
    "from sklearn.neighbors import KNeighborsClassifier"
   ]
  },
  {
   "cell_type": "code",
   "execution_count": 1147,
   "metadata": {},
   "outputs": [],
   "source": [
    "scalar = StandardScaler()\n",
    "\n",
    "X_train_scale_class = scalar.fit_transform(X_train)\n",
    "X_test_scale_class = scalar.transform(X_test)\n",
    "\n",
    "y_train_class = y_train\n",
    "y_test_class = y_test"
   ]
  },
  {
   "cell_type": "markdown",
   "metadata": {},
   "source": [
    "# Assignment 4."
   ]
  },
  {
   "cell_type": "code",
   "execution_count": 1161,
   "metadata": {},
   "outputs": [],
   "source": [
    "from sklearn.ensemble import BaggingRegressor, RandomForestRegressor\n",
    "from sklearn.neighbors import KNeighborsRegressor\n",
    "from sklearn.linear_model import Lasso, Ridge, LinearRegression"
   ]
  },
  {
   "cell_type": "code",
   "execution_count": 1162,
   "metadata": {},
   "outputs": [],
   "source": [
    "X = data.drop('Price_euros',axis=1)\n",
    "y = data['Price_euros']"
   ]
  },
  {
   "cell_type": "code",
   "execution_count": 1163,
   "metadata": {},
   "outputs": [],
   "source": [
    "X_train, X_test, y_train, y_test = train_test_split(X, y ,test_size=0.2,random_state=17)"
   ]
  },
  {
   "cell_type": "code",
   "execution_count": 1164,
   "metadata": {},
   "outputs": [],
   "source": [
    "scalar = StandardScaler()\n",
    "X_train_scale = scalar.fit_transform(X_train)\n",
    "X_test_scale = scalar.transform(X_test)"
   ]
  },
  {
   "cell_type": "markdown",
   "metadata": {},
   "source": [
    "#### 4.1. BaggingRegressor"
   ]
  },
  {
   "cell_type": "code",
   "execution_count": 1165,
   "metadata": {},
   "outputs": [],
   "source": [
    "# base estimator is a decision tree\n",
    "br = BaggingRegressor().fit(X_train_scale, y_train)\n",
    "br_pred = br.predict(X_test_scale)"
   ]
  },
  {
   "cell_type": "markdown",
   "metadata": {},
   "source": [
    "#### 4.2. RandomForestRegressor"
   ]
  },
  {
   "cell_type": "code",
   "execution_count": 1166,
   "metadata": {},
   "outputs": [],
   "source": [
    "rfr = RandomForestRegressor().fit(X_train_scale,y_train)\n",
    "rfr_pred = rfr.predict(X_test_scale)"
   ]
  },
  {
   "cell_type": "markdown",
   "metadata": {},
   "source": [
    "#### 4.3. Nearest Neighbors Regression"
   ]
  },
  {
   "cell_type": "code",
   "execution_count": 1167,
   "metadata": {},
   "outputs": [],
   "source": [
    "knr = KNeighborsRegressor().fit(X_train_scale,y_train)\n",
    "knr_pred = knr.predict(X_test_scale)"
   ]
  },
  {
   "cell_type": "markdown",
   "metadata": {},
   "source": [
    "#### 4.4 Regression models"
   ]
  },
  {
   "cell_type": "code",
   "execution_count": 1168,
   "metadata": {},
   "outputs": [],
   "source": [
    "ridge = Ridge(alpha=100).fit(X_train_scale, y_train)\n",
    "ridge_pred=ridge.predict(X_test_scale)"
   ]
  },
  {
   "cell_type": "code",
   "execution_count": 1169,
   "metadata": {},
   "outputs": [],
   "source": [
    "lasso = Lasso(alpha=0.5).fit(X_train_scale,y_train)\n",
    "lasso_pred=lasso.predict(X_test_scale)"
   ]
  },
  {
   "cell_type": "code",
   "execution_count": 1170,
   "metadata": {},
   "outputs": [],
   "source": [
    "lr = LinearRegression().fit(X_train_scale, y_train)\n",
    "le_pred  = lr.predict(X_test_scale)"
   ]
  },
  {
   "cell_type": "markdown",
   "metadata": {},
   "source": [
    "#### 4.5. Compare models accuracy"
   ]
  },
  {
   "cell_type": "code",
   "execution_count": 1171,
   "metadata": {},
   "outputs": [
    {
     "name": "stdout",
     "output_type": "stream",
     "text": [
      "BaggingRegressor acc = 184.65811227106227\n",
      "RandomForestRegressor acc = 186.6887976923077\n",
      "KNeighborsRegressor acc = 283.0591692307692\n",
      "Lasso acc = 186.83926180960785\n",
      "Ridge acc = 196.6015595909555\n",
      "LinearRegression acc = 5351731366729691.0\n"
     ]
    }
   ],
   "source": [
    "print('BaggingRegressor acc =',mean_absolute_error(y_test, br_pred))\n",
    "print('RandomForestRegressor acc =',mean_absolute_error(y_test, rfr_pred))\n",
    "print('KNeighborsRegressor acc =',mean_absolute_error(y_test, knr_pred))\n",
    "print('Lasso acc =',mean_absolute_error(y_test, lasso_pred))\n",
    "print('Ridge acc =',mean_absolute_error(y_test, ridge_pred))\n",
    "print('LinearRegression acc =',mean_absolute_error(y_test, le_pred))"
   ]
  },
  {
   "cell_type": "code",
   "execution_count": 1172,
   "metadata": {},
   "outputs": [
    {
     "data": {
      "text/plain": [
       "array([-9.86100243e+15, -9.57790540e+15, -9.48631702e+15, -8.50873295e+15,\n",
       "       -7.19428332e+15, -6.95741743e+15, -6.95713141e+15])"
      ]
     },
     "execution_count": 1172,
     "metadata": {},
     "output_type": "execute_result"
    }
   ],
   "source": [
    "lr.coef_.sort()\n",
    "lr.coef_[:7]"
   ]
  },
  {
   "cell_type": "markdown",
   "metadata": {},
   "source": [
    "LinearRegression переобучилась, об этом говорят веса, они очень большие по модулю. Скорее всего, это из-за не выполнения условий МНК, Ridge и Lasso компенисровали переобучение штрафом и избежали такого результата."
   ]
  },
  {
   "cell_type": "markdown",
   "metadata": {},
   "source": [
    "#### 4.6. Create an ensemble of models (?)"
   ]
  },
  {
   "cell_type": "code",
   "execution_count": 1173,
   "metadata": {},
   "outputs": [],
   "source": [
    "comb_pred = (br_pred + rfr_pred + lasso_pred)/3"
   ]
  },
  {
   "cell_type": "markdown",
   "metadata": {},
   "source": [
    "#### 4.7. Display different accuracy metrics"
   ]
  },
  {
   "cell_type": "code",
   "execution_count": 1174,
   "metadata": {},
   "outputs": [
    {
     "data": {
      "text/plain": [
       "169.5599959686433"
      ]
     },
     "execution_count": 1174,
     "metadata": {},
     "output_type": "execute_result"
    }
   ],
   "source": [
    "mean_absolute_error(y_test, comb_pred)"
   ]
  },
  {
   "cell_type": "code",
   "execution_count": 1175,
   "metadata": {
    "scrolled": true
   },
   "outputs": [
    {
     "data": {
      "text/plain": [
       "72725.68276429357"
      ]
     },
     "execution_count": 1175,
     "metadata": {},
     "output_type": "execute_result"
    }
   ],
   "source": [
    "mean_squared_error(y_test,comb_pred)"
   ]
  },
  {
   "cell_type": "code",
   "execution_count": 1176,
   "metadata": {},
   "outputs": [
    {
     "data": {
      "text/plain": [
       "0.825604458531433"
      ]
     },
     "execution_count": 1176,
     "metadata": {},
     "output_type": "execute_result"
    }
   ],
   "source": [
    "r2_score(y_test, comb_pred)"
   ]
  },
  {
   "cell_type": "code",
   "execution_count": 1177,
   "metadata": {},
   "outputs": [
    {
     "data": {
      "text/plain": [
       "0.8273116757580057"
      ]
     },
     "execution_count": 1177,
     "metadata": {},
     "output_type": "execute_result"
    }
   ],
   "source": [
    "explained_variance_score(y_test, comb_pred)"
   ]
  }
 ],
 "metadata": {
  "kernelspec": {
   "display_name": "Python 3",
   "language": "python",
   "name": "python3"
  },
  "language_info": {
   "codemirror_mode": {
    "name": "ipython",
    "version": 3
   },
   "file_extension": ".py",
   "mimetype": "text/x-python",
   "name": "python",
   "nbconvert_exporter": "python",
   "pygments_lexer": "ipython3",
   "version": "3.6.7"
  }
 },
 "nbformat": 4,
 "nbformat_minor": 2
}
