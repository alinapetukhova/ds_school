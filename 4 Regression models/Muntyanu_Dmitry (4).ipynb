{
 "cells": [
  {
   "cell_type": "code",
   "execution_count": 1,
   "metadata": {
    "_cell_guid": "b1076dfc-b9ad-4769-8c92-a6c4dae69d19",
    "_uuid": "8f2839f25d086af736a60e9eeb907d3b93b6e0e5"
   },
   "outputs": [],
   "source": [
    "# This Python 3 environment comes with many helpful analytics libraries installed\n",
    "# It is defined by the kaggle/python docker image: https://github.com/kaggle/docker-python\n",
    "# For example, here's several helpful packages to load in \n",
    "\n",
    "from sklearn.model_selection import train_test_split, GridSearchCV\n",
    "\n",
    "from sklearn.metrics import accuracy_score\n",
    "from sklearn.multiclass import OneVsRestClassifier\n",
    "from sklearn.multiclass import OneVsOneClassifier\n",
    "from sklearn.multiclass import OutputCodeClassifier\n",
    "from sklearn.metrics import jaccard_similarity_score\n",
    "from sklearn.metrics import make_scorer\n",
    "\n",
    "from sklearn.tree import DecisionTreeClassifier\n",
    "from sklearn.ensemble import BaggingClassifier\n",
    "from sklearn.ensemble import RandomForestClassifier\n",
    "from sklearn.linear_model import LogisticRegression\n",
    "from sklearn.pipeline import Pipeline\n",
    "from sklearn.neighbors import KNeighborsClassifier\n",
    "\n",
    "import numpy as np # linear algebra\n",
    "import pandas as pd # data processing, CSV file I/O (e.g. pd.read_csv)\n",
    "import seaborn as sns\n",
    "\n",
    "\n",
    "from sklearn.manifold import TSNE\n",
    "from sklearn.preprocessing import StandardScaler\n",
    "\n",
    "import pylab as plt\n",
    "%matplotlib inline\n",
    "\n",
    "import warnings\n",
    "warnings.filterwarnings('ignore') \n",
    "plt.rcParams['figure.figsize'] = (10, 8)\n",
    "# Any results you write to the current directory are saved as output."
   ]
  },
  {
   "cell_type": "code",
   "execution_count": 2,
   "metadata": {
    "_uuid": "cb8e167f02fb5b6cf1e78ba4d5bf29851b9c923e"
   },
   "outputs": [],
   "source": [
    "df = pd.read_csv('epldata_final.csv')"
   ]
  },
  {
   "cell_type": "code",
   "execution_count": 3,
   "metadata": {
    "_uuid": "9f75b98b70b13654ac57f753f7d688f8e27a23a8"
   },
   "outputs": [
    {
     "data": {
      "text/html": [
       "<div>\n",
       "<style scoped>\n",
       "    .dataframe tbody tr th:only-of-type {\n",
       "        vertical-align: middle;\n",
       "    }\n",
       "\n",
       "    .dataframe tbody tr th {\n",
       "        vertical-align: top;\n",
       "    }\n",
       "\n",
       "    .dataframe thead th {\n",
       "        text-align: right;\n",
       "    }\n",
       "</style>\n",
       "<table border=\"1\" class=\"dataframe\">\n",
       "  <thead>\n",
       "    <tr style=\"text-align: right;\">\n",
       "      <th></th>\n",
       "      <th>name</th>\n",
       "      <th>club</th>\n",
       "      <th>age</th>\n",
       "      <th>position</th>\n",
       "      <th>position_cat</th>\n",
       "      <th>market_value</th>\n",
       "      <th>page_views</th>\n",
       "      <th>fpl_value</th>\n",
       "      <th>fpl_sel</th>\n",
       "      <th>fpl_points</th>\n",
       "      <th>region</th>\n",
       "      <th>nationality</th>\n",
       "      <th>new_foreign</th>\n",
       "      <th>age_cat</th>\n",
       "      <th>club_id</th>\n",
       "      <th>big_club</th>\n",
       "      <th>new_signing</th>\n",
       "    </tr>\n",
       "  </thead>\n",
       "  <tbody>\n",
       "    <tr>\n",
       "      <th>0</th>\n",
       "      <td>Alexis Sanchez</td>\n",
       "      <td>Arsenal</td>\n",
       "      <td>28</td>\n",
       "      <td>LW</td>\n",
       "      <td>1</td>\n",
       "      <td>65.0</td>\n",
       "      <td>4329</td>\n",
       "      <td>12.0</td>\n",
       "      <td>17.10%</td>\n",
       "      <td>264</td>\n",
       "      <td>3.0</td>\n",
       "      <td>Chile</td>\n",
       "      <td>0</td>\n",
       "      <td>4</td>\n",
       "      <td>1</td>\n",
       "      <td>1</td>\n",
       "      <td>0</td>\n",
       "    </tr>\n",
       "    <tr>\n",
       "      <th>1</th>\n",
       "      <td>Mesut Ozil</td>\n",
       "      <td>Arsenal</td>\n",
       "      <td>28</td>\n",
       "      <td>AM</td>\n",
       "      <td>1</td>\n",
       "      <td>50.0</td>\n",
       "      <td>4395</td>\n",
       "      <td>9.5</td>\n",
       "      <td>5.60%</td>\n",
       "      <td>167</td>\n",
       "      <td>2.0</td>\n",
       "      <td>Germany</td>\n",
       "      <td>0</td>\n",
       "      <td>4</td>\n",
       "      <td>1</td>\n",
       "      <td>1</td>\n",
       "      <td>0</td>\n",
       "    </tr>\n",
       "    <tr>\n",
       "      <th>2</th>\n",
       "      <td>Petr Cech</td>\n",
       "      <td>Arsenal</td>\n",
       "      <td>35</td>\n",
       "      <td>GK</td>\n",
       "      <td>4</td>\n",
       "      <td>7.0</td>\n",
       "      <td>1529</td>\n",
       "      <td>5.5</td>\n",
       "      <td>5.90%</td>\n",
       "      <td>134</td>\n",
       "      <td>2.0</td>\n",
       "      <td>Czech Republic</td>\n",
       "      <td>0</td>\n",
       "      <td>6</td>\n",
       "      <td>1</td>\n",
       "      <td>1</td>\n",
       "      <td>0</td>\n",
       "    </tr>\n",
       "    <tr>\n",
       "      <th>3</th>\n",
       "      <td>Theo Walcott</td>\n",
       "      <td>Arsenal</td>\n",
       "      <td>28</td>\n",
       "      <td>RW</td>\n",
       "      <td>1</td>\n",
       "      <td>20.0</td>\n",
       "      <td>2393</td>\n",
       "      <td>7.5</td>\n",
       "      <td>1.50%</td>\n",
       "      <td>122</td>\n",
       "      <td>1.0</td>\n",
       "      <td>England</td>\n",
       "      <td>0</td>\n",
       "      <td>4</td>\n",
       "      <td>1</td>\n",
       "      <td>1</td>\n",
       "      <td>0</td>\n",
       "    </tr>\n",
       "    <tr>\n",
       "      <th>4</th>\n",
       "      <td>Laurent Koscielny</td>\n",
       "      <td>Arsenal</td>\n",
       "      <td>31</td>\n",
       "      <td>CB</td>\n",
       "      <td>3</td>\n",
       "      <td>22.0</td>\n",
       "      <td>912</td>\n",
       "      <td>6.0</td>\n",
       "      <td>0.70%</td>\n",
       "      <td>121</td>\n",
       "      <td>2.0</td>\n",
       "      <td>France</td>\n",
       "      <td>0</td>\n",
       "      <td>4</td>\n",
       "      <td>1</td>\n",
       "      <td>1</td>\n",
       "      <td>0</td>\n",
       "    </tr>\n",
       "  </tbody>\n",
       "</table>\n",
       "</div>"
      ],
      "text/plain": [
       "                name     club  age position  position_cat  market_value  \\\n",
       "0     Alexis Sanchez  Arsenal   28       LW             1          65.0   \n",
       "1         Mesut Ozil  Arsenal   28       AM             1          50.0   \n",
       "2          Petr Cech  Arsenal   35       GK             4           7.0   \n",
       "3       Theo Walcott  Arsenal   28       RW             1          20.0   \n",
       "4  Laurent Koscielny  Arsenal   31       CB             3          22.0   \n",
       "\n",
       "   page_views  fpl_value fpl_sel  fpl_points  region     nationality  \\\n",
       "0        4329       12.0  17.10%         264     3.0           Chile   \n",
       "1        4395        9.5   5.60%         167     2.0         Germany   \n",
       "2        1529        5.5   5.90%         134     2.0  Czech Republic   \n",
       "3        2393        7.5   1.50%         122     1.0         England   \n",
       "4         912        6.0   0.70%         121     2.0          France   \n",
       "\n",
       "   new_foreign  age_cat  club_id  big_club  new_signing  \n",
       "0            0        4        1         1            0  \n",
       "1            0        4        1         1            0  \n",
       "2            0        6        1         1            0  \n",
       "3            0        4        1         1            0  \n",
       "4            0        4        1         1            0  "
      ]
     },
     "execution_count": 3,
     "metadata": {},
     "output_type": "execute_result"
    }
   ],
   "source": [
    "df.head()"
   ]
  },
  {
   "cell_type": "code",
   "execution_count": 4,
   "metadata": {
    "_uuid": "c03743235441788fa5bbbdc6e4c8103e502df32b"
   },
   "outputs": [],
   "source": [
    "def category(x):\n",
    "    if 0 <= x < 15: return 1\n",
    "    elif 15 <= x < 50: return 2\n",
    "    else: return 3"
   ]
  },
  {
   "cell_type": "code",
   "execution_count": 5,
   "metadata": {
    "_uuid": "8116f77751cac6f1f73a7e5acf6bfc0e85499c6b"
   },
   "outputs": [],
   "source": [
    "# делаем задачу классификации\n",
    "df['market_value'] =  df['market_value'].apply(category)"
   ]
  },
  {
   "cell_type": "code",
   "execution_count": 6,
   "metadata": {
    "_uuid": "0e50799dab718a7eb26fcdd6a6eec0525ce9a249"
   },
   "outputs": [],
   "source": [
    "df['region'].fillna((df['region'].median()), inplace=True)\n",
    "#df.isnull().any()"
   ]
  },
  {
   "cell_type": "code",
   "execution_count": 7,
   "metadata": {
    "_uuid": "fcd5ae1a43cf0d99423b79d4354f037fa8e9b173"
   },
   "outputs": [
    {
     "data": {
      "text/html": [
       "<div>\n",
       "<style scoped>\n",
       "    .dataframe tbody tr th:only-of-type {\n",
       "        vertical-align: middle;\n",
       "    }\n",
       "\n",
       "    .dataframe tbody tr th {\n",
       "        vertical-align: top;\n",
       "    }\n",
       "\n",
       "    .dataframe thead th {\n",
       "        text-align: right;\n",
       "    }\n",
       "</style>\n",
       "<table border=\"1\" class=\"dataframe\">\n",
       "  <thead>\n",
       "    <tr style=\"text-align: right;\">\n",
       "      <th></th>\n",
       "      <th>name</th>\n",
       "      <th>age</th>\n",
       "      <th>market_value</th>\n",
       "      <th>page_views</th>\n",
       "      <th>fpl_value</th>\n",
       "      <th>fpl_sel</th>\n",
       "      <th>fpl_points</th>\n",
       "      <th>new_foreign</th>\n",
       "      <th>age_cat</th>\n",
       "      <th>club_id</th>\n",
       "      <th>...</th>\n",
       "      <th>nationality_Venezuela</th>\n",
       "      <th>nationality_Wales</th>\n",
       "      <th>position_cat_1</th>\n",
       "      <th>position_cat_2</th>\n",
       "      <th>position_cat_3</th>\n",
       "      <th>position_cat_4</th>\n",
       "      <th>region_1.0</th>\n",
       "      <th>region_2.0</th>\n",
       "      <th>region_3.0</th>\n",
       "      <th>region_4.0</th>\n",
       "    </tr>\n",
       "  </thead>\n",
       "  <tbody>\n",
       "    <tr>\n",
       "      <th>0</th>\n",
       "      <td>Alexis Sanchez</td>\n",
       "      <td>28</td>\n",
       "      <td>3</td>\n",
       "      <td>4329</td>\n",
       "      <td>12.0</td>\n",
       "      <td>17.10%</td>\n",
       "      <td>264</td>\n",
       "      <td>0</td>\n",
       "      <td>4</td>\n",
       "      <td>1</td>\n",
       "      <td>...</td>\n",
       "      <td>0</td>\n",
       "      <td>0</td>\n",
       "      <td>1</td>\n",
       "      <td>0</td>\n",
       "      <td>0</td>\n",
       "      <td>0</td>\n",
       "      <td>0</td>\n",
       "      <td>0</td>\n",
       "      <td>1</td>\n",
       "      <td>0</td>\n",
       "    </tr>\n",
       "    <tr>\n",
       "      <th>1</th>\n",
       "      <td>Mesut Ozil</td>\n",
       "      <td>28</td>\n",
       "      <td>3</td>\n",
       "      <td>4395</td>\n",
       "      <td>9.5</td>\n",
       "      <td>5.60%</td>\n",
       "      <td>167</td>\n",
       "      <td>0</td>\n",
       "      <td>4</td>\n",
       "      <td>1</td>\n",
       "      <td>...</td>\n",
       "      <td>0</td>\n",
       "      <td>0</td>\n",
       "      <td>1</td>\n",
       "      <td>0</td>\n",
       "      <td>0</td>\n",
       "      <td>0</td>\n",
       "      <td>0</td>\n",
       "      <td>1</td>\n",
       "      <td>0</td>\n",
       "      <td>0</td>\n",
       "    </tr>\n",
       "    <tr>\n",
       "      <th>2</th>\n",
       "      <td>Petr Cech</td>\n",
       "      <td>35</td>\n",
       "      <td>1</td>\n",
       "      <td>1529</td>\n",
       "      <td>5.5</td>\n",
       "      <td>5.90%</td>\n",
       "      <td>134</td>\n",
       "      <td>0</td>\n",
       "      <td>6</td>\n",
       "      <td>1</td>\n",
       "      <td>...</td>\n",
       "      <td>0</td>\n",
       "      <td>0</td>\n",
       "      <td>0</td>\n",
       "      <td>0</td>\n",
       "      <td>0</td>\n",
       "      <td>1</td>\n",
       "      <td>0</td>\n",
       "      <td>1</td>\n",
       "      <td>0</td>\n",
       "      <td>0</td>\n",
       "    </tr>\n",
       "    <tr>\n",
       "      <th>3</th>\n",
       "      <td>Theo Walcott</td>\n",
       "      <td>28</td>\n",
       "      <td>2</td>\n",
       "      <td>2393</td>\n",
       "      <td>7.5</td>\n",
       "      <td>1.50%</td>\n",
       "      <td>122</td>\n",
       "      <td>0</td>\n",
       "      <td>4</td>\n",
       "      <td>1</td>\n",
       "      <td>...</td>\n",
       "      <td>0</td>\n",
       "      <td>0</td>\n",
       "      <td>1</td>\n",
       "      <td>0</td>\n",
       "      <td>0</td>\n",
       "      <td>0</td>\n",
       "      <td>1</td>\n",
       "      <td>0</td>\n",
       "      <td>0</td>\n",
       "      <td>0</td>\n",
       "    </tr>\n",
       "    <tr>\n",
       "      <th>4</th>\n",
       "      <td>Laurent Koscielny</td>\n",
       "      <td>31</td>\n",
       "      <td>2</td>\n",
       "      <td>912</td>\n",
       "      <td>6.0</td>\n",
       "      <td>0.70%</td>\n",
       "      <td>121</td>\n",
       "      <td>0</td>\n",
       "      <td>4</td>\n",
       "      <td>1</td>\n",
       "      <td>...</td>\n",
       "      <td>0</td>\n",
       "      <td>0</td>\n",
       "      <td>0</td>\n",
       "      <td>0</td>\n",
       "      <td>1</td>\n",
       "      <td>0</td>\n",
       "      <td>0</td>\n",
       "      <td>1</td>\n",
       "      <td>0</td>\n",
       "      <td>0</td>\n",
       "    </tr>\n",
       "  </tbody>\n",
       "</table>\n",
       "<p>5 rows × 114 columns</p>\n",
       "</div>"
      ],
      "text/plain": [
       "                name  age  market_value  page_views  fpl_value fpl_sel  \\\n",
       "0     Alexis Sanchez   28             3        4329       12.0  17.10%   \n",
       "1         Mesut Ozil   28             3        4395        9.5   5.60%   \n",
       "2          Petr Cech   35             1        1529        5.5   5.90%   \n",
       "3       Theo Walcott   28             2        2393        7.5   1.50%   \n",
       "4  Laurent Koscielny   31             2         912        6.0   0.70%   \n",
       "\n",
       "   fpl_points  new_foreign  age_cat  club_id     ...      \\\n",
       "0         264            0        4        1     ...       \n",
       "1         167            0        4        1     ...       \n",
       "2         134            0        6        1     ...       \n",
       "3         122            0        4        1     ...       \n",
       "4         121            0        4        1     ...       \n",
       "\n",
       "   nationality_Venezuela  nationality_Wales  position_cat_1  position_cat_2  \\\n",
       "0                      0                  0               1               0   \n",
       "1                      0                  0               1               0   \n",
       "2                      0                  0               0               0   \n",
       "3                      0                  0               1               0   \n",
       "4                      0                  0               0               0   \n",
       "\n",
       "   position_cat_3  position_cat_4  region_1.0  region_2.0  region_3.0  \\\n",
       "0               0               0           0           0           1   \n",
       "1               0               0           0           1           0   \n",
       "2               0               1           0           1           0   \n",
       "3               0               0           1           0           0   \n",
       "4               1               0           0           1           0   \n",
       "\n",
       "   region_4.0  \n",
       "0           0  \n",
       "1           0  \n",
       "2           0  \n",
       "3           0  \n",
       "4           0  \n",
       "\n",
       "[5 rows x 114 columns]"
      ]
     },
     "execution_count": 7,
     "metadata": {},
     "output_type": "execute_result"
    }
   ],
   "source": [
    "def create_df(data_fram, feature_list):\n",
    "    out = data_fram\n",
    "    out = pd.concat([out, pd.get_dummies(out[feature_list])], axis = 1)\n",
    "    out.drop(feature_list, axis = 1, inplace = True)\n",
    "    return out\n",
    "\n",
    "df1 = df\n",
    "features = ['club', 'position', 'nationality', 'position_cat', 'region']\n",
    "for feature in features:\n",
    "    df1[feature] = df1[feature].astype('object')\n",
    "df1 = create_df(df1, features)\n",
    "df1.head()"
   ]
  },
  {
   "cell_type": "code",
   "execution_count": 8,
   "metadata": {
    "_uuid": "c376929b5b2bc15bc53caf3838e42bb3002b64ca"
   },
   "outputs": [],
   "source": [
    "y = df1['market_value']\n",
    "df1 = df1.drop(['name', 'market_value', 'fpl_sel'], axis=1)"
   ]
  },
  {
   "cell_type": "code",
   "execution_count": 9,
   "metadata": {
    "_uuid": "616bb594d143da7fba3ace56d2bcaff1ff7587bd"
   },
   "outputs": [],
   "source": [
    "from sklearn import preprocessing\n",
    "# normalize the data attributes\n",
    "normalized_X = preprocessing.normalize(df1)\n",
    "# standardize the data attributes\n",
    "standardized_X = preprocessing.scale(df1)"
   ]
  },
  {
   "cell_type": "code",
   "execution_count": 10,
   "metadata": {
    "_uuid": "d4c48f3d2be349c98486e433ea804c857e360c9a"
   },
   "outputs": [],
   "source": [
    "X_train, X_valid, y_train, y_valid = train_test_split(df1, y, test_size = 0.3, random_state=17)"
   ]
  },
  {
   "cell_type": "code",
   "execution_count": 11,
   "metadata": {
    "_uuid": "bc443ca2fcbb19951791b33c8d053adc7a55c42d"
   },
   "outputs": [
    {
     "data": {
      "text/plain": [
       "DecisionTreeClassifier(class_weight=None, criterion='gini', max_depth=4,\n",
       "            max_features=None, max_leaf_nodes=None,\n",
       "            min_impurity_decrease=0.0, min_impurity_split=None,\n",
       "            min_samples_leaf=1, min_samples_split=2,\n",
       "            min_weight_fraction_leaf=0.0, presort=False, random_state=17,\n",
       "            splitter='best')"
      ]
     },
     "execution_count": 11,
     "metadata": {},
     "output_type": "execute_result"
    }
   ],
   "source": [
    "clf_tree = DecisionTreeClassifier(max_depth=4, random_state=17)\n",
    "clf_tree.fit(X_train, y_train)"
   ]
  },
  {
   "cell_type": "code",
   "execution_count": 12,
   "metadata": {
    "_uuid": "80acb03513f06be72978d55ca0e5e2c81ce3b1dc"
   },
   "outputs": [
    {
     "data": {
      "text/plain": [
       "0.8129496402877698"
      ]
     },
     "execution_count": 12,
     "metadata": {},
     "output_type": "execute_result"
    }
   ],
   "source": [
    "predicted = clf_tree.predict(X_valid)\n",
    "accuracy = accuracy_score(y_valid, predicted)\n",
    "accuracy"
   ]
  },
  {
   "cell_type": "code",
   "execution_count": 13,
   "metadata": {
    "_uuid": "0fd5e01805d41bc35128c0412cd367a7fc24e0ef"
   },
   "outputs": [],
   "source": [
    "dict_model_result = {}\n",
    "\n",
    "# bagging over trees\n",
    "bc = BaggingClassifier(base_estimator=clf_tree, n_estimators=40, random_state=17)\n",
    "bc.fit(X_train, y_train)\n",
    "bc_preds = bc.predict(X_valid)\n",
    "dict_model_result['Accuracy Bagging on valid set'] = accuracy_score(y_valid, bc_preds)"
   ]
  },
  {
   "cell_type": "code",
   "execution_count": 15,
   "metadata": {
    "_uuid": "7dbf667bd214130662fe008eaba5142eefdca6a5"
   },
   "outputs": [
    {
     "name": "stdout",
     "output_type": "stream",
     "text": [
      "лучшее значение скора на кросс-валидации - 0.8633540372670807\n",
      "лучшие характеристики - {'base_estimator__max_depth': 5, 'base_estimator__max_leaf_nodes': 15, 'n_estimators': 40}\n"
     ]
    }
   ],
   "source": [
    "params = {'n_estimators': [40, 42], 'base_estimator__max_leaf_nodes':[10, 15], 'base_estimator__max_depth':[4, 5, 6]}\n",
    "\n",
    "# Grid Search to determine best parameters\n",
    "bc_grid = GridSearchCV(estimator=bc, param_grid=params, scoring='accuracy', cv=5, n_jobs=-1)\n",
    "bc_grid.fit(X_train, y_train)\n",
    "best_params = bc_grid.best_params_\n",
    "print('лучшее значение скора на кросс-валидации -', bc_grid.best_score_)\n",
    "print('лучшие характеристики -',best_params)"
   ]
  },
  {
   "cell_type": "code",
   "execution_count": 16,
   "metadata": {
    "_uuid": "4e5fa4481a2e13d1a2c5d48d157ffef0d569462c"
   },
   "outputs": [],
   "source": [
    "# Random Forest\n",
    "rfc = RandomForestClassifier(max_depth=4,  max_features=None, random_state=17)\n",
    "rfc.fit(X_train, y_train)\n",
    "rfc_preds = rfc.predict(X_valid)\n",
    "dict_model_result['Accuracy Random Forest on valid set'] = accuracy_score(y_valid, rfc_preds)"
   ]
  },
  {
   "cell_type": "code",
   "execution_count": 17,
   "metadata": {
    "_uuid": "535429d4870b6980be2852041e7d93f33728c457"
   },
   "outputs": [
    {
     "name": "stdout",
     "output_type": "stream",
     "text": [
      "лучшее значение скора на кросс-валидации - 0.8416149068322981\n"
     ]
    }
   ],
   "source": [
    "max_depth_values = range(4, 8)\n",
    "forest_params = {'max_depth': max_depth_values}\n",
    "\n",
    "random_forest_classifier = RandomForestClassifier(class_weight='balanced', random_state = 17)\n",
    "random_forest_classifier_grid = GridSearchCV(random_forest_classifier, param_grid=forest_params, scoring='accuracy', cv = 5)\n",
    "random_forest_classifier_grid.fit(X_train, y_train)\n",
    "print('лучшее значение скора на кросс-валидации -', random_forest_classifier_grid.best_score_)"
   ]
  },
  {
   "cell_type": "code",
   "execution_count": 18,
   "metadata": {
    "_uuid": "37bdb944a99a9d307dcb60976e73fba90fe3eda2"
   },
   "outputs": [],
   "source": [
    "logit = LogisticRegression(random_state=17, multi_class='ovr', class_weight='balanced')\n",
    "logit.fit(X_train, y_train)\n",
    "log_predict = logit.predict(X_valid)\n",
    "dict_model_result['Accuracy Logistic Regression on valid set'] = accuracy_score(y_valid, log_predict)"
   ]
  },
  {
   "cell_type": "code",
   "execution_count": 19,
   "metadata": {
    "_uuid": "2cadb3f5949b0817e76657e194b8648a1fe9d7c8"
   },
   "outputs": [
    {
     "name": "stdout",
     "output_type": "stream",
     "text": [
      "лучшее значение скора на кросс-валидации - 0.7795031055900621\n"
     ]
    }
   ],
   "source": [
    "scaler = StandardScaler()\n",
    "logit = LogisticRegression(random_state=17, class_weight='balanced')\n",
    "\n",
    "logit_pipe = Pipeline([('scaler', scaler), ('logit', logit)])\n",
    "logit_pipe_params = {'logit__C': np.logspace(-8, 8, 17)}\n",
    "\n",
    "Logistic_Regression_grid = GridSearchCV(logit_pipe, param_grid=logit_pipe_params, scoring='accuracy', cv = 5)\n",
    "Logistic_Regression_grid.fit(X_train, y_train)\n",
    "print('лучшее значение скора на кросс-валидации -', Logistic_Regression_grid.best_score_)"
   ]
  },
  {
   "cell_type": "code",
   "execution_count": 20,
   "metadata": {
    "_uuid": "d7b9c221086d47a9e4b53d1966e953d36546563e"
   },
   "outputs": [],
   "source": [
    "knn = KNeighborsClassifier(n_neighbors=6)\n",
    "knn.fit(X_train, y_train)\n",
    "knn_pred = knn.predict(X_valid)\n",
    "dict_model_result['Accuracy knn on valid set'] = accuracy_score(y_valid, knn_pred)"
   ]
  },
  {
   "cell_type": "code",
   "execution_count": 21,
   "metadata": {
    "_uuid": "4cc47ba692c85c385fcf01b38f373f839ce846d3"
   },
   "outputs": [
    {
     "data": {
      "text/plain": [
       "{'Accuracy Bagging on valid set': 0.8705035971223022,\n",
       " 'Accuracy Logistic Regression on valid set': 0.8705035971223022,\n",
       " 'Accuracy Random Forest on valid set': 0.8920863309352518,\n",
       " 'Accuracy knn on valid set': 0.8129496402877698}"
      ]
     },
     "execution_count": 21,
     "metadata": {},
     "output_type": "execute_result"
    }
   ],
   "source": [
    "dict_model_result"
   ]
  },
  {
   "cell_type": "code",
   "execution_count": 22,
   "metadata": {
    "_uuid": "a9f6a5ce17097e0c536e41aa46ce783c87919f46"
   },
   "outputs": [
    {
     "name": "stdout",
     "output_type": "stream",
     "text": [
      "Fitting 5 folds for each of 12 candidates, totalling 60 fits\n"
     ]
    },
    {
     "name": "stderr",
     "output_type": "stream",
     "text": [
      "[Parallel(n_jobs=-1)]: Done  46 tasks      | elapsed:    6.9s\n",
      "[Parallel(n_jobs=-1)]: Done  60 out of  60 | elapsed:    8.4s finished\n"
     ]
    },
    {
     "data": {
      "text/plain": [
       "({'knn__n_neighbors': 12}, 0.7670807453416149)"
      ]
     },
     "execution_count": 22,
     "metadata": {},
     "output_type": "execute_result"
    }
   ],
   "source": [
    "knn_pipe = Pipeline([('scaler', StandardScaler()), ('knn', KNeighborsClassifier(n_jobs=-1))])\n",
    "knn_params = {'knn__n_neighbors': range(3, 15)}\n",
    "knn_grid = GridSearchCV(knn_pipe, knn_params, cv=5, n_jobs=-1, verbose=True)\n",
    "knn_grid.fit(X_train, y_train)\n",
    "knn_grid.best_params_, knn_grid.best_score_"
   ]
  },
  {
   "cell_type": "code",
   "execution_count": 23,
   "metadata": {
    "_uuid": "6e076f0294d83ed3823ac834bc2e2bb7f577e798"
   },
   "outputs": [],
   "source": [
    "#Сначала в качестве ансамбля сделаем простое голосование моделей, а потом стекинг(блендинг)"
   ]
  },
  {
   "cell_type": "code",
   "execution_count": 24,
   "metadata": {
    "_uuid": "6426ea526d128701e4947e39466f01cc230665a4"
   },
   "outputs": [],
   "source": [
    "# majority vote\n",
    "def Simple_Ensembles(*args):\n",
    "    Ensembles_predict = []\n",
    "    arr = np.array(args).T\n",
    "    for i in range(0, arr.shape[0]):\n",
    "        one_line = list(arr[i])\n",
    "        set_one_line = set(one_line)\n",
    "        \n",
    "        most_common = None\n",
    "        qty_most_common = 0\n",
    "\n",
    "        for item in set_one_line:\n",
    "            qty = one_line.count(item)\n",
    "            if qty > qty_most_common:\n",
    "                qty_most_common = qty\n",
    "                most_common = item\n",
    "\n",
    "        Ensembles_predict.append(most_common)\n",
    "    return Ensembles_predict      "
   ]
  },
  {
   "cell_type": "code",
   "execution_count": 25,
   "metadata": {
    "_uuid": "d9ac306d7b8fd33b90851f82caa96b6698221af9"
   },
   "outputs": [],
   "source": [
    "result = Simple_Ensembles(bc_preds, rfc_preds, log_predict, knn_pred)"
   ]
  },
  {
   "cell_type": "code",
   "execution_count": 26,
   "metadata": {
    "_uuid": "e206230156b44afe898dd3a60891451d0941c159"
   },
   "outputs": [],
   "source": [
    "result = np.array([result])\n",
    "result = result.reshape((139,))"
   ]
  },
  {
   "cell_type": "code",
   "execution_count": 27,
   "metadata": {
    "_uuid": "03fbdc1621c4da9f6fc6acc4f18093e8f3062053"
   },
   "outputs": [
    {
     "data": {
      "text/plain": [
       "0.8705035971223022"
      ]
     },
     "execution_count": 27,
     "metadata": {},
     "output_type": "execute_result"
    }
   ],
   "source": [
    "accuracy = accuracy_score(y_valid, result)\n",
    "accuracy"
   ]
  },
  {
   "cell_type": "code",
   "execution_count": null,
   "metadata": {
    "_uuid": "1d00bf28c14cac2da9eb98cb3ce7aa0a365c37e3"
   },
   "outputs": [],
   "source": []
  },
  {
   "cell_type": "code",
   "execution_count": null,
   "metadata": {},
   "outputs": [],
   "source": [
    "#теперь построим стекинг(блендинг)"
   ]
  },
  {
   "cell_type": "code",
   "execution_count": 28,
   "metadata": {
    "_uuid": "899c13a3e09b8bf0b8a71c705a86e20c0dd1a4b9"
   },
   "outputs": [],
   "source": [
    "X_train, X_valid, y_train, y_valid = train_test_split(df1, y, test_size = 0.3, random_state=17)"
   ]
  },
  {
   "cell_type": "code",
   "execution_count": 29,
   "metadata": {
    "_uuid": "18023e02b465c57f0631702caa346b2d9b4e88a7"
   },
   "outputs": [],
   "source": [
    "X_train_part1 = X_train.reset_index(drop=True).loc[0:220,]\n",
    "X_train_part2 = X_train.reset_index(drop=True).loc[221:,]\n",
    "\n",
    "y_train_part1 = y_train.reset_index(drop=True).loc[0:220,]\n",
    "y_train_part2 = y_train.reset_index(drop=True).loc[221:,]"
   ]
  },
  {
   "cell_type": "code",
   "execution_count": null,
   "metadata": {
    "_uuid": "e9d192decb222227ced9e86d860c221192307eb0"
   },
   "outputs": [],
   "source": []
  },
  {
   "cell_type": "code",
   "execution_count": null,
   "metadata": {
    "_uuid": "0b691a2ff5e2de70f280a0e6fa3576f5da76716a"
   },
   "outputs": [],
   "source": []
  },
  {
   "cell_type": "code",
   "execution_count": 30,
   "metadata": {
    "_uuid": "53bed834a439e63c2fc01a15c47df46c05b698fb"
   },
   "outputs": [
    {
     "data": {
      "text/plain": [
       "0.8514851485148515"
      ]
     },
     "execution_count": 30,
     "metadata": {},
     "output_type": "execute_result"
    }
   ],
   "source": [
    "# bagging over trees\n",
    "bc = BaggingClassifier(base_estimator=clf_tree, n_estimators=40, random_state=17)\n",
    "bc.fit(X_train_part1, y_train_part1)\n",
    "bc_preds_part2 = bc.predict(X_train_part2)\n",
    "accuracy_score(y_train_part2, bc_preds_part2)                                            "
   ]
  },
  {
   "cell_type": "code",
   "execution_count": 31,
   "metadata": {
    "_uuid": "cd2fa3ccf30bd6800b596394539ecafc696c17ee"
   },
   "outputs": [
    {
     "data": {
      "text/plain": [
       "0.8848920863309353"
      ]
     },
     "execution_count": 31,
     "metadata": {},
     "output_type": "execute_result"
    }
   ],
   "source": [
    "bc_valid = bc.predict(X_valid)\n",
    "accuracy_score(y_valid, bc_valid) "
   ]
  },
  {
   "cell_type": "code",
   "execution_count": null,
   "metadata": {
    "_uuid": "970e4a447e00a3de874cf70bf656f1c956735195"
   },
   "outputs": [],
   "source": []
  },
  {
   "cell_type": "code",
   "execution_count": 32,
   "metadata": {
    "_uuid": "6aac89dd02e630e26a2d88860d348515e19b8bab"
   },
   "outputs": [
    {
     "data": {
      "text/plain": [
       "0.801980198019802"
      ]
     },
     "execution_count": 32,
     "metadata": {},
     "output_type": "execute_result"
    }
   ],
   "source": [
    "knn = KNeighborsClassifier(n_neighbors=6)\n",
    "knn.fit(X_train_part1, y_train_part1)\n",
    "knn_pred = knn.predict(X_train_part2)\n",
    "accuracy_score(y_train_part2, knn_pred)"
   ]
  },
  {
   "cell_type": "code",
   "execution_count": 33,
   "metadata": {
    "_uuid": "49e9c0d6a9ddac6647587c7f2d2a5b0d0d479d5d"
   },
   "outputs": [
    {
     "data": {
      "text/plain": [
       "0.8129496402877698"
      ]
     },
     "execution_count": 33,
     "metadata": {},
     "output_type": "execute_result"
    }
   ],
   "source": [
    "knn_valid = knn.predict(X_valid)\n",
    "accuracy_score(y_valid, knn_valid) "
   ]
  },
  {
   "cell_type": "code",
   "execution_count": null,
   "metadata": {
    "_uuid": "0fdc22d2e04aaa3598c70e43e55a11e10e05124f"
   },
   "outputs": [],
   "source": []
  },
  {
   "cell_type": "code",
   "execution_count": 34,
   "metadata": {
    "_uuid": "8a7051b0e7f0d088c51567d8b40c412711b8544d"
   },
   "outputs": [
    {
     "data": {
      "text/plain": [
       "0.8118811881188119"
      ]
     },
     "execution_count": 34,
     "metadata": {},
     "output_type": "execute_result"
    }
   ],
   "source": [
    "logit = LogisticRegression(random_state=17, multi_class='ovr', class_weight='balanced')\n",
    "logit.fit(X_train_part1, y_train_part1)\n",
    "log_predict = logit.predict(X_train_part2)\n",
    "accuracy_score(y_train_part2, log_predict)"
   ]
  },
  {
   "cell_type": "code",
   "execution_count": 35,
   "metadata": {
    "_uuid": "ab4e702cdab25fb64700d99a0f7b53192bfe3734"
   },
   "outputs": [
    {
     "data": {
      "text/plain": [
       "0.8705035971223022"
      ]
     },
     "execution_count": 35,
     "metadata": {},
     "output_type": "execute_result"
    }
   ],
   "source": [
    "log_predict_valid = logit.predict(X_valid)\n",
    "accuracy_score(y_valid, log_predict_valid) "
   ]
  },
  {
   "cell_type": "code",
   "execution_count": null,
   "metadata": {
    "_uuid": "5982f028e26d6b6d97ac95bed0ca3cbaa6f61547"
   },
   "outputs": [],
   "source": []
  },
  {
   "cell_type": "code",
   "execution_count": 36,
   "metadata": {
    "_uuid": "e5999f5c876e9f071f43a51ed1f8842f4412361d"
   },
   "outputs": [
    {
     "data": {
      "text/plain": [
       "0.8910891089108911"
      ]
     },
     "execution_count": 36,
     "metadata": {},
     "output_type": "execute_result"
    }
   ],
   "source": [
    "rfc = RandomForestClassifier(max_depth=4,  max_features=None, random_state=17)\n",
    "rfc.fit(X_train_part1, y_train_part1)\n",
    "rfc_preds_part2 = rfc.predict(X_train_part2)\n",
    "accuracy_score(y_train_part2, rfc_preds_part2)"
   ]
  },
  {
   "cell_type": "code",
   "execution_count": 37,
   "metadata": {
    "_uuid": "a145530bbe51632bc16fe8a30177dcde81cb6340"
   },
   "outputs": [
    {
     "data": {
      "text/plain": [
       "0.841726618705036"
      ]
     },
     "execution_count": 37,
     "metadata": {},
     "output_type": "execute_result"
    }
   ],
   "source": [
    "rfc_valid = rfc.predict(X_valid)\n",
    "accuracy_score(y_valid, rfc_valid) "
   ]
  },
  {
   "cell_type": "code",
   "execution_count": null,
   "metadata": {
    "_uuid": "648fc594b27aef7ec5bc93ba9c3e1f7f6ee585a7"
   },
   "outputs": [],
   "source": []
  },
  {
   "cell_type": "code",
   "execution_count": 38,
   "metadata": {
    "_uuid": "8212e3ea7be736797c5f4e951ca03e9628598df9"
   },
   "outputs": [],
   "source": [
    "d1 = {'BaggingClassifier_train': bc_preds_part2, 'RandomForestClassifier_train': rfc_preds_part2, \\\n",
    "      'KNeighborsClassifier_train': knn_pred, 'LogisticRegression_train': log_predict}\n",
    "df1 = pd.DataFrame(data=d1)\n",
    "\n",
    "d2 = {'BaggingClassifier_test': bc_valid, 'RandomForestClassifier_test': rfc_valid, \\\n",
    "      'KNeighborsClassifier_test': knn_valid, 'LogisticRegression_test': log_predict_valid}\n",
    "df2 = pd.DataFrame(data=d2)"
   ]
  },
  {
   "cell_type": "code",
   "execution_count": null,
   "metadata": {
    "_uuid": "2c845df693bd58136dd47317d2f6aad64fd3d440"
   },
   "outputs": [],
   "source": []
  },
  {
   "cell_type": "code",
   "execution_count": 39,
   "metadata": {
    "_uuid": "74c80e9ba2f59cebe25da950ec8cd6f438e01ff6"
   },
   "outputs": [
    {
     "data": {
      "text/plain": [
       "0.841726618705036"
      ]
     },
     "execution_count": 39,
     "metadata": {},
     "output_type": "execute_result"
    }
   ],
   "source": [
    "logit = LogisticRegression(random_state=17, multi_class='ovr', class_weight='balanced')\n",
    "logit.fit(df1, y_train_part2)\n",
    "log_predict = logit.predict(df2)\n",
    "accuracy_score(y_valid, log_predict)"
   ]
  },
  {
   "cell_type": "code",
   "execution_count": 40,
   "metadata": {
    "_uuid": "ce6867939018f561dd0fa6fa2ee559c809626aff"
   },
   "outputs": [
    {
     "name": "stdout",
     "output_type": "stream",
     "text": [
      "0.8561151079136691\n",
      "0.8633093525179856\n",
      "0.8489208633093526\n"
     ]
    }
   ],
   "source": [
    "# т.к. задача мультиклассовой классификации, мы можем сести ее к построению нескольких бинарных классификаторов  по схемам\n",
    "# Один против всех (one-versus-all) и Все против всех (all-versus-all)\n",
    "logit = LogisticRegression(random_state=17, multi_class='ovr', class_weight='balanced')\n",
    "ovr = OneVsRestClassifier(logit)\n",
    "ovr.fit(df1, y_train_part2)\n",
    "Y_pred_ovr = ovr.predict(df2)\n",
    "ovr_jaccard_score = jaccard_similarity_score(y_valid, Y_pred_ovr)\n",
    "print(ovr_jaccard_score)\n",
    "\n",
    "logit = LogisticRegression(random_state=17)\n",
    "ovo = OneVsOneClassifier(logit)\n",
    "ovo.fit(df1, y_train_part2)\n",
    "Y_pred_ovr = ovo.predict(df2)\n",
    "ovr_jaccard_score = jaccard_similarity_score(y_valid, Y_pred_ovr)\n",
    "print(ovr_jaccard_score)\n",
    "\n",
    "logit = LogisticRegression(random_state=17)\n",
    "occ = OutputCodeClassifier(logit)\n",
    "occ.fit(df1, y_train_part2)\n",
    "Y_pred_ovr = occ.predict(df2)\n",
    "ovr_jaccard_score = jaccard_similarity_score(y_valid, Y_pred_ovr)\n",
    "print(ovr_jaccard_score)"
   ]
  }
 ],
 "metadata": {
  "kernelspec": {
   "display_name": "Python 3",
   "language": "python",
   "name": "python3"
  },
  "language_info": {
   "codemirror_mode": {
    "name": "ipython",
    "version": 3
   },
   "file_extension": ".py",
   "mimetype": "text/x-python",
   "name": "python",
   "nbconvert_exporter": "python",
   "pygments_lexer": "ipython3",
   "version": "3.6.4"
  }
 },
 "nbformat": 4,
 "nbformat_minor": 1
}
