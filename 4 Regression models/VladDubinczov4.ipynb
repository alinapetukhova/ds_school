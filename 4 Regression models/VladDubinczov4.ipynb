{
 "cells": [
  {
   "cell_type": "code",
   "execution_count": 1,
   "metadata": {},
   "outputs": [],
   "source": [
    "import numpy as np\n",
    "import pandas as pd"
   ]
  },
  {
   "cell_type": "code",
   "execution_count": 2,
   "metadata": {},
   "outputs": [],
   "source": [
    "df = pd.read_csv('m1.csv')\n",
    "df.__delitem__('suicides_pop')"
   ]
  },
  {
   "cell_type": "code",
   "execution_count": 3,
   "metadata": {},
   "outputs": [
    {
     "data": {
      "text/html": [
       "<div>\n",
       "<style scoped>\n",
       "    .dataframe tbody tr th:only-of-type {\n",
       "        vertical-align: middle;\n",
       "    }\n",
       "\n",
       "    .dataframe tbody tr th {\n",
       "        vertical-align: top;\n",
       "    }\n",
       "\n",
       "    .dataframe thead th {\n",
       "        text-align: right;\n",
       "    }\n",
       "</style>\n",
       "<table border=\"1\" class=\"dataframe\">\n",
       "  <thead>\n",
       "    <tr style=\"text-align: right;\">\n",
       "      <th></th>\n",
       "      <th>sex</th>\n",
       "      <th>suicides_no</th>\n",
       "      <th>population</th>\n",
       "      <th>gdp_per_capita ($)</th>\n",
       "      <th>lvl_gdp</th>\n",
       "      <th>GDP_for_group</th>\n",
       "      <th>Boomers</th>\n",
       "      <th>G.I. Generation</th>\n",
       "      <th>Generation X</th>\n",
       "      <th>Generation Z</th>\n",
       "      <th>Millenials</th>\n",
       "      <th>Silent</th>\n",
       "    </tr>\n",
       "  </thead>\n",
       "  <tbody>\n",
       "    <tr>\n",
       "      <th>0</th>\n",
       "      <td>1.0</td>\n",
       "      <td>21.0</td>\n",
       "      <td>312900.0</td>\n",
       "      <td>796.0</td>\n",
       "      <td>0.0</td>\n",
       "      <td>249068400.0</td>\n",
       "      <td>0.0</td>\n",
       "      <td>0.0</td>\n",
       "      <td>1.0</td>\n",
       "      <td>0.0</td>\n",
       "      <td>0.0</td>\n",
       "      <td>0.0</td>\n",
       "    </tr>\n",
       "    <tr>\n",
       "      <th>1</th>\n",
       "      <td>1.0</td>\n",
       "      <td>16.0</td>\n",
       "      <td>308000.0</td>\n",
       "      <td>796.0</td>\n",
       "      <td>0.0</td>\n",
       "      <td>245168000.0</td>\n",
       "      <td>0.0</td>\n",
       "      <td>0.0</td>\n",
       "      <td>0.0</td>\n",
       "      <td>0.0</td>\n",
       "      <td>0.0</td>\n",
       "      <td>1.0</td>\n",
       "    </tr>\n",
       "    <tr>\n",
       "      <th>2</th>\n",
       "      <td>0.0</td>\n",
       "      <td>14.0</td>\n",
       "      <td>289700.0</td>\n",
       "      <td>796.0</td>\n",
       "      <td>0.0</td>\n",
       "      <td>230601200.0</td>\n",
       "      <td>0.0</td>\n",
       "      <td>0.0</td>\n",
       "      <td>1.0</td>\n",
       "      <td>0.0</td>\n",
       "      <td>0.0</td>\n",
       "      <td>0.0</td>\n",
       "    </tr>\n",
       "    <tr>\n",
       "      <th>3</th>\n",
       "      <td>1.0</td>\n",
       "      <td>1.0</td>\n",
       "      <td>21800.0</td>\n",
       "      <td>796.0</td>\n",
       "      <td>0.0</td>\n",
       "      <td>17352800.0</td>\n",
       "      <td>0.0</td>\n",
       "      <td>1.0</td>\n",
       "      <td>0.0</td>\n",
       "      <td>0.0</td>\n",
       "      <td>0.0</td>\n",
       "      <td>0.0</td>\n",
       "    </tr>\n",
       "    <tr>\n",
       "      <th>4</th>\n",
       "      <td>1.0</td>\n",
       "      <td>9.0</td>\n",
       "      <td>274300.0</td>\n",
       "      <td>796.0</td>\n",
       "      <td>0.0</td>\n",
       "      <td>218342800.0</td>\n",
       "      <td>1.0</td>\n",
       "      <td>0.0</td>\n",
       "      <td>0.0</td>\n",
       "      <td>0.0</td>\n",
       "      <td>0.0</td>\n",
       "      <td>0.0</td>\n",
       "    </tr>\n",
       "  </tbody>\n",
       "</table>\n",
       "</div>"
      ],
      "text/plain": [
       "   sex  suicides_no  population  gdp_per_capita ($)  lvl_gdp  GDP_for_group  \\\n",
       "0  1.0         21.0    312900.0               796.0      0.0    249068400.0   \n",
       "1  1.0         16.0    308000.0               796.0      0.0    245168000.0   \n",
       "2  0.0         14.0    289700.0               796.0      0.0    230601200.0   \n",
       "3  1.0          1.0     21800.0               796.0      0.0     17352800.0   \n",
       "4  1.0          9.0    274300.0               796.0      0.0    218342800.0   \n",
       "\n",
       "   Boomers  G.I. Generation  Generation X  Generation Z  Millenials  Silent  \n",
       "0      0.0              0.0           1.0           0.0         0.0     0.0  \n",
       "1      0.0              0.0           0.0           0.0         0.0     1.0  \n",
       "2      0.0              0.0           1.0           0.0         0.0     0.0  \n",
       "3      0.0              1.0           0.0           0.0         0.0     0.0  \n",
       "4      1.0              0.0           0.0           0.0         0.0     0.0  "
      ]
     },
     "execution_count": 3,
     "metadata": {},
     "output_type": "execute_result"
    }
   ],
   "source": [
    "df.head()"
   ]
  },
  {
   "cell_type": "code",
   "execution_count": 4,
   "metadata": {},
   "outputs": [
    {
     "name": "stdout",
     "output_type": "stream",
     "text": [
      "Index(['sex', 'population', 'gdp_per_capita ($)', 'lvl_gdp', 'GDP_for_group',\n",
      "       'Boomers', 'G.I. Generation', 'Generation X', 'Generation Z',\n",
      "       'Millenials', 'Silent'],\n",
      "      dtype='object')\n"
     ]
    }
   ],
   "source": [
    "X = df.drop(('suicides_no'), axis=1)\n",
    "y = df['suicides_no']\n",
    "feature_names = X.columns\n",
    "print (feature_names)"
   ]
  },
  {
   "cell_type": "code",
   "execution_count": 5,
   "metadata": {},
   "outputs": [
    {
     "name": "stdout",
     "output_type": "stream",
     "text": [
      "(27820, 11)\n",
      "(27820,)\n"
     ]
    }
   ],
   "source": [
    "print (X.shape)\n",
    "print (y.shape)\n",
    "N, d = X.shape"
   ]
  },
  {
   "cell_type": "code",
   "execution_count": 6,
   "metadata": {},
   "outputs": [
    {
     "name": "stdout",
     "output_type": "stream",
     "text": [
      "19474 8346\n"
     ]
    }
   ],
   "source": [
    "from sklearn.model_selection import train_test_split\n",
    "\n",
    "X_train, X_test, y_train, y_test = train_test_split(X, y, test_size = 0.3, random_state = 17)\n",
    "\n",
    "N_train, _ = X_train.shape \n",
    "N_test,  _ = X_test.shape \n",
    "print (N_train, N_test)"
   ]
  },
  {
   "cell_type": "code",
   "execution_count": 22,
   "metadata": {},
   "outputs": [
    {
     "name": "stdout",
     "output_type": "stream",
     "text": [
      "204392.5238300868\n"
     ]
    }
   ],
   "source": [
    "from sklearn.ensemble import RandomForestRegressor\n",
    "from sklearn import metrics\n",
    "\n",
    "regr = RandomForestRegressor(max_depth=25, random_state=99, n_estimators=200)\n",
    "regr.fit(X_train, y_train)\n",
    "reg_pred = regr.predict(X_test)\n",
    "\n",
    "mse_rf = metrics.mean_squared_error(y_test, reg_pred)\n",
    "print(mse_rf)"
   ]
  },
  {
   "cell_type": "code",
   "execution_count": 23,
   "metadata": {},
   "outputs": [
    {
     "name": "stdout",
     "output_type": "stream",
     "text": [
      "98.17099295807442\n"
     ]
    }
   ],
   "source": [
    "mae_rf = metrics.mean_absolute_error(y_test, reg_pred)\n",
    "print(mae_rf)"
   ]
  },
  {
   "cell_type": "code",
   "execution_count": 24,
   "metadata": {},
   "outputs": [
    {
     "data": {
      "text/plain": [
       "0.7739857275084924"
      ]
     },
     "execution_count": 24,
     "metadata": {},
     "output_type": "execute_result"
    }
   ],
   "source": [
    "regr.score(X_test, y_test)"
   ]
  },
  {
   "cell_type": "code",
   "execution_count": 10,
   "metadata": {},
   "outputs": [
    {
     "name": "stdout",
     "output_type": "stream",
     "text": [
      "528475.7342892236\n"
     ]
    }
   ],
   "source": [
    "from sklearn.linear_model import LinearRegression\n",
    "from sklearn import metrics\n",
    "\n",
    "regl = LinearRegression(normalize=True)\n",
    "regl.fit(X_train, y_train)\n",
    "y_pred = regl.predict(X_test)\n",
    "\n",
    "mse_l = metrics.mean_squared_error(y_test, y_pred)\n",
    "print(mse_l)"
   ]
  },
  {
   "cell_type": "code",
   "execution_count": 11,
   "metadata": {},
   "outputs": [
    {
     "name": "stdout",
     "output_type": "stream",
     "text": [
      "255.3579291894443\n"
     ]
    }
   ],
   "source": [
    "mae_l = metrics.mean_absolute_error(y_test, y_pred)\n",
    "print(mae_l)"
   ]
  },
  {
   "cell_type": "code",
   "execution_count": 12,
   "metadata": {},
   "outputs": [
    {
     "data": {
      "text/plain": [
       "0.41561923901831094"
      ]
     },
     "execution_count": 12,
     "metadata": {},
     "output_type": "execute_result"
    }
   ],
   "source": [
    "regl.score(X_test, y_test)"
   ]
  },
  {
   "cell_type": "code",
   "execution_count": 13,
   "metadata": {},
   "outputs": [
    {
     "name": "stdout",
     "output_type": "stream",
     "text": [
      "205103.15652245295\n"
     ]
    }
   ],
   "source": [
    "from sklearn.ensemble import BaggingRegressor\n",
    "from sklearn.tree import DecisionTreeRegressor\n",
    "\n",
    "regb = BaggingRegressor(DecisionTreeRegressor(max_depth=25, random_state=150), max_samples=1.0, max_features=1.0,)\n",
    "regb.fit(X_train, y_train)\n",
    "pred_b = regb.predict(X_test)\n",
    "\n",
    "mse_b = metrics.mean_squared_error(y_test, pred_b)\n",
    "print(mse_b)"
   ]
  },
  {
   "cell_type": "code",
   "execution_count": 14,
   "metadata": {},
   "outputs": [
    {
     "name": "stdout",
     "output_type": "stream",
     "text": [
      "98.92104488394901\n"
     ]
    }
   ],
   "source": [
    "mae_b = metrics.mean_absolute_error(y_test, pred_b)\n",
    "print(mae_b)"
   ]
  },
  {
   "cell_type": "code",
   "execution_count": 15,
   "metadata": {},
   "outputs": [
    {
     "data": {
      "text/plain": [
       "0.7731999202394"
      ]
     },
     "execution_count": 15,
     "metadata": {},
     "output_type": "execute_result"
    }
   ],
   "source": [
    "regb.score(X_test, y_test)"
   ]
  },
  {
   "cell_type": "code",
   "execution_count": 16,
   "metadata": {},
   "outputs": [
    {
     "name": "stdout",
     "output_type": "stream",
     "text": [
      "688345.235175691\n"
     ]
    }
   ],
   "source": [
    "from sklearn.neighbors import KNeighborsRegressor\n",
    "\n",
    "regk = KNeighborsRegressor(n_neighbors = 500)\n",
    "regk.fit(X_train, y_train)\n",
    "pred_k = regk.predict(X_test)\n",
    "\n",
    "mse_k = metrics.mean_squared_error(y_test, pred_k)\n",
    "print(mse_k)"
   ]
  },
  {
   "cell_type": "code",
   "execution_count": 17,
   "metadata": {},
   "outputs": [
    {
     "name": "stdout",
     "output_type": "stream",
     "text": [
      "230.81305224059432\n"
     ]
    }
   ],
   "source": [
    "mae_k = metrics.mean_absolute_error(y_test, pred_k)\n",
    "print(mae_k)"
   ]
  },
  {
   "cell_type": "code",
   "execution_count": 18,
   "metadata": {},
   "outputs": [
    {
     "data": {
      "text/plain": [
       "0.2388378760831732"
      ]
     },
     "execution_count": 18,
     "metadata": {},
     "output_type": "execute_result"
    }
   ],
   "source": [
    "regk.score(X_test, y_test)"
   ]
  },
  {
   "cell_type": "code",
   "execution_count": 19,
   "metadata": {},
   "outputs": [],
   "source": [
    "pers_rf = (mse_rf + mae_rf) / 2\n",
    "pers_b = (mse_b + mae_b) / 2\n",
    "pers_l = (mse_l + mae_l) / 2\n",
    "pers_k = (mse_k + mae_k) / 2\n",
    "h = [pers_k, pers_l, pers_b, pers_rf]\n",
    "h = min(h)"
   ]
  },
  {
   "cell_type": "code",
   "execution_count": 20,
   "metadata": {},
   "outputs": [
    {
     "name": "stdout",
     "output_type": "stream",
     "text": [
      "Bagging mse: 205103.15652245295 mae 98.92104488394901\n"
     ]
    }
   ],
   "source": [
    "if pers_rf == h:\n",
    "    print ('Random Forest Regressor mse:', mse_rf, 'mae:', mae_rf)\n",
    "elif pers_l == h:\n",
    "    print ('Logistic Regression mse:', mse_l, 'mae:', mae_l)\n",
    "elif pers_k == h:\n",
    "    print ('K Neighbors Regressor mse:', mse_k, 'mae:', mae_k)\n",
    "elif pers_b == h:\n",
    "    print ('Bagging mse:', mse_b, 'mae', mae_b)"
   ]
  },
  {
   "cell_type": "code",
   "execution_count": 28,
   "metadata": {},
   "outputs": [
    {
     "name": "stdout",
     "output_type": "stream",
     "text": [
      "223155.05684693597\n"
     ]
    }
   ],
   "source": [
    "from mlxtend.regressor import StackingRegressor\n",
    "\n",
    "stregr = StackingRegressor(regressors=[regl, regb, regk], meta_regressor=regr)\n",
    "stregr.fit(X_train, y_train)\n",
    "pred_s = stregr.predict(X_test)\n",
    "\n",
    "mse_s = metrics.mean_squared_error(y_test, pred_s)\n",
    "print (mse_s)"
   ]
  },
  {
   "cell_type": "code",
   "execution_count": 29,
   "metadata": {},
   "outputs": [
    {
     "name": "stdout",
     "output_type": "stream",
     "text": [
      "100.82719584821743\n"
     ]
    }
   ],
   "source": [
    "mae_s = metrics.mean_absolute_error(y_test, pred_s)\n",
    "print(mae_s)"
   ]
  },
  {
   "cell_type": "code",
   "execution_count": 30,
   "metadata": {},
   "outputs": [
    {
     "data": {
      "text/plain": [
       "0.7532383920852735"
      ]
     },
     "execution_count": 30,
     "metadata": {},
     "output_type": "execute_result"
    }
   ],
   "source": [
    "stregr.score(X_test, y_test)"
   ]
  }
 ],
 "metadata": {
  "kernelspec": {
   "display_name": "Python 3",
   "language": "python",
   "name": "python3"
  },
  "language_info": {
   "codemirror_mode": {
    "name": "ipython",
    "version": 3
   },
   "file_extension": ".py",
   "mimetype": "text/x-python",
   "name": "python",
   "nbconvert_exporter": "python",
   "pygments_lexer": "ipython3",
   "version": "3.7.1"
  }
 },
 "nbformat": 4,
 "nbformat_minor": 1
}
