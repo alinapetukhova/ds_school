{
 "cells": [
  {
   "cell_type": "code",
   "execution_count": 39,
   "metadata": {
    "_cell_guid": "b1076dfc-b9ad-4769-8c92-a6c4dae69d19",
    "_uuid": "8f2839f25d086af736a60e9eeb907d3b93b6e0e5"
   },
   "outputs": [],
   "source": [
    "# This Python 3 environment comes with many helpful analytics libraries installed\n",
    "# It is defined by the kaggle/python docker image: https://github.com/kaggle/docker-python\n",
    "# For example, here's several helpful packages to load in \n",
    "\n",
    "from sklearn.model_selection import train_test_split, GridSearchCV\n",
    "\n",
    "from sklearn.metrics import mean_absolute_error\n",
    "from sklearn.metrics import mean_squared_error\n",
    "from sklearn.metrics import r2_score\n",
    "\n",
    "from sklearn.tree import DecisionTreeRegressor\n",
    "from sklearn.ensemble import BaggingRegressor\n",
    "from sklearn.ensemble import RandomForestRegressor\n",
    "from sklearn.linear_model import LinearRegression\n",
    "from sklearn.neighbors import KNeighborsRegressor\n",
    "from sklearn.metrics import make_scorer\n",
    "from sklearn.pipeline import Pipeline\n",
    "\n",
    "\n",
    "import numpy as np # linear algebra\n",
    "import pandas as pd # data processing, CSV file I/O (e.g. pd.read_csv)\n",
    "import seaborn as sns\n",
    "\n",
    "\n",
    "from sklearn.manifold import TSNE\n",
    "from sklearn.preprocessing import StandardScaler\n",
    "\n",
    "import pylab as plt\n",
    "%matplotlib inline\n",
    "\n",
    "import warnings\n",
    "warnings.filterwarnings('ignore') \n",
    "plt.rcParams['figure.figsize'] = (10, 8)\n",
    "# Any results you write to the current directory are saved as output."
   ]
  },
  {
   "cell_type": "code",
   "execution_count": 40,
   "metadata": {
    "_uuid": "cb8e167f02fb5b6cf1e78ba4d5bf29851b9c923e"
   },
   "outputs": [],
   "source": [
    "df = pd.read_csv('epldata_final.csv')"
   ]
  },
  {
   "cell_type": "code",
   "execution_count": 41,
   "metadata": {
    "_uuid": "9f75b98b70b13654ac57f753f7d688f8e27a23a8"
   },
   "outputs": [
    {
     "data": {
      "text/html": [
       "<div>\n",
       "<style scoped>\n",
       "    .dataframe tbody tr th:only-of-type {\n",
       "        vertical-align: middle;\n",
       "    }\n",
       "\n",
       "    .dataframe tbody tr th {\n",
       "        vertical-align: top;\n",
       "    }\n",
       "\n",
       "    .dataframe thead th {\n",
       "        text-align: right;\n",
       "    }\n",
       "</style>\n",
       "<table border=\"1\" class=\"dataframe\">\n",
       "  <thead>\n",
       "    <tr style=\"text-align: right;\">\n",
       "      <th></th>\n",
       "      <th>name</th>\n",
       "      <th>club</th>\n",
       "      <th>age</th>\n",
       "      <th>position</th>\n",
       "      <th>position_cat</th>\n",
       "      <th>market_value</th>\n",
       "      <th>page_views</th>\n",
       "      <th>fpl_value</th>\n",
       "      <th>fpl_sel</th>\n",
       "      <th>fpl_points</th>\n",
       "      <th>region</th>\n",
       "      <th>nationality</th>\n",
       "      <th>new_foreign</th>\n",
       "      <th>age_cat</th>\n",
       "      <th>club_id</th>\n",
       "      <th>big_club</th>\n",
       "      <th>new_signing</th>\n",
       "    </tr>\n",
       "  </thead>\n",
       "  <tbody>\n",
       "    <tr>\n",
       "      <th>0</th>\n",
       "      <td>Alexis Sanchez</td>\n",
       "      <td>Arsenal</td>\n",
       "      <td>28</td>\n",
       "      <td>LW</td>\n",
       "      <td>1</td>\n",
       "      <td>65.0</td>\n",
       "      <td>4329</td>\n",
       "      <td>12.0</td>\n",
       "      <td>17.10%</td>\n",
       "      <td>264</td>\n",
       "      <td>3.0</td>\n",
       "      <td>Chile</td>\n",
       "      <td>0</td>\n",
       "      <td>4</td>\n",
       "      <td>1</td>\n",
       "      <td>1</td>\n",
       "      <td>0</td>\n",
       "    </tr>\n",
       "    <tr>\n",
       "      <th>1</th>\n",
       "      <td>Mesut Ozil</td>\n",
       "      <td>Arsenal</td>\n",
       "      <td>28</td>\n",
       "      <td>AM</td>\n",
       "      <td>1</td>\n",
       "      <td>50.0</td>\n",
       "      <td>4395</td>\n",
       "      <td>9.5</td>\n",
       "      <td>5.60%</td>\n",
       "      <td>167</td>\n",
       "      <td>2.0</td>\n",
       "      <td>Germany</td>\n",
       "      <td>0</td>\n",
       "      <td>4</td>\n",
       "      <td>1</td>\n",
       "      <td>1</td>\n",
       "      <td>0</td>\n",
       "    </tr>\n",
       "    <tr>\n",
       "      <th>2</th>\n",
       "      <td>Petr Cech</td>\n",
       "      <td>Arsenal</td>\n",
       "      <td>35</td>\n",
       "      <td>GK</td>\n",
       "      <td>4</td>\n",
       "      <td>7.0</td>\n",
       "      <td>1529</td>\n",
       "      <td>5.5</td>\n",
       "      <td>5.90%</td>\n",
       "      <td>134</td>\n",
       "      <td>2.0</td>\n",
       "      <td>Czech Republic</td>\n",
       "      <td>0</td>\n",
       "      <td>6</td>\n",
       "      <td>1</td>\n",
       "      <td>1</td>\n",
       "      <td>0</td>\n",
       "    </tr>\n",
       "    <tr>\n",
       "      <th>3</th>\n",
       "      <td>Theo Walcott</td>\n",
       "      <td>Arsenal</td>\n",
       "      <td>28</td>\n",
       "      <td>RW</td>\n",
       "      <td>1</td>\n",
       "      <td>20.0</td>\n",
       "      <td>2393</td>\n",
       "      <td>7.5</td>\n",
       "      <td>1.50%</td>\n",
       "      <td>122</td>\n",
       "      <td>1.0</td>\n",
       "      <td>England</td>\n",
       "      <td>0</td>\n",
       "      <td>4</td>\n",
       "      <td>1</td>\n",
       "      <td>1</td>\n",
       "      <td>0</td>\n",
       "    </tr>\n",
       "    <tr>\n",
       "      <th>4</th>\n",
       "      <td>Laurent Koscielny</td>\n",
       "      <td>Arsenal</td>\n",
       "      <td>31</td>\n",
       "      <td>CB</td>\n",
       "      <td>3</td>\n",
       "      <td>22.0</td>\n",
       "      <td>912</td>\n",
       "      <td>6.0</td>\n",
       "      <td>0.70%</td>\n",
       "      <td>121</td>\n",
       "      <td>2.0</td>\n",
       "      <td>France</td>\n",
       "      <td>0</td>\n",
       "      <td>4</td>\n",
       "      <td>1</td>\n",
       "      <td>1</td>\n",
       "      <td>0</td>\n",
       "    </tr>\n",
       "  </tbody>\n",
       "</table>\n",
       "</div>"
      ],
      "text/plain": [
       "                name     club  age position  position_cat  market_value  \\\n",
       "0     Alexis Sanchez  Arsenal   28       LW             1          65.0   \n",
       "1         Mesut Ozil  Arsenal   28       AM             1          50.0   \n",
       "2          Petr Cech  Arsenal   35       GK             4           7.0   \n",
       "3       Theo Walcott  Arsenal   28       RW             1          20.0   \n",
       "4  Laurent Koscielny  Arsenal   31       CB             3          22.0   \n",
       "\n",
       "   page_views  fpl_value fpl_sel  fpl_points  region     nationality  \\\n",
       "0        4329       12.0  17.10%         264     3.0           Chile   \n",
       "1        4395        9.5   5.60%         167     2.0         Germany   \n",
       "2        1529        5.5   5.90%         134     2.0  Czech Republic   \n",
       "3        2393        7.5   1.50%         122     1.0         England   \n",
       "4         912        6.0   0.70%         121     2.0          France   \n",
       "\n",
       "   new_foreign  age_cat  club_id  big_club  new_signing  \n",
       "0            0        4        1         1            0  \n",
       "1            0        4        1         1            0  \n",
       "2            0        6        1         1            0  \n",
       "3            0        4        1         1            0  \n",
       "4            0        4        1         1            0  "
      ]
     },
     "execution_count": 41,
     "metadata": {},
     "output_type": "execute_result"
    }
   ],
   "source": [
    "df.head()"
   ]
  },
  {
   "cell_type": "code",
   "execution_count": 42,
   "metadata": {
    "_uuid": "0e50799dab718a7eb26fcdd6a6eec0525ce9a249"
   },
   "outputs": [],
   "source": [
    "df['region'].fillna((df['region'].median()), inplace=True)\n",
    "#df.isnull().any()"
   ]
  },
  {
   "cell_type": "code",
   "execution_count": 43,
   "metadata": {},
   "outputs": [
    {
     "data": {
      "text/html": [
       "<div>\n",
       "<style scoped>\n",
       "    .dataframe tbody tr th:only-of-type {\n",
       "        vertical-align: middle;\n",
       "    }\n",
       "\n",
       "    .dataframe tbody tr th {\n",
       "        vertical-align: top;\n",
       "    }\n",
       "\n",
       "    .dataframe thead th {\n",
       "        text-align: right;\n",
       "    }\n",
       "</style>\n",
       "<table border=\"1\" class=\"dataframe\">\n",
       "  <thead>\n",
       "    <tr style=\"text-align: right;\">\n",
       "      <th></th>\n",
       "      <th>name</th>\n",
       "      <th>age</th>\n",
       "      <th>market_value</th>\n",
       "      <th>page_views</th>\n",
       "      <th>fpl_value</th>\n",
       "      <th>fpl_sel</th>\n",
       "      <th>fpl_points</th>\n",
       "      <th>new_foreign</th>\n",
       "      <th>age_cat</th>\n",
       "      <th>club_id</th>\n",
       "      <th>...</th>\n",
       "      <th>nationality_Venezuela</th>\n",
       "      <th>nationality_Wales</th>\n",
       "      <th>position_cat_1</th>\n",
       "      <th>position_cat_2</th>\n",
       "      <th>position_cat_3</th>\n",
       "      <th>position_cat_4</th>\n",
       "      <th>region_1.0</th>\n",
       "      <th>region_2.0</th>\n",
       "      <th>region_3.0</th>\n",
       "      <th>region_4.0</th>\n",
       "    </tr>\n",
       "  </thead>\n",
       "  <tbody>\n",
       "    <tr>\n",
       "      <th>0</th>\n",
       "      <td>Alexis Sanchez</td>\n",
       "      <td>28</td>\n",
       "      <td>65.0</td>\n",
       "      <td>4329</td>\n",
       "      <td>12.0</td>\n",
       "      <td>17.10%</td>\n",
       "      <td>264</td>\n",
       "      <td>0</td>\n",
       "      <td>4</td>\n",
       "      <td>1</td>\n",
       "      <td>...</td>\n",
       "      <td>0</td>\n",
       "      <td>0</td>\n",
       "      <td>1</td>\n",
       "      <td>0</td>\n",
       "      <td>0</td>\n",
       "      <td>0</td>\n",
       "      <td>0</td>\n",
       "      <td>0</td>\n",
       "      <td>1</td>\n",
       "      <td>0</td>\n",
       "    </tr>\n",
       "    <tr>\n",
       "      <th>1</th>\n",
       "      <td>Mesut Ozil</td>\n",
       "      <td>28</td>\n",
       "      <td>50.0</td>\n",
       "      <td>4395</td>\n",
       "      <td>9.5</td>\n",
       "      <td>5.60%</td>\n",
       "      <td>167</td>\n",
       "      <td>0</td>\n",
       "      <td>4</td>\n",
       "      <td>1</td>\n",
       "      <td>...</td>\n",
       "      <td>0</td>\n",
       "      <td>0</td>\n",
       "      <td>1</td>\n",
       "      <td>0</td>\n",
       "      <td>0</td>\n",
       "      <td>0</td>\n",
       "      <td>0</td>\n",
       "      <td>1</td>\n",
       "      <td>0</td>\n",
       "      <td>0</td>\n",
       "    </tr>\n",
       "    <tr>\n",
       "      <th>2</th>\n",
       "      <td>Petr Cech</td>\n",
       "      <td>35</td>\n",
       "      <td>7.0</td>\n",
       "      <td>1529</td>\n",
       "      <td>5.5</td>\n",
       "      <td>5.90%</td>\n",
       "      <td>134</td>\n",
       "      <td>0</td>\n",
       "      <td>6</td>\n",
       "      <td>1</td>\n",
       "      <td>...</td>\n",
       "      <td>0</td>\n",
       "      <td>0</td>\n",
       "      <td>0</td>\n",
       "      <td>0</td>\n",
       "      <td>0</td>\n",
       "      <td>1</td>\n",
       "      <td>0</td>\n",
       "      <td>1</td>\n",
       "      <td>0</td>\n",
       "      <td>0</td>\n",
       "    </tr>\n",
       "    <tr>\n",
       "      <th>3</th>\n",
       "      <td>Theo Walcott</td>\n",
       "      <td>28</td>\n",
       "      <td>20.0</td>\n",
       "      <td>2393</td>\n",
       "      <td>7.5</td>\n",
       "      <td>1.50%</td>\n",
       "      <td>122</td>\n",
       "      <td>0</td>\n",
       "      <td>4</td>\n",
       "      <td>1</td>\n",
       "      <td>...</td>\n",
       "      <td>0</td>\n",
       "      <td>0</td>\n",
       "      <td>1</td>\n",
       "      <td>0</td>\n",
       "      <td>0</td>\n",
       "      <td>0</td>\n",
       "      <td>1</td>\n",
       "      <td>0</td>\n",
       "      <td>0</td>\n",
       "      <td>0</td>\n",
       "    </tr>\n",
       "    <tr>\n",
       "      <th>4</th>\n",
       "      <td>Laurent Koscielny</td>\n",
       "      <td>31</td>\n",
       "      <td>22.0</td>\n",
       "      <td>912</td>\n",
       "      <td>6.0</td>\n",
       "      <td>0.70%</td>\n",
       "      <td>121</td>\n",
       "      <td>0</td>\n",
       "      <td>4</td>\n",
       "      <td>1</td>\n",
       "      <td>...</td>\n",
       "      <td>0</td>\n",
       "      <td>0</td>\n",
       "      <td>0</td>\n",
       "      <td>0</td>\n",
       "      <td>1</td>\n",
       "      <td>0</td>\n",
       "      <td>0</td>\n",
       "      <td>1</td>\n",
       "      <td>0</td>\n",
       "      <td>0</td>\n",
       "    </tr>\n",
       "  </tbody>\n",
       "</table>\n",
       "<p>5 rows × 114 columns</p>\n",
       "</div>"
      ],
      "text/plain": [
       "                name  age  market_value  page_views  fpl_value fpl_sel  \\\n",
       "0     Alexis Sanchez   28          65.0        4329       12.0  17.10%   \n",
       "1         Mesut Ozil   28          50.0        4395        9.5   5.60%   \n",
       "2          Petr Cech   35           7.0        1529        5.5   5.90%   \n",
       "3       Theo Walcott   28          20.0        2393        7.5   1.50%   \n",
       "4  Laurent Koscielny   31          22.0         912        6.0   0.70%   \n",
       "\n",
       "   fpl_points  new_foreign  age_cat  club_id     ...      \\\n",
       "0         264            0        4        1     ...       \n",
       "1         167            0        4        1     ...       \n",
       "2         134            0        6        1     ...       \n",
       "3         122            0        4        1     ...       \n",
       "4         121            0        4        1     ...       \n",
       "\n",
       "   nationality_Venezuela  nationality_Wales  position_cat_1  position_cat_2  \\\n",
       "0                      0                  0               1               0   \n",
       "1                      0                  0               1               0   \n",
       "2                      0                  0               0               0   \n",
       "3                      0                  0               1               0   \n",
       "4                      0                  0               0               0   \n",
       "\n",
       "   position_cat_3  position_cat_4  region_1.0  region_2.0  region_3.0  \\\n",
       "0               0               0           0           0           1   \n",
       "1               0               0           0           1           0   \n",
       "2               0               1           0           1           0   \n",
       "3               0               0           1           0           0   \n",
       "4               1               0           0           1           0   \n",
       "\n",
       "   region_4.0  \n",
       "0           0  \n",
       "1           0  \n",
       "2           0  \n",
       "3           0  \n",
       "4           0  \n",
       "\n",
       "[5 rows x 114 columns]"
      ]
     },
     "execution_count": 43,
     "metadata": {},
     "output_type": "execute_result"
    }
   ],
   "source": [
    "def create_df(data_fram, feature_list):\n",
    "    out = data_fram\n",
    "    out = pd.concat([out, pd.get_dummies(out[feature_list])], axis = 1)\n",
    "    out.drop(feature_list, axis = 1, inplace = True)\n",
    "    return out\n",
    "\n",
    "df1 = df\n",
    "features = ['club', 'position', 'nationality', 'position_cat', 'region']\n",
    "for feature in features:\n",
    "    df1[feature] = df1[feature].astype('object')\n",
    "df1 = create_df(df1, features)\n",
    "df1.head()"
   ]
  },
  {
   "cell_type": "code",
   "execution_count": 44,
   "metadata": {},
   "outputs": [],
   "source": [
    "y = df1['market_value']\n",
    "df1 = df1.drop(['name', 'market_value', 'fpl_sel'], axis=1)"
   ]
  },
  {
   "cell_type": "code",
   "execution_count": 45,
   "metadata": {},
   "outputs": [],
   "source": [
    "from sklearn import preprocessing\n",
    "# normalize the data attributes\n",
    "normalized_X = preprocessing.normalize(df1)\n",
    "# standardize the data attributes\n",
    "standardized_X = preprocessing.scale(df1)"
   ]
  },
  {
   "cell_type": "code",
   "execution_count": 46,
   "metadata": {},
   "outputs": [],
   "source": [
    "X_train, X_valid, y_train, y_valid = train_test_split(df1, y, test_size = 0.3, random_state=17)"
   ]
  },
  {
   "cell_type": "code",
   "execution_count": 47,
   "metadata": {
    "_uuid": "02967f762da285e3eaadb79774d4c1247e583c8d"
   },
   "outputs": [
    {
     "data": {
      "text/plain": [
       "DecisionTreeRegressor(criterion='mse', max_depth=4, max_features=None,\n",
       "           max_leaf_nodes=None, min_impurity_decrease=0.0,\n",
       "           min_impurity_split=None, min_samples_leaf=1,\n",
       "           min_samples_split=2, min_weight_fraction_leaf=0.0,\n",
       "           presort=False, random_state=17, splitter='best')"
      ]
     },
     "execution_count": 47,
     "metadata": {},
     "output_type": "execute_result"
    }
   ],
   "source": [
    "clf_tree = DecisionTreeRegressor(max_depth=4, random_state=17)\n",
    "clf_tree.fit(X_train, y_train)"
   ]
  },
  {
   "cell_type": "code",
   "execution_count": 48,
   "metadata": {
    "_uuid": "6e2f9ca350d4b3b41f7af67d8412a3081164e6d0"
   },
   "outputs": [
    {
     "data": {
      "text/plain": [
       "5.602330442709841"
      ]
     },
     "execution_count": 48,
     "metadata": {},
     "output_type": "execute_result"
    }
   ],
   "source": [
    "predicted = clf_tree.predict(X_valid)\n",
    "mae = mean_absolute_error(y_valid, predicted)\n",
    "mae"
   ]
  },
  {
   "cell_type": "code",
   "execution_count": 49,
   "metadata": {
    "_uuid": "a067bce43845c1b665c9e97b730aea5f11ce384f"
   },
   "outputs": [],
   "source": [
    "dict_model_result = {}\n",
    "\n",
    "# bagging over trees\n",
    "br = BaggingRegressor(base_estimator=clf_tree, n_estimators=40, random_state=17)\n",
    "br.fit(X_train, y_train)\n",
    "br_preds = br.predict(X_valid)\n",
    "dict_model_result['Accuracy Bagging on valid set'] = mean_absolute_error(y_valid, br_preds)"
   ]
  },
  {
   "cell_type": "code",
   "execution_count": 50,
   "metadata": {
    "_uuid": "4c9e899b3ca583cf6abca107c6316aa77eb7031b"
   },
   "outputs": [
    {
     "name": "stdout",
     "output_type": "stream",
     "text": [
      "лучшее значение скора на кросс-валидации - 4.316818385007596\n",
      "лучшие характеристики - {'base_estimator__max_depth': 4, 'base_estimator__max_leaf_nodes': 10, 'n_estimators': 40}\n"
     ]
    }
   ],
   "source": [
    "mae_scorer = make_scorer(mean_absolute_error)\n",
    "params = {'n_estimators': [40, 42], 'base_estimator__max_leaf_nodes':[10, 15], 'base_estimator__max_depth':[4, 5, 6]}\n",
    "\n",
    "# Grid Search to determine best parameters\n",
    "br_grid = GridSearchCV(estimator=br, param_grid=params, scoring=mae_scorer, cv=5, n_jobs=-1)\n",
    "br_grid.fit(X_train, y_train)\n",
    "best_params = br_grid.best_params_\n",
    "print('лучшее значение скора на кросс-валидации -', br_grid.best_score_)\n",
    "print('лучшие характеристики -',best_params)"
   ]
  },
  {
   "cell_type": "code",
   "execution_count": 51,
   "metadata": {
    "_uuid": "35bcbde48791d87010d780b75c39fbd62cef8845"
   },
   "outputs": [],
   "source": [
    "rfr = RandomForestRegressor(max_depth=4,  max_features=None, random_state=17)\n",
    "rfr.fit(X_train, y_train)\n",
    "rfr_preds = rfr.predict(X_valid)\n",
    "dict_model_result['Accuracy Random Forest on valid set'] = mean_absolute_error(y_valid, rfr_preds)"
   ]
  },
  {
   "cell_type": "code",
   "execution_count": 52,
   "metadata": {
    "_uuid": "7a813a2e8d129f1e00f81bb77523ec2710676c8f"
   },
   "outputs": [
    {
     "name": "stdout",
     "output_type": "stream",
     "text": [
      "лучшее значение скора на кросс-валидации - 4.274021117033404\n"
     ]
    }
   ],
   "source": [
    "max_depth_values = range(4, 8)\n",
    "forest_params = {'max_depth': max_depth_values}\n",
    "\n",
    "random_forest_regressor = RandomForestRegressor(random_state = 17)\n",
    "random_forest_regressor_grid = GridSearchCV(random_forest_regressor, param_grid=forest_params, scoring=mae_scorer, cv = 5)\n",
    "random_forest_regressor_grid.fit(X_train, y_train)\n",
    "print('лучшее значение скора на кросс-валидации -', random_forest_regressor_grid.best_score_)"
   ]
  },
  {
   "cell_type": "code",
   "execution_count": 53,
   "metadata": {
    "_uuid": "77677cfbaa3f35ef04f95792c91c1326663764f1"
   },
   "outputs": [],
   "source": [
    "lr = LinearRegression()\n",
    "lr.fit(X_train, y_train)\n",
    "lr_predict = lr.predict(X_valid)\n",
    "dict_model_result['Accuracy Logistic Regression on valid set'] = mean_absolute_error(y_valid, lr_predict)"
   ]
  },
  {
   "cell_type": "code",
   "execution_count": 54,
   "metadata": {
    "_uuid": "3870a4095d6e14a06fadb064e1e12535e0a565a5"
   },
   "outputs": [],
   "source": [
    "knn = KNeighborsRegressor(n_neighbors=6)\n",
    "knn.fit(X_train, y_train)\n",
    "knn_pred = knn.predict(X_valid)\n",
    "dict_model_result['Accuracy knn on valid set'] = mean_absolute_error(y_valid, knn_pred)"
   ]
  },
  {
   "cell_type": "code",
   "execution_count": 55,
   "metadata": {
    "_uuid": "a926646c9281c320c78f3237c628008772a41bac"
   },
   "outputs": [
    {
     "name": "stdout",
     "output_type": "stream",
     "text": [
      "Fitting 5 folds for each of 12 candidates, totalling 60 fits\n"
     ]
    },
    {
     "name": "stderr",
     "output_type": "stream",
     "text": [
      "[Parallel(n_jobs=-1)]: Done  46 tasks      | elapsed:    6.8s\n",
      "[Parallel(n_jobs=-1)]: Done  60 out of  60 | elapsed:    8.2s finished\n"
     ]
    },
    {
     "data": {
      "text/plain": [
       "({'knn__n_neighbors': 10}, 0.5219316310953624)"
      ]
     },
     "execution_count": 55,
     "metadata": {},
     "output_type": "execute_result"
    }
   ],
   "source": [
    "knn_pipe = Pipeline([('scaler', StandardScaler()), ('knn', KNeighborsRegressor(n_jobs=-1))])\n",
    "knn_params = {'knn__n_neighbors': range(3, 15)}\n",
    "knn_grid = GridSearchCV(knn_pipe, knn_params, cv=5, n_jobs=-1, verbose=True)\n",
    "knn_grid.fit(X_train, y_train)\n",
    "knn_grid.best_params_, knn_grid.best_score_"
   ]
  },
  {
   "cell_type": "code",
   "execution_count": 56,
   "metadata": {
    "_uuid": "fcd6fc2dfaa95e1590db6dbb17cd2c8988d98a8d"
   },
   "outputs": [],
   "source": [
    "def Simple_Ensembles(*args):\n",
    "    Ensembles_predict = []\n",
    "    arr = np.array(args).T\n",
    "    for i in range(0, arr.shape[0]):\n",
    "        one_line = list(arr[i])\n",
    "        set_one_line = set(one_line)\n",
    "        \n",
    "        most_common = None\n",
    "        qty_most_common = 0\n",
    "\n",
    "        for item in set_one_line:\n",
    "            qty = one_line.count(item)\n",
    "            if qty > qty_most_common:\n",
    "                qty_most_common = qty\n",
    "                most_common = item\n",
    "\n",
    "        Ensembles_predict.append(most_common)\n",
    "    return Ensembles_predict     "
   ]
  },
  {
   "cell_type": "code",
   "execution_count": 57,
   "metadata": {
    "_uuid": "267af75601b7014a5b3da705eea30ca04ed2a113"
   },
   "outputs": [],
   "source": [
    "result = Simple_Ensembles(br_preds, rfr_preds, lr_predict, knn_pred)"
   ]
  },
  {
   "cell_type": "code",
   "execution_count": 58,
   "metadata": {
    "_uuid": "c0d7fdfbaead0f82e0bd03428dbc07b74ff07545"
   },
   "outputs": [],
   "source": [
    "result = np.array([result])\n",
    "result = result.reshape((139,))"
   ]
  },
  {
   "cell_type": "code",
   "execution_count": 59,
   "metadata": {
    "_uuid": "62933cf11e55e16a9844bfc2b7eb517956a19b8f"
   },
   "outputs": [
    {
     "data": {
      "text/plain": [
       "4.760999238410592"
      ]
     },
     "execution_count": 59,
     "metadata": {},
     "output_type": "execute_result"
    }
   ],
   "source": [
    "mae = mean_absolute_error(y_valid, result)\n",
    "mae"
   ]
  },
  {
   "cell_type": "code",
   "execution_count": null,
   "metadata": {
    "_uuid": "edb297f962e40da7d85ae3c769d6e1a40e45bc9b"
   },
   "outputs": [],
   "source": []
  },
  {
   "cell_type": "code",
   "execution_count": 60,
   "metadata": {},
   "outputs": [],
   "source": [
    "X_train_part1 = X_train.reset_index(drop=True).loc[0:220,]\n",
    "X_train_part2 = X_train.reset_index(drop=True).loc[221:,]\n",
    "\n",
    "y_train_part1 = y_train.reset_index(drop=True).loc[0:220,]\n",
    "y_train_part2 = y_train.reset_index(drop=True).loc[221:,]"
   ]
  },
  {
   "cell_type": "code",
   "execution_count": 61,
   "metadata": {
    "_uuid": "1089caeadd413fa300d11ad2c4932a8ac3820c87"
   },
   "outputs": [
    {
     "data": {
      "text/plain": [
       "4.051736890170098"
      ]
     },
     "execution_count": 61,
     "metadata": {},
     "output_type": "execute_result"
    }
   ],
   "source": [
    "# bagging over trees\n",
    "bc = BaggingRegressor(base_estimator=clf_tree, n_estimators=40, random_state=17)\n",
    "bc.fit(X_train_part1, y_train_part1)\n",
    "bc_preds_part2 = bc.predict(X_train_part2)\n",
    "mean_absolute_error(y_train_part2, bc_preds_part2)                                            "
   ]
  },
  {
   "cell_type": "code",
   "execution_count": 62,
   "metadata": {
    "_uuid": "08621064825dd2716a63d67fd30b490c5bf5450b"
   },
   "outputs": [
    {
     "data": {
      "text/plain": [
       "4.249953965783229"
      ]
     },
     "execution_count": 62,
     "metadata": {},
     "output_type": "execute_result"
    }
   ],
   "source": [
    "bc_valid = bc.predict(X_valid)\n",
    "mean_absolute_error(y_valid, bc_valid) "
   ]
  },
  {
   "cell_type": "code",
   "execution_count": 63,
   "metadata": {
    "_uuid": "5031879bc90fd4fa5553f2de611cab98766af879"
   },
   "outputs": [
    {
     "data": {
      "text/plain": [
       "5.752887788778876"
      ]
     },
     "execution_count": 63,
     "metadata": {},
     "output_type": "execute_result"
    }
   ],
   "source": [
    "knn = KNeighborsRegressor(n_neighbors=6)\n",
    "knn.fit(X_train_part1, y_train_part1)\n",
    "knn_pred = knn.predict(X_train_part2)\n",
    "mean_absolute_error(y_train_part2, knn_pred)"
   ]
  },
  {
   "cell_type": "code",
   "execution_count": 64,
   "metadata": {
    "_uuid": "252a9560e8ba4dbfc07e1103a47035daf06ce7d9"
   },
   "outputs": [
    {
     "data": {
      "text/plain": [
       "4.7544364508393295"
      ]
     },
     "execution_count": 64,
     "metadata": {},
     "output_type": "execute_result"
    }
   ],
   "source": [
    "knn_valid = knn.predict(X_valid)\n",
    "mean_absolute_error(y_valid, knn_valid) "
   ]
  },
  {
   "cell_type": "code",
   "execution_count": 65,
   "metadata": {
    "_uuid": "27ff701b24861bf70edf37b1b0bed3405df2e427"
   },
   "outputs": [
    {
     "data": {
      "text/plain": [
       "5.011259005836436"
      ]
     },
     "execution_count": 65,
     "metadata": {},
     "output_type": "execute_result"
    }
   ],
   "source": [
    "logit = LinearRegression()\n",
    "logit.fit(X_train_part1, y_train_part1)\n",
    "log_predict = logit.predict(X_train_part2)\n",
    "mean_absolute_error(y_train_part2, log_predict)"
   ]
  },
  {
   "cell_type": "code",
   "execution_count": 66,
   "metadata": {
    "_uuid": "a76bf95d6a10e2b0fcf3f5802a9aa7b8a10fc7c0"
   },
   "outputs": [
    {
     "data": {
      "text/plain": [
       "5.067237558228073"
      ]
     },
     "execution_count": 66,
     "metadata": {},
     "output_type": "execute_result"
    }
   ],
   "source": [
    "log_predict_valid = logit.predict(X_valid)\n",
    "mean_absolute_error(y_valid, log_predict_valid) "
   ]
  },
  {
   "cell_type": "code",
   "execution_count": 67,
   "metadata": {
    "_uuid": "fce12f3cd2440decfc8aca53b7cbd43154ee159f"
   },
   "outputs": [
    {
     "data": {
      "text/plain": [
       "3.9021057925481974"
      ]
     },
     "execution_count": 67,
     "metadata": {},
     "output_type": "execute_result"
    }
   ],
   "source": [
    "rfc = RandomForestRegressor(max_depth=4,  max_features=None, random_state=17)\n",
    "rfc.fit(X_train_part1, y_train_part1)\n",
    "rfc_preds_part2 = rfc.predict(X_train_part2)\n",
    "mean_absolute_error(y_train_part2, rfc_preds_part2)"
   ]
  },
  {
   "cell_type": "code",
   "execution_count": 68,
   "metadata": {
    "_uuid": "5be6c0672c8fdc97b04f219f3ff21eec31cf0d71"
   },
   "outputs": [
    {
     "data": {
      "text/plain": [
       "4.109696857517745"
      ]
     },
     "execution_count": 68,
     "metadata": {},
     "output_type": "execute_result"
    }
   ],
   "source": [
    "rfc_valid = rfc.predict(X_valid)\n",
    "mean_absolute_error(y_valid, rfc_valid)"
   ]
  },
  {
   "cell_type": "code",
   "execution_count": 69,
   "metadata": {
    "_uuid": "2c6950a689f83532db4a50e34e690ea1dce0081d"
   },
   "outputs": [],
   "source": [
    "d1 = {'BaggingRegressor_train': bc_preds_part2, 'RandomForestRegressor_train': rfc_preds_part2, \\\n",
    "      'KNeighborsRegressor_train': knn_pred, 'LinearRegressor_train': log_predict}\n",
    "df1 = pd.DataFrame(data=d1)\n",
    "\n",
    "d2 = {'BaggingRegressor_test': bc_valid, 'RandomForestRegressor_test': rfc_valid, \\\n",
    "      'KNeighborsRegressor_test': knn_valid, 'LinearRegressor_test': log_predict_valid}\n",
    "df2 = pd.DataFrame(data=d2)"
   ]
  },
  {
   "cell_type": "code",
   "execution_count": 70,
   "metadata": {
    "_uuid": "e6a2077df8e88fa0e51c3c573ce775ebdac3c379"
   },
   "outputs": [
    {
     "data": {
      "text/plain": [
       "4.43028766875916"
      ]
     },
     "execution_count": 70,
     "metadata": {},
     "output_type": "execute_result"
    }
   ],
   "source": [
    "lr = LinearRegression()\n",
    "lr.fit(df1, y_train_part2)\n",
    "lr_predict = lr.predict(df2)\n",
    "mean_absolute_error(y_valid, lr_predict)"
   ]
  },
  {
   "cell_type": "code",
   "execution_count": 71,
   "metadata": {
    "_uuid": "14fcbf50746dea51a6995883a75d0e51abf1d7ec"
   },
   "outputs": [
    {
     "data": {
      "text/plain": [
       "44.12600633299211"
      ]
     },
     "execution_count": 71,
     "metadata": {},
     "output_type": "execute_result"
    }
   ],
   "source": [
    "mean_squared_error(y_valid, lr_predict)"
   ]
  },
  {
   "cell_type": "code",
   "execution_count": 72,
   "metadata": {
    "_uuid": "8a95c59110d79ec45cd05eecd62137eece75ed2c"
   },
   "outputs": [
    {
     "data": {
      "text/plain": [
       "0.6179034253858511"
      ]
     },
     "execution_count": 72,
     "metadata": {},
     "output_type": "execute_result"
    }
   ],
   "source": [
    "r2_score(y_valid, lr_predict)"
   ]
  }
 ],
 "metadata": {
  "kernelspec": {
   "display_name": "Python 3",
   "language": "python",
   "name": "python3"
  },
  "language_info": {
   "codemirror_mode": {
    "name": "ipython",
    "version": 3
   },
   "file_extension": ".py",
   "mimetype": "text/x-python",
   "name": "python",
   "nbconvert_exporter": "python",
   "pygments_lexer": "ipython3",
   "version": "3.6.4"
  }
 },
 "nbformat": 4,
 "nbformat_minor": 1
}
