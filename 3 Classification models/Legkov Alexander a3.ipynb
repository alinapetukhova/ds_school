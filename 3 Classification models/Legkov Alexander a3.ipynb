{
 "cells": [
  {
   "cell_type": "code",
   "execution_count": 1081,
   "metadata": {},
   "outputs": [],
   "source": [
    "import pandas as pd\n",
    "import numpy as np\n",
    "import matplotlib.pyplot as plt\n",
    "import seaborn as sns\n",
    "from sklearn.feature_extraction.text import CountVectorizer\n",
    "from sklearn.preprocessing import LabelEncoder, OneHotEncoder, StandardScaler\n",
    "from sklearn.tree import DecisionTreeClassifier\n",
    "from sklearn.model_selection import train_test_split, GridSearchCV, StratifiedKFold\n",
    "from sklearn.metrics import roc_auc_score, accuracy_score, recall_score, precision_score,\\\n",
    "                            confusion_matrix, mean_absolute_error, mean_squared_error, r2_score,\\\n",
    "                            explained_variance_score\n",
    "from scipy import stats\n",
    "\n",
    "import warnings\n",
    "warnings.simplefilter('ignore')\n",
    "%matplotlib inline"
   ]
  },
  {
   "cell_type": "markdown",
   "metadata": {},
   "source": [
    "# Laptop Prices"
   ]
  },
  {
   "cell_type": "code",
   "execution_count": 1082,
   "metadata": {},
   "outputs": [
    {
     "data": {
      "text/plain": [
       "(1303, 12)"
      ]
     },
     "execution_count": 1082,
     "metadata": {},
     "output_type": "execute_result"
    }
   ],
   "source": [
    "data = pd.read_csv('laptops.csv', sep=',', encoding='latin-1')\n",
    "data.drop(['Unnamed: 0'], axis=1, inplace=True)\n",
    "data.shape"
   ]
  },
  {
   "cell_type": "code",
   "execution_count": 1085,
   "metadata": {},
   "outputs": [],
   "source": [
    "data['Weight_kg'] = data['Weight'].apply(lambda x: float(x[:-2]))\n",
    "data['Ram_GB'] = data['Ram'].apply(lambda x: float(x[:-2]))\n",
    "data.drop(['Weight','Ram'], axis=1,inplace=True)"
   ]
  },
  {
   "cell_type": "code",
   "execution_count": 1086,
   "metadata": {},
   "outputs": [],
   "source": [
    "def Get_Memory(string_memory, type_memory):\n",
    "    memory = string_memory.split('+')\n",
    "    value_memory=0    \n",
    "    for m in memory:\n",
    "        index_memory = m.find(\"GB \"+type_memory)\n",
    "        if index_memory!=-1:\n",
    "            value_memory = m[:index_memory]\n",
    "        \n",
    "    return int(value_memory)"
   ]
  },
  {
   "cell_type": "code",
   "execution_count": 1087,
   "metadata": {
    "scrolled": true
   },
   "outputs": [],
   "source": [
    "data['SSD'] = data['Memory'].apply(lambda x: Get_Memory(x, 'SSD'))\n",
    "data['HDD'] = data['Memory'].apply(lambda x: Get_Memory(x, 'HDD'))\n",
    "data['Flash'] = data['Memory'].apply(lambda x: Get_Memory(x, 'Flash'))\n",
    "data.drop('Memory',axis=1,inplace=True)"
   ]
  },
  {
   "cell_type": "code",
   "execution_count": 1088,
   "metadata": {},
   "outputs": [],
   "source": [
    "def get_screen_resol(screen):\n",
    "    resolution = screen.split()[-1]    \n",
    "    width, height = resolution.split('x')     \n",
    "    return float(width)*float(height)    "
   ]
  },
  {
   "cell_type": "code",
   "execution_count": 1089,
   "metadata": {},
   "outputs": [],
   "source": [
    "#признак в виде произведения кол.пикселей по высоте на кол.пиксеоей по ширине\n",
    "data['Resolution'] = data['ScreenResolution'].apply(get_screen_resol)"
   ]
  },
  {
   "cell_type": "code",
   "execution_count": 1090,
   "metadata": {},
   "outputs": [],
   "source": [
    "def get_ghz(cpu):\n",
    "    return float(cpu.split()[-1][:-3])\n",
    "\n",
    "def get_cpu_series(cpu):\n",
    "    cpu_split = cpu.split()[0:3]\n",
    "        \n",
    "    return ' '.join(cpu.split()[0:3])"
   ]
  },
  {
   "cell_type": "code",
   "execution_count": 1091,
   "metadata": {
    "scrolled": true
   },
   "outputs": [],
   "source": [
    "data['Cpu_Ghz'] = data['Cpu'].apply(get_ghz)\n",
    "data['Cpu'] = data['Cpu'].apply(get_cpu_series)\n",
    "data['Gpu'] = data['Gpu'].apply(get_cpu_series)"
   ]
  },
  {
   "cell_type": "code",
   "execution_count": 1092,
   "metadata": {},
   "outputs": [],
   "source": [
    "# OneHotEncoding для типа ноутбука\n",
    "ohe = pd.get_dummies(data['TypeName'])\n",
    "data = data.join(ohe)"
   ]
  },
  {
   "cell_type": "code",
   "execution_count": 1099,
   "metadata": {},
   "outputs": [],
   "source": [
    "data = data[data['Price_euros']<4000]"
   ]
  },
  {
   "cell_type": "code",
   "execution_count": 1108,
   "metadata": {},
   "outputs": [],
   "source": [
    "data['Cpu_company'] = data['Cpu'].apply(lambda x: x.split()[0])"
   ]
  },
  {
   "cell_type": "code",
   "execution_count": 1113,
   "metadata": {},
   "outputs": [],
   "source": [
    "data['Gpu_'] = data['Gpu'].apply(lambda gpu: gpu.split()[0])"
   ]
  },
  {
   "cell_type": "code",
   "execution_count": 1117,
   "metadata": {},
   "outputs": [],
   "source": [
    "data.drop(['TypeName','Gpu_','ScreenResolution','Cpu_company'], axis=1,inplace=True)"
   ]
  },
  {
   "cell_type": "code",
   "execution_count": 1118,
   "metadata": {},
   "outputs": [],
   "source": [
    "ohe = pd.get_dummies(data['OpSys'])\n",
    "data = data.join(ohe)\n",
    "data.drop('OpSys',axis=1,inplace=True)"
   ]
  },
  {
   "cell_type": "code",
   "execution_count": 1119,
   "metadata": {},
   "outputs": [],
   "source": [
    "ohe = pd.get_dummies(data['Cpu'])\n",
    "data = data.join(ohe)\n",
    "data.drop('Cpu',axis=1,inplace=True)"
   ]
  },
  {
   "cell_type": "code",
   "execution_count": 1120,
   "metadata": {},
   "outputs": [],
   "source": [
    "ohe = pd.get_dummies(data['Company'])\n",
    "data = data.join(ohe)\n",
    "data.drop('Company',axis=1,inplace=True)"
   ]
  },
  {
   "cell_type": "code",
   "execution_count": 1121,
   "metadata": {},
   "outputs": [],
   "source": [
    "ohe = pd.get_dummies(data['Product'])\n",
    "data = data.join(ohe)\n",
    "data.drop('Product',axis=1,inplace=True)"
   ]
  },
  {
   "cell_type": "code",
   "execution_count": 1122,
   "metadata": {},
   "outputs": [],
   "source": [
    "ohe = pd.get_dummies(data['Gpu'])\n",
    "data = data.join(ohe)\n",
    "data.drop('Gpu',axis=1,inplace=True)"
   ]
  },
  {
   "cell_type": "code",
   "execution_count": 1123,
   "metadata": {
    "scrolled": true
   },
   "outputs": [
    {
     "name": "stdout",
     "output_type": "stream",
     "text": [
      "<class 'pandas.core.frame.DataFrame'>\n",
      "Int64Index: 1299 entries, 0 to 1302\n",
      "Columns: 750 entries, Inches to Nvidia Quadro M620M\n",
      "dtypes: float64(6), int64(3), uint8(741)\n",
      "memory usage: 1.1 MB\n"
     ]
    }
   ],
   "source": [
    "data.info()"
   ]
  },
  {
   "cell_type": "markdown",
   "metadata": {},
   "source": [
    "Все признаки числовые"
   ]
  },
  {
   "cell_type": "code",
   "execution_count": 1124,
   "metadata": {},
   "outputs": [],
   "source": [
    "data_class = data.drop('Price_euros',axis=1)\n",
    "target_class = data['Price_euros']>data['Price_euros'].mean()\n",
    "target_class = target_class.apply(int)"
   ]
  },
  {
   "cell_type": "code",
   "execution_count": 1132,
   "metadata": {},
   "outputs": [],
   "source": [
    "X_train, X_test, y_train, y_test = train_test_split(data_class,\n",
    "                                                    target_class,\n",
    "                                                    test_size = 0.2,\n",
    "                                                    random_state=17,\n",
    "                                                    shuffle=True)"
   ]
  },
  {
   "cell_type": "markdown",
   "metadata": {},
   "source": [
    "# Assignment 3"
   ]
  },
  {
   "cell_type": "code",
   "execution_count": 1146,
   "metadata": {},
   "outputs": [],
   "source": [
    "from sklearn.ensemble import BaggingClassifier, RandomForestClassifier, VotingClassifier\n",
    "from sklearn.linear_model import LogisticRegression\n",
    "from sklearn.neighbors import KNeighborsClassifier"
   ]
  },
  {
   "cell_type": "code",
   "execution_count": 1147,
   "metadata": {},
   "outputs": [],
   "source": [
    "scalar = StandardScaler()\n",
    "\n",
    "X_train_scale_class = scalar.fit_transform(X_train)\n",
    "X_test_scale_class = scalar.transform(X_test)\n",
    "\n",
    "y_train_class = y_train\n",
    "y_test_class = y_test"
   ]
  },
  {
   "cell_type": "code",
   "execution_count": 1148,
   "metadata": {},
   "outputs": [],
   "source": [
    "estimators = []"
   ]
  },
  {
   "cell_type": "markdown",
   "metadata": {},
   "source": [
    "#### 3.1. BaggingClassifier"
   ]
  },
  {
   "cell_type": "code",
   "execution_count": 1149,
   "metadata": {
    "scrolled": true
   },
   "outputs": [],
   "source": [
    "# base estimator is a decision tree\n",
    "bcl = BaggingClassifier().fit(X_train_scale_class, y_train_class)\n",
    "bcl_pred = bcl.predict(X_test_scale_class)\n",
    "estimators.append(('bcl',bcl))"
   ]
  },
  {
   "cell_type": "markdown",
   "metadata": {},
   "source": [
    "#### 3.2. RandomForestClassifier"
   ]
  },
  {
   "cell_type": "code",
   "execution_count": 1150,
   "metadata": {},
   "outputs": [],
   "source": [
    "rfc = RandomForestClassifier().fit(X_train_scale_class, y_train_class)\n",
    "rfc_pred = rfc.predict(X_test_scale_class)\n",
    "estimators.append(('rfc', rfc))"
   ]
  },
  {
   "cell_type": "markdown",
   "metadata": {},
   "source": [
    "#### 3.3. LogisticRegression"
   ]
  },
  {
   "cell_type": "code",
   "execution_count": 1151,
   "metadata": {},
   "outputs": [],
   "source": [
    "lr = LogisticRegression().fit(X_train_scale_class,y_train_class)\n",
    "lr_pred = lr.predict(X_test_scale_class)\n",
    "estimators.append(('lr',lr))"
   ]
  },
  {
   "cell_type": "markdown",
   "metadata": {},
   "source": [
    "#### 3.4. KNeighborsClassifier"
   ]
  },
  {
   "cell_type": "code",
   "execution_count": 1152,
   "metadata": {},
   "outputs": [],
   "source": [
    "knn = KNeighborsClassifier().fit(X_train_scale_class, y_train_class)\n",
    "knn_pred = knn.predict(X_test_scale_class)\n",
    "estimators.append(('knn',knn))"
   ]
  },
  {
   "cell_type": "markdown",
   "metadata": {},
   "source": [
    "#### 3.5. Compare models accuracy"
   ]
  },
  {
   "cell_type": "code",
   "execution_count": 1153,
   "metadata": {},
   "outputs": [
    {
     "name": "stdout",
     "output_type": "stream",
     "text": [
      "BaggingClassifier acc = 0.8576923076923076\n",
      "RandomForestClassifier acc = 0.8807692307692307\n",
      "LogisticRegression acc = 0.9076923076923077\n",
      "KNeighborsClassifier acc = 0.8038461538461539\n"
     ]
    }
   ],
   "source": [
    "print('BaggingClassifier acc =',accuracy_score(y_test_class, bcl_pred))\n",
    "print('RandomForestClassifier acc =',accuracy_score(y_test_class, rfc_pred))\n",
    "print('LogisticRegression acc =',accuracy_score(y_test_class, lr_pred))\n",
    "print('KNeighborsClassifier acc =',accuracy_score(y_test_class, knn_pred))"
   ]
  },
  {
   "cell_type": "markdown",
   "metadata": {},
   "source": [
    "#### 3.6. Ensemble of models "
   ]
  },
  {
   "cell_type": "code",
   "execution_count": 1154,
   "metadata": {},
   "outputs": [
    {
     "data": {
      "text/plain": [
       "VotingClassifier(estimators=[('bcl', BaggingClassifier(base_estimator=None, bootstrap=True,\n",
       "         bootstrap_features=False, max_features=1.0, max_samples=1.0,\n",
       "         n_estimators=10, n_jobs=None, oob_score=False, random_state=None,\n",
       "         verbose=0, warm_start=False)), ('rfc', RandomForestClassifier(bootstrap...ki',\n",
       "           metric_params=None, n_jobs=None, n_neighbors=5, p=2,\n",
       "           weights='uniform'))],\n",
       "         flatten_transform=None, n_jobs=None, voting='hard', weights=None)"
      ]
     },
     "execution_count": 1154,
     "metadata": {},
     "output_type": "execute_result"
    }
   ],
   "source": [
    "vc = VotingClassifier(estimators=estimators)\n",
    "vc.fit(X_train_scale_class, y_train_class)"
   ]
  },
  {
   "cell_type": "code",
   "execution_count": 1155,
   "metadata": {},
   "outputs": [],
   "source": [
    "vc_pred = vc.predict(X_test_scale_class)"
   ]
  },
  {
   "cell_type": "markdown",
   "metadata": {},
   "source": [
    "#### 3.7. Different accuracy metrics"
   ]
  },
  {
   "cell_type": "code",
   "execution_count": 1156,
   "metadata": {
    "scrolled": true
   },
   "outputs": [
    {
     "data": {
      "text/plain": [
       "0.8807692307692307"
      ]
     },
     "execution_count": 1156,
     "metadata": {},
     "output_type": "execute_result"
    }
   ],
   "source": [
    "accuracy_score(y_test_class, vc_pred)"
   ]
  },
  {
   "cell_type": "code",
   "execution_count": 1157,
   "metadata": {},
   "outputs": [
    {
     "data": {
      "text/plain": [
       "0.8724137931034482"
      ]
     },
     "execution_count": 1157,
     "metadata": {},
     "output_type": "execute_result"
    }
   ],
   "source": [
    "roc_auc_score(y_test_class, vc_pred)"
   ]
  },
  {
   "cell_type": "code",
   "execution_count": 1158,
   "metadata": {},
   "outputs": [
    {
     "data": {
      "text/plain": [
       "0.8"
      ]
     },
     "execution_count": 1158,
     "metadata": {},
     "output_type": "execute_result"
    }
   ],
   "source": [
    "recall_score(y_test_class, vc_pred)"
   ]
  },
  {
   "cell_type": "code",
   "execution_count": 1159,
   "metadata": {},
   "outputs": [
    {
     "data": {
      "text/plain": [
       "0.92"
      ]
     },
     "execution_count": 1159,
     "metadata": {},
     "output_type": "execute_result"
    }
   ],
   "source": [
    "precision_score(y_test_class, vc_pred)"
   ]
  },
  {
   "cell_type": "code",
   "execution_count": 1160,
   "metadata": {},
   "outputs": [
    {
     "data": {
      "text/plain": [
       "array([[137,   8],\n",
       "       [ 23,  92]])"
      ]
     },
     "execution_count": 1160,
     "metadata": {},
     "output_type": "execute_result"
    }
   ],
   "source": [
    "confusion_matrix(y_test_class, vc_pred)"
   ]
  }
 ],
 "metadata": {
  "kernelspec": {
   "display_name": "Python 3",
   "language": "python",
   "name": "python3"
  },
  "language_info": {
   "codemirror_mode": {
    "name": "ipython",
    "version": 3
   },
   "file_extension": ".py",
   "mimetype": "text/x-python",
   "name": "python",
   "nbconvert_exporter": "python",
   "pygments_lexer": "ipython3",
   "version": "3.6.7"
  }
 },
 "nbformat": 4,
 "nbformat_minor": 2
}
