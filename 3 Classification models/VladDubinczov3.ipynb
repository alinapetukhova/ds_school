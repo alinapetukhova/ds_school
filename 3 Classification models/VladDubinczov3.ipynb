{
 "cells": [
  {
   "cell_type": "code",
   "execution_count": 1,
   "metadata": {},
   "outputs": [],
   "source": [
    "import numpy as np\n",
    "import pandas as pd"
   ]
  },
  {
   "cell_type": "code",
   "execution_count": 2,
   "metadata": {},
   "outputs": [
    {
     "data": {
      "text/html": [
       "<div>\n",
       "<style scoped>\n",
       "    .dataframe tbody tr th:only-of-type {\n",
       "        vertical-align: middle;\n",
       "    }\n",
       "\n",
       "    .dataframe tbody tr th {\n",
       "        vertical-align: top;\n",
       "    }\n",
       "\n",
       "    .dataframe thead th {\n",
       "        text-align: right;\n",
       "    }\n",
       "</style>\n",
       "<table border=\"1\" class=\"dataframe\">\n",
       "  <thead>\n",
       "    <tr style=\"text-align: right;\">\n",
       "      <th></th>\n",
       "      <th>sex</th>\n",
       "      <th>suicides_no</th>\n",
       "      <th>population</th>\n",
       "      <th>suicides_pop</th>\n",
       "      <th>gdp_per_capita</th>\n",
       "      <th>lvl_gdp</th>\n",
       "      <th>GDP_for_group</th>\n",
       "      <th>Boomers</th>\n",
       "      <th>G_I_Generation</th>\n",
       "      <th>GenerationX</th>\n",
       "      <th>GenerationZ</th>\n",
       "      <th>Millenials</th>\n",
       "      <th>Silent</th>\n",
       "    </tr>\n",
       "  </thead>\n",
       "  <tbody>\n",
       "    <tr>\n",
       "      <th>0</th>\n",
       "      <td>1.0</td>\n",
       "      <td>21.0</td>\n",
       "      <td>312900.0</td>\n",
       "      <td>6.71</td>\n",
       "      <td>796.0</td>\n",
       "      <td>0.0</td>\n",
       "      <td>249068400.0</td>\n",
       "      <td>0.0</td>\n",
       "      <td>0.0</td>\n",
       "      <td>1.0</td>\n",
       "      <td>0.0</td>\n",
       "      <td>0.0</td>\n",
       "      <td>0.0</td>\n",
       "    </tr>\n",
       "    <tr>\n",
       "      <th>1</th>\n",
       "      <td>1.0</td>\n",
       "      <td>16.0</td>\n",
       "      <td>308000.0</td>\n",
       "      <td>5.19</td>\n",
       "      <td>796.0</td>\n",
       "      <td>0.0</td>\n",
       "      <td>245168000.0</td>\n",
       "      <td>0.0</td>\n",
       "      <td>0.0</td>\n",
       "      <td>0.0</td>\n",
       "      <td>0.0</td>\n",
       "      <td>0.0</td>\n",
       "      <td>1.0</td>\n",
       "    </tr>\n",
       "    <tr>\n",
       "      <th>2</th>\n",
       "      <td>0.0</td>\n",
       "      <td>14.0</td>\n",
       "      <td>289700.0</td>\n",
       "      <td>4.83</td>\n",
       "      <td>796.0</td>\n",
       "      <td>0.0</td>\n",
       "      <td>230601200.0</td>\n",
       "      <td>0.0</td>\n",
       "      <td>0.0</td>\n",
       "      <td>1.0</td>\n",
       "      <td>0.0</td>\n",
       "      <td>0.0</td>\n",
       "      <td>0.0</td>\n",
       "    </tr>\n",
       "    <tr>\n",
       "      <th>3</th>\n",
       "      <td>1.0</td>\n",
       "      <td>1.0</td>\n",
       "      <td>21800.0</td>\n",
       "      <td>4.59</td>\n",
       "      <td>796.0</td>\n",
       "      <td>0.0</td>\n",
       "      <td>17352800.0</td>\n",
       "      <td>0.0</td>\n",
       "      <td>1.0</td>\n",
       "      <td>0.0</td>\n",
       "      <td>0.0</td>\n",
       "      <td>0.0</td>\n",
       "      <td>0.0</td>\n",
       "    </tr>\n",
       "    <tr>\n",
       "      <th>4</th>\n",
       "      <td>1.0</td>\n",
       "      <td>9.0</td>\n",
       "      <td>274300.0</td>\n",
       "      <td>3.28</td>\n",
       "      <td>796.0</td>\n",
       "      <td>0.0</td>\n",
       "      <td>218342800.0</td>\n",
       "      <td>1.0</td>\n",
       "      <td>0.0</td>\n",
       "      <td>0.0</td>\n",
       "      <td>0.0</td>\n",
       "      <td>0.0</td>\n",
       "      <td>0.0</td>\n",
       "    </tr>\n",
       "  </tbody>\n",
       "</table>\n",
       "</div>"
      ],
      "text/plain": [
       "   sex  suicides_no  population  suicides_pop  gdp_per_capita  lvl_gdp  \\\n",
       "0  1.0         21.0    312900.0          6.71           796.0      0.0   \n",
       "1  1.0         16.0    308000.0          5.19           796.0      0.0   \n",
       "2  0.0         14.0    289700.0          4.83           796.0      0.0   \n",
       "3  1.0          1.0     21800.0          4.59           796.0      0.0   \n",
       "4  1.0          9.0    274300.0          3.28           796.0      0.0   \n",
       "\n",
       "   GDP_for_group  Boomers  G_I_Generation  GenerationX  GenerationZ  \\\n",
       "0    249068400.0      0.0             0.0          1.0          0.0   \n",
       "1    245168000.0      0.0             0.0          0.0          0.0   \n",
       "2    230601200.0      0.0             0.0          1.0          0.0   \n",
       "3     17352800.0      0.0             1.0          0.0          0.0   \n",
       "4    218342800.0      1.0             0.0          0.0          0.0   \n",
       "\n",
       "   Millenials  Silent  \n",
       "0         0.0     0.0  \n",
       "1         0.0     1.0  \n",
       "2         0.0     0.0  \n",
       "3         0.0     0.0  \n",
       "4         0.0     0.0  "
      ]
     },
     "execution_count": 2,
     "metadata": {},
     "output_type": "execute_result"
    }
   ],
   "source": [
    "df = pd.read_csv('m.csv')\n",
    "df.head()"
   ]
  },
  {
   "cell_type": "code",
   "execution_count": 3,
   "metadata": {},
   "outputs": [
    {
     "name": "stdout",
     "output_type": "stream",
     "text": [
      "Index(['suicides_no', 'population', 'suicides_pop', 'gdp_per_capita',\n",
      "       'lvl_gdp', 'GDP_for_group', 'Boomers', 'G_I_Generation', 'GenerationX',\n",
      "       'GenerationZ', 'Millenials', 'Silent'],\n",
      "      dtype='object')\n"
     ]
    }
   ],
   "source": [
    "X = df.drop(('sex'), axis=1)\n",
    "y = df['sex']\n",
    "feature_names = X.columns\n",
    "print (feature_names)"
   ]
  },
  {
   "cell_type": "code",
   "execution_count": 4,
   "metadata": {},
   "outputs": [
    {
     "name": "stdout",
     "output_type": "stream",
     "text": [
      "(27820, 12)\n",
      "(27820,)\n"
     ]
    }
   ],
   "source": [
    "print (X.shape)\n",
    "print (y.shape)\n",
    "N, d = X.shape"
   ]
  },
  {
   "cell_type": "code",
   "execution_count": 5,
   "metadata": {},
   "outputs": [
    {
     "name": "stdout",
     "output_type": "stream",
     "text": [
      "19474 8346\n"
     ]
    }
   ],
   "source": [
    "from sklearn.model_selection import train_test_split\n",
    "\n",
    "X_train, X_test, y_train, y_test = train_test_split(X, y, test_size = 0.3, random_state = 17)\n",
    "\n",
    "N_train, _ = X_train.shape \n",
    "N_test,  _ = X_test.shape \n",
    "print (N_train, N_test)"
   ]
  },
  {
   "cell_type": "code",
   "execution_count": 6,
   "metadata": {},
   "outputs": [
    {
     "name": "stdout",
     "output_type": "stream",
     "text": [
      "0.7910376228133238\n"
     ]
    }
   ],
   "source": [
    "from sklearn.ensemble import BaggingClassifier\n",
    "from sklearn.tree import DecisionTreeClassifier\n",
    "from sklearn import metrics\n",
    "\n",
    "bagging = BaggingClassifier(DecisionTreeClassifier(max_depth=25, random_state=99), max_samples=1.0, max_features=1.0)\n",
    "bagging.fit(X_train, y_train)\n",
    "predict0 = bagging.predict(X_test)\n",
    "pred_b = bagging.predict_proba(X_test)\n",
    "\n",
    "acc_b = metrics.accuracy_score(y_test,  predict0)\n",
    "print (acc_b)"
   ]
  },
  {
   "cell_type": "code",
   "execution_count": 7,
   "metadata": {},
   "outputs": [
    {
     "name": "stdout",
     "output_type": "stream",
     "text": [
      "0.7908569262751675\n"
     ]
    }
   ],
   "source": [
    "roc_b = metrics.roc_auc_score(y_test, predict0)\n",
    "print(roc_b)"
   ]
  },
  {
   "cell_type": "code",
   "execution_count": 8,
   "metadata": {},
   "outputs": [
    {
     "name": "stdout",
     "output_type": "stream",
     "text": [
      "0.8006230529595015\n"
     ]
    }
   ],
   "source": [
    "from sklearn import ensemble\n",
    "rf = ensemble.RandomForestClassifier(max_depth=25 ,n_estimators=100, random_state=99)\n",
    "rf.fit(X_train, y_train)\n",
    "predict_rf = rf.predict(X_test)\n",
    "\n",
    "acc_r = metrics.accuracy_score(y_test,  predict_rf)\n",
    "print(acc_r)"
   ]
  },
  {
   "cell_type": "code",
   "execution_count": 9,
   "metadata": {},
   "outputs": [
    {
     "name": "stdout",
     "output_type": "stream",
     "text": [
      "0.8005337843270126\n"
     ]
    }
   ],
   "source": [
    "roc_r = metrics.roc_auc_score(y_test, predict_rf)\n",
    "print(roc_r)"
   ]
  },
  {
   "cell_type": "code",
   "execution_count": 10,
   "metadata": {},
   "outputs": [
    {
     "name": "stderr",
     "output_type": "stream",
     "text": [
      "/anaconda3/lib/python3.7/site-packages/sklearn/linear_model/stochastic_gradient.py:183: FutureWarning: max_iter and tol parameters have been added in SGDClassifier in 0.19. If max_iter is set but tol is left unset, the default value for tol in 0.19 and 0.20 will be None (which is equivalent to -infinity, so it has no effect) but will change in 0.21 to 1e-3. Specify tol to silence this warning.\n",
      "  FutureWarning)\n"
     ]
    },
    {
     "name": "stdout",
     "output_type": "stream",
     "text": [
      "0.4972441888329739\n"
     ]
    }
   ],
   "source": [
    "from sklearn.linear_model import SGDClassifier\n",
    "\n",
    "classifier = SGDClassifier(loss='log',random_state=2, max_iter = 1000)\n",
    "classifier.fit(X_train, y_train)\n",
    "predict_cl = classifier.predict(X_test)\n",
    "pred_cl = classifier.predict_proba(X_test)\n",
    "\n",
    "acc_c = metrics.accuracy_score(y_test,  predict_cl)\n",
    "print(acc_c)"
   ]
  },
  {
   "cell_type": "code",
   "execution_count": 11,
   "metadata": {},
   "outputs": [
    {
     "name": "stdout",
     "output_type": "stream",
     "text": [
      "0.5\n"
     ]
    }
   ],
   "source": [
    "roc_c = metrics.roc_auc_score(y_test, predict_cl)\n",
    "print(roc_c)"
   ]
  },
  {
   "cell_type": "code",
   "execution_count": 12,
   "metadata": {},
   "outputs": [
    {
     "name": "stdout",
     "output_type": "stream",
     "text": [
      "0.51294033069734\n"
     ]
    }
   ],
   "source": [
    "from sklearn import neighbors\n",
    "\n",
    "knn = neighbors.KNeighborsClassifier(n_neighbors=17)\n",
    "knn.fit(X_train, y_train)\n",
    "predict_k = knn.predict(X_test)\n",
    "pred_k = knn.predict_proba(X_test)\n",
    "\n",
    "acc_k = metrics.accuracy_score(y_test, predict_k)\n",
    "print(acc_k)"
   ]
  },
  {
   "cell_type": "code",
   "execution_count": 13,
   "metadata": {},
   "outputs": [
    {
     "name": "stdout",
     "output_type": "stream",
     "text": [
      "0.5130292188774163\n"
     ]
    }
   ],
   "source": [
    "roc_k = metrics.roc_auc_score(y_test, predict_k)\n",
    "print(roc_k)"
   ]
  },
  {
   "cell_type": "code",
   "execution_count": 14,
   "metadata": {},
   "outputs": [],
   "source": [
    "per_b = (acc_b + roc_b) / 2\n",
    "per_r = (acc_r + roc_r) / 2\n",
    "per_c = (acc_c + roc_c) / 2\n",
    "per_k = (acc_k + roc_k) / 2"
   ]
  },
  {
   "cell_type": "code",
   "execution_count": 15,
   "metadata": {},
   "outputs": [],
   "source": [
    "t = [per_b, per_r, per_c, per_k]\n",
    "t = max(t)"
   ]
  },
  {
   "cell_type": "code",
   "execution_count": 16,
   "metadata": {},
   "outputs": [
    {
     "name": "stdout",
     "output_type": "stream",
     "text": [
      "Random Forest Classifier accuracy score: 0.8006230529595015 roc auc score: 0.8005337843270126\n"
     ]
    }
   ],
   "source": [
    "if per_b == t:\n",
    "    print ('Bagging Classifier accuracy score:', acc_b, 'roc auc score:', roc_b)\n",
    "elif per_r == t:\n",
    "    print ('Random Forest Classifier accuracy score:', acc_r, 'roc auc score:', roc_r)\n",
    "elif per_c == t:\n",
    "    print ('Linear classifier accuracy score:', acc_c, 'roc auc score:', roc_c)\n",
    "elif per_k == t:\n",
    "    print ('K Neighbors Classifier accuracy score:', acc_k, 'roc auc score:', roc_k)"
   ]
  },
  {
   "cell_type": "code",
   "execution_count": 17,
   "metadata": {},
   "outputs": [
    {
     "name": "stderr",
     "output_type": "stream",
     "text": [
      "/anaconda3/lib/python3.7/site-packages/sklearn/linear_model/stochastic_gradient.py:183: FutureWarning: max_iter and tol parameters have been added in SGDClassifier in 0.19. If max_iter is set but tol is left unset, the default value for tol in 0.19 and 0.20 will be None (which is equivalent to -infinity, so it has no effect) but will change in 0.21 to 1e-3. Specify tol to silence this warning.\n",
      "  FutureWarning)\n"
     ]
    },
    {
     "name": "stdout",
     "output_type": "stream",
     "text": [
      "0.7993197192966336\n"
     ]
    }
   ],
   "source": [
    "from sklearn.ensemble import VotingClassifier\n",
    "\n",
    "vot = VotingClassifier(estimators=[('lr', classifier), ('rf', rf), ('bg', bagging), ('kn', knn)], voting='hard')\n",
    "\n",
    "vot.fit(X_train, y_train)\n",
    "predict_v = vot.predict(X_test)\n",
    "\n",
    "roc_v = metrics.roc_auc_score(y_test, predict_v)\n",
    "print (roc_v)"
   ]
  },
  {
   "cell_type": "code",
   "execution_count": 18,
   "metadata": {},
   "outputs": [
    {
     "name": "stdout",
     "output_type": "stream",
     "text": [
      "0.7994248741912293\n"
     ]
    }
   ],
   "source": [
    "acc_v = metrics.accuracy_score(y_test, predict_v)\n",
    "print (acc_v)"
   ]
  }
 ],
 "metadata": {
  "kernelspec": {
   "display_name": "Python 3",
   "language": "python",
   "name": "python3"
  },
  "language_info": {
   "codemirror_mode": {
    "name": "ipython",
    "version": 3
   },
   "file_extension": ".py",
   "mimetype": "text/x-python",
   "name": "python",
   "nbconvert_exporter": "python",
   "pygments_lexer": "ipython3",
   "version": "3.7.1"
  }
 },
 "nbformat": 4,
 "nbformat_minor": 1
}
