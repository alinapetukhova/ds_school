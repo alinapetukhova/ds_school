{
 "cells": [
  {
   "cell_type": "code",
   "execution_count": 1081,
   "metadata": {},
   "outputs": [],
   "source": [
    "import pandas as pd\n",
    "import numpy as np\n",
    "import matplotlib.pyplot as plt\n",
    "import seaborn as sns\n",
    "from sklearn.feature_extraction.text import CountVectorizer\n",
    "from sklearn.preprocessing import LabelEncoder, OneHotEncoder, StandardScaler\n",
    "from sklearn.tree import DecisionTreeClassifier\n",
    "from sklearn.model_selection import train_test_split, GridSearchCV, StratifiedKFold\n",
    "from sklearn.metrics import roc_auc_score, accuracy_score, recall_score, precision_score,\\\n",
    "                            confusion_matrix, mean_absolute_error, mean_squared_error, r2_score,\\\n",
    "                            explained_variance_score\n",
    "from scipy import stats\n",
    "\n",
    "import warnings\n",
    "warnings.simplefilter('ignore')\n",
    "%matplotlib inline"
   ]
  },
  {
   "cell_type": "markdown",
   "metadata": {},
   "source": [
    "# Laptop Prices"
   ]
  },
  {
   "cell_type": "code",
   "execution_count": 1082,
   "metadata": {},
   "outputs": [
    {
     "data": {
      "text/plain": [
       "(1303, 12)"
      ]
     },
     "execution_count": 1082,
     "metadata": {},
     "output_type": "execute_result"
    }
   ],
   "source": [
    "data = pd.read_csv('laptops.csv', sep=',', encoding='latin-1')\n",
    "data.drop(['Unnamed: 0'], axis=1, inplace=True)\n",
    "data.shape"
   ]
  },
  {
   "cell_type": "code",
   "execution_count": 1085,
   "metadata": {},
   "outputs": [],
   "source": [
    "data['Weight_kg'] = data['Weight'].apply(lambda x: float(x[:-2]))\n",
    "data['Ram_GB'] = data['Ram'].apply(lambda x: float(x[:-2]))\n",
    "data.drop(['Weight','Ram'], axis=1,inplace=True)"
   ]
  },
  {
   "cell_type": "code",
   "execution_count": 1086,
   "metadata": {},
   "outputs": [],
   "source": [
    "def Get_Memory(string_memory, type_memory):\n",
    "    memory = string_memory.split('+')\n",
    "    value_memory=0    \n",
    "    for m in memory:\n",
    "        index_memory = m.find(\"GB \"+type_memory)\n",
    "        if index_memory!=-1:\n",
    "            value_memory = m[:index_memory]\n",
    "        \n",
    "    return int(value_memory)"
   ]
  },
  {
   "cell_type": "code",
   "execution_count": 1087,
   "metadata": {
    "scrolled": true
   },
   "outputs": [],
   "source": [
    "data['SSD'] = data['Memory'].apply(lambda x: Get_Memory(x, 'SSD'))\n",
    "data['HDD'] = data['Memory'].apply(lambda x: Get_Memory(x, 'HDD'))\n",
    "data['Flash'] = data['Memory'].apply(lambda x: Get_Memory(x, 'Flash'))\n",
    "data.drop('Memory',axis=1,inplace=True)"
   ]
  },
  {
   "cell_type": "code",
   "execution_count": 1088,
   "metadata": {},
   "outputs": [],
   "source": [
    "def get_screen_resol(screen):\n",
    "    resolution = screen.split()[-1]    \n",
    "    width, height = resolution.split('x')     \n",
    "    return float(width)*float(height)    "
   ]
  },
  {
   "cell_type": "code",
   "execution_count": 1089,
   "metadata": {},
   "outputs": [],
   "source": [
    "#признак в виде произведения кол.пикселей по высоте на кол.пиксеоей по ширине\n",
    "data['Resolution'] = data['ScreenResolution'].apply(get_screen_resol)"
   ]
  },
  {
   "cell_type": "code",
   "execution_count": 1090,
   "metadata": {},
   "outputs": [],
   "source": [
    "def get_ghz(cpu):\n",
    "    return float(cpu.split()[-1][:-3])\n",
    "\n",
    "def get_cpu_series(cpu):\n",
    "    cpu_split = cpu.split()[0:3]\n",
    "        \n",
    "    return ' '.join(cpu.split()[0:3])"
   ]
  },
  {
   "cell_type": "code",
   "execution_count": 1091,
   "metadata": {
    "scrolled": true
   },
   "outputs": [],
   "source": [
    "data['Cpu_Ghz'] = data['Cpu'].apply(get_ghz)\n",
    "data['Cpu'] = data['Cpu'].apply(get_cpu_series)\n",
    "data['Gpu'] = data['Gpu'].apply(get_cpu_series)"
   ]
  },
  {
   "cell_type": "code",
   "execution_count": 1092,
   "metadata": {},
   "outputs": [],
   "source": [
    "# OneHotEncoding для типа ноутбука\n",
    "ohe = pd.get_dummies(data['TypeName'])\n",
    "data = data.join(ohe)"
   ]
  },
  {
   "cell_type": "code",
   "execution_count": 1099,
   "metadata": {},
   "outputs": [],
   "source": [
    "data = data[data['Price_euros']<4000]"
   ]
  },
  {
   "cell_type": "code",
   "execution_count": 1108,
   "metadata": {},
   "outputs": [],
   "source": [
    "data['Cpu_company'] = data['Cpu'].apply(lambda x: x.split()[0])"
   ]
  },
  {
   "cell_type": "code",
   "execution_count": 1113,
   "metadata": {},
   "outputs": [],
   "source": [
    "data['Gpu_'] = data['Gpu'].apply(lambda gpu: gpu.split()[0])"
   ]
  },
  {
   "cell_type": "markdown",
   "metadata": {},
   "source": [
    "#### OneHotEncoding для категориальных признаков"
   ]
  },
  {
   "cell_type": "code",
   "execution_count": 1117,
   "metadata": {},
   "outputs": [],
   "source": [
    "data.drop(['TypeName','Gpu_','ScreenResolution','Cpu_company'], axis=1,inplace=True)"
   ]
  },
  {
   "cell_type": "code",
   "execution_count": 1118,
   "metadata": {},
   "outputs": [],
   "source": [
    "ohe = pd.get_dummies(data['OpSys'])\n",
    "data = data.join(ohe)\n",
    "data.drop('OpSys',axis=1,inplace=True)"
   ]
  },
  {
   "cell_type": "code",
   "execution_count": 1119,
   "metadata": {},
   "outputs": [],
   "source": [
    "ohe = pd.get_dummies(data['Cpu'])\n",
    "data = data.join(ohe)\n",
    "data.drop('Cpu',axis=1,inplace=True)"
   ]
  },
  {
   "cell_type": "code",
   "execution_count": 1120,
   "metadata": {},
   "outputs": [],
   "source": [
    "ohe = pd.get_dummies(data['Company'])\n",
    "data = data.join(ohe)\n",
    "data.drop('Company',axis=1,inplace=True)"
   ]
  },
  {
   "cell_type": "code",
   "execution_count": 1121,
   "metadata": {},
   "outputs": [],
   "source": [
    "ohe = pd.get_dummies(data['Product'])\n",
    "data = data.join(ohe)\n",
    "data.drop('Product',axis=1,inplace=True)"
   ]
  },
  {
   "cell_type": "code",
   "execution_count": 1122,
   "metadata": {},
   "outputs": [],
   "source": [
    "ohe = pd.get_dummies(data['Gpu'])\n",
    "data = data.join(ohe)\n",
    "data.drop('Gpu',axis=1,inplace=True)"
   ]
  },
  {
   "cell_type": "code",
   "execution_count": 1124,
   "metadata": {},
   "outputs": [],
   "source": [
    "data_class = data.drop('Price_euros',axis=1)\n",
    "target_class = data['Price_euros']>data['Price_euros'].mean()\n",
    "target_class = target_class.apply(int)"
   ]
  },
  {
   "cell_type": "code",
   "execution_count": 1132,
   "metadata": {},
   "outputs": [],
   "source": [
    "X_train, X_test, y_train, y_test = train_test_split(data_class,\n",
    "                                                    target_class,\n",
    "                                                    test_size = 0.2,\n",
    "                                                    random_state=17,\n",
    "                                                    shuffle=True)"
   ]
  },
  {
   "cell_type": "code",
   "execution_count": 1147,
   "metadata": {},
   "outputs": [],
   "source": [
    "scalar = StandardScaler()\n",
    "\n",
    "X_train_scale_class = scalar.fit_transform(X_train)\n",
    "X_test_scale_class = scalar.transform(X_test)\n",
    "\n",
    "y_train_class = y_train\n",
    "y_test_class = y_test"
   ]
  },
  {
   "cell_type": "markdown",
   "metadata": {},
   "source": [
    "# Assignment 5."
   ]
  },
  {
   "cell_type": "code",
   "execution_count": 1178,
   "metadata": {},
   "outputs": [],
   "source": [
    "import lightgbm as lgb\n",
    "import xgboost as xgb\n",
    "import catboost as cb\n",
    "\n",
    "from sklearn.ensemble import AdaBoostClassifier"
   ]
  },
  {
   "cell_type": "code",
   "execution_count": 1179,
   "metadata": {},
   "outputs": [],
   "source": [
    "predictions=[]"
   ]
  },
  {
   "cell_type": "markdown",
   "metadata": {},
   "source": [
    "#### 5.1. AdaBoostClassifier"
   ]
  },
  {
   "cell_type": "code",
   "execution_count": 1180,
   "metadata": {},
   "outputs": [],
   "source": [
    "ab = AdaBoostClassifier(learning_rate=0.05)"
   ]
  },
  {
   "cell_type": "code",
   "execution_count": 1181,
   "metadata": {},
   "outputs": [
    {
     "data": {
      "text/plain": [
       "AdaBoostClassifier(algorithm='SAMME.R', base_estimator=None,\n",
       "          learning_rate=0.05, n_estimators=50, random_state=None)"
      ]
     },
     "execution_count": 1181,
     "metadata": {},
     "output_type": "execute_result"
    }
   ],
   "source": [
    "ab.fit(X_train_scale_class, y_train_class)"
   ]
  },
  {
   "cell_type": "code",
   "execution_count": 1182,
   "metadata": {},
   "outputs": [],
   "source": [
    "ab_pred = ab.predict(X_test_scale_class)\n",
    "predictions.append(('AdaBoostClassifier',ab_pred))"
   ]
  },
  {
   "cell_type": "markdown",
   "metadata": {},
   "source": [
    "#### 5.2. Xgboost"
   ]
  },
  {
   "cell_type": "code",
   "execution_count": 1183,
   "metadata": {},
   "outputs": [],
   "source": [
    "xgb_model = xgb.XGBClassifier(\n",
    "                    max_depth=10,\n",
    "                    learning_rate=0.1,\n",
    "                    n_estimators=100,\n",
    ")"
   ]
  },
  {
   "cell_type": "code",
   "execution_count": 1184,
   "metadata": {},
   "outputs": [
    {
     "data": {
      "text/plain": [
       "XGBClassifier(base_score=0.5, booster='gbtree', colsample_bylevel=1,\n",
       "       colsample_bytree=1, gamma=0, learning_rate=0.1, max_delta_step=0,\n",
       "       max_depth=10, min_child_weight=1, missing=None, n_estimators=100,\n",
       "       n_jobs=1, nthread=None, objective='binary:logistic', random_state=0,\n",
       "       reg_alpha=0, reg_lambda=1, scale_pos_weight=1, seed=None,\n",
       "       silent=True, subsample=1)"
      ]
     },
     "execution_count": 1184,
     "metadata": {},
     "output_type": "execute_result"
    }
   ],
   "source": [
    "xgb_model.fit(X_train_scale_class, y_train_class)"
   ]
  },
  {
   "cell_type": "code",
   "execution_count": 1185,
   "metadata": {},
   "outputs": [],
   "source": [
    "xgb_pred = xgb_model.predict(X_test_scale_class)\n",
    "predictions.append(('XGBClassifier',xgb_pred))"
   ]
  },
  {
   "cell_type": "markdown",
   "metadata": {},
   "source": [
    "#### 5.3. Lightgbm"
   ]
  },
  {
   "cell_type": "code",
   "execution_count": 1186,
   "metadata": {},
   "outputs": [
    {
     "data": {
      "text/plain": [
       "LGBMClassifier(boosting_type='gbdt', class_weight=None, colsample_bytree=1.0,\n",
       "        importance_type='split', learning_rate=0.1, max_depth=10,\n",
       "        min_child_samples=20, min_child_weight=0.001, min_split_gain=0.0,\n",
       "        n_estimators=100, n_jobs=-1, num_leaves=31, objective=None,\n",
       "        random_state=None, reg_alpha=0.0, reg_lambda=0.0, silent=True,\n",
       "        subsample=1.0, subsample_for_bin=200000, subsample_freq=0)"
      ]
     },
     "execution_count": 1186,
     "metadata": {},
     "output_type": "execute_result"
    }
   ],
   "source": [
    "bst = lgb.LGBMClassifier(max_depth=10, learning_rate=0.1)\n",
    "\n",
    "bst.fit(X_train_scale_class,y_train_class)"
   ]
  },
  {
   "cell_type": "code",
   "execution_count": 1187,
   "metadata": {
    "scrolled": true
   },
   "outputs": [],
   "source": [
    "lgb_pred = bst.predict(X_test_scale_class)\n",
    "predictions.append(('Lightgbm', lgb_pred))"
   ]
  },
  {
   "cell_type": "markdown",
   "metadata": {},
   "source": [
    "#### 5.4. CatBoost"
   ]
  },
  {
   "cell_type": "code",
   "execution_count": 1188,
   "metadata": {},
   "outputs": [],
   "source": [
    "cb_model = cb.CatBoostClassifier(depth=10, learning_rate=0.1, n_estimators=100)"
   ]
  },
  {
   "cell_type": "code",
   "execution_count": 1189,
   "metadata": {},
   "outputs": [
    {
     "name": "stdout",
     "output_type": "stream",
     "text": [
      "0:\tlearn: 0.6039074\ttotal: 183ms\tremaining: 18.1s\n",
      "1:\tlearn: 0.5433950\ttotal: 390ms\tremaining: 19.1s\n",
      "2:\tlearn: 0.5045931\ttotal: 639ms\tremaining: 20.7s\n",
      "3:\tlearn: 0.4690543\ttotal: 779ms\tremaining: 18.7s\n",
      "4:\tlearn: 0.4460179\ttotal: 984ms\tremaining: 18.7s\n",
      "5:\tlearn: 0.4205295\ttotal: 1.17s\tremaining: 18.3s\n",
      "6:\tlearn: 0.4085795\ttotal: 1.34s\tremaining: 17.8s\n",
      "7:\tlearn: 0.3896932\ttotal: 1.51s\tremaining: 17.4s\n",
      "8:\tlearn: 0.3748641\ttotal: 1.69s\tremaining: 17.1s\n",
      "9:\tlearn: 0.3638789\ttotal: 1.82s\tremaining: 16.4s\n",
      "10:\tlearn: 0.3499962\ttotal: 1.98s\tremaining: 16s\n",
      "11:\tlearn: 0.3418443\ttotal: 2.11s\tremaining: 15.5s\n",
      "12:\tlearn: 0.3314468\ttotal: 2.27s\tremaining: 15.2s\n",
      "13:\tlearn: 0.3251211\ttotal: 2.44s\tremaining: 15s\n",
      "14:\tlearn: 0.3208362\ttotal: 2.58s\tremaining: 14.6s\n",
      "15:\tlearn: 0.3151775\ttotal: 2.73s\tremaining: 14.3s\n",
      "16:\tlearn: 0.3109645\ttotal: 2.89s\tremaining: 14.1s\n",
      "17:\tlearn: 0.3079371\ttotal: 3.02s\tremaining: 13.8s\n",
      "18:\tlearn: 0.3038725\ttotal: 3.2s\tremaining: 13.7s\n",
      "19:\tlearn: 0.2990453\ttotal: 3.36s\tremaining: 13.4s\n",
      "20:\tlearn: 0.2957509\ttotal: 3.53s\tremaining: 13.3s\n",
      "21:\tlearn: 0.2932585\ttotal: 3.68s\tremaining: 13.1s\n",
      "22:\tlearn: 0.2884670\ttotal: 3.83s\tremaining: 12.8s\n",
      "23:\tlearn: 0.2845977\ttotal: 4.05s\tremaining: 12.8s\n",
      "24:\tlearn: 0.2808893\ttotal: 4.25s\tremaining: 12.7s\n",
      "25:\tlearn: 0.2775990\ttotal: 4.42s\tremaining: 12.6s\n",
      "26:\tlearn: 0.2765261\ttotal: 4.62s\tremaining: 12.5s\n",
      "27:\tlearn: 0.2742524\ttotal: 4.78s\tremaining: 12.3s\n",
      "28:\tlearn: 0.2716940\ttotal: 4.92s\tremaining: 12.1s\n",
      "29:\tlearn: 0.2695738\ttotal: 5.08s\tremaining: 11.9s\n",
      "30:\tlearn: 0.2673697\ttotal: 5.21s\tremaining: 11.6s\n",
      "31:\tlearn: 0.2654170\ttotal: 5.38s\tremaining: 11.4s\n",
      "32:\tlearn: 0.2626766\ttotal: 5.53s\tremaining: 11.2s\n",
      "33:\tlearn: 0.2606011\ttotal: 5.7s\tremaining: 11.1s\n",
      "34:\tlearn: 0.2579336\ttotal: 5.84s\tremaining: 10.8s\n",
      "35:\tlearn: 0.2544450\ttotal: 6s\tremaining: 10.7s\n",
      "36:\tlearn: 0.2537074\ttotal: 6.15s\tremaining: 10.5s\n",
      "37:\tlearn: 0.2528174\ttotal: 6.19s\tremaining: 10.1s\n",
      "38:\tlearn: 0.2523290\ttotal: 6.34s\tremaining: 9.91s\n",
      "39:\tlearn: 0.2521379\ttotal: 6.48s\tremaining: 9.73s\n",
      "40:\tlearn: 0.2511181\ttotal: 6.72s\tremaining: 9.67s\n",
      "41:\tlearn: 0.2486540\ttotal: 6.88s\tremaining: 9.51s\n",
      "42:\tlearn: 0.2456545\ttotal: 7.05s\tremaining: 9.34s\n",
      "43:\tlearn: 0.2451206\ttotal: 7.2s\tremaining: 9.16s\n",
      "44:\tlearn: 0.2434314\ttotal: 7.36s\tremaining: 9s\n",
      "45:\tlearn: 0.2418282\ttotal: 7.54s\tremaining: 8.85s\n",
      "46:\tlearn: 0.2386939\ttotal: 7.7s\tremaining: 8.68s\n",
      "47:\tlearn: 0.2383805\ttotal: 7.84s\tremaining: 8.5s\n",
      "48:\tlearn: 0.2373154\ttotal: 8.02s\tremaining: 8.35s\n",
      "49:\tlearn: 0.2362508\ttotal: 8.2s\tremaining: 8.2s\n",
      "50:\tlearn: 0.2346933\ttotal: 8.34s\tremaining: 8.02s\n",
      "51:\tlearn: 0.2338774\ttotal: 8.49s\tremaining: 7.83s\n",
      "52:\tlearn: 0.2311446\ttotal: 8.65s\tremaining: 7.67s\n",
      "53:\tlearn: 0.2310662\ttotal: 8.67s\tremaining: 7.38s\n",
      "54:\tlearn: 0.2304027\ttotal: 8.84s\tremaining: 7.23s\n",
      "55:\tlearn: 0.2303530\ttotal: 8.9s\tremaining: 7s\n",
      "56:\tlearn: 0.2293956\ttotal: 8.92s\tremaining: 6.73s\n",
      "57:\tlearn: 0.2280408\ttotal: 8.94s\tremaining: 6.47s\n",
      "58:\tlearn: 0.2269716\ttotal: 9.08s\tremaining: 6.31s\n",
      "59:\tlearn: 0.2261594\ttotal: 9.23s\tremaining: 6.15s\n",
      "60:\tlearn: 0.2245787\ttotal: 9.4s\tremaining: 6.01s\n",
      "61:\tlearn: 0.2236609\ttotal: 9.59s\tremaining: 5.88s\n",
      "62:\tlearn: 0.2230176\ttotal: 9.73s\tremaining: 5.71s\n",
      "63:\tlearn: 0.2223360\ttotal: 9.88s\tremaining: 5.56s\n",
      "64:\tlearn: 0.2218941\ttotal: 10s\tremaining: 5.39s\n",
      "65:\tlearn: 0.2202623\ttotal: 10.2s\tremaining: 5.24s\n",
      "66:\tlearn: 0.2185963\ttotal: 10.3s\tremaining: 5.09s\n",
      "67:\tlearn: 0.2170750\ttotal: 10.5s\tremaining: 4.94s\n",
      "68:\tlearn: 0.2162361\ttotal: 10.6s\tremaining: 4.78s\n",
      "69:\tlearn: 0.2152399\ttotal: 10.8s\tremaining: 4.64s\n",
      "70:\tlearn: 0.2148740\ttotal: 10.9s\tremaining: 4.47s\n",
      "71:\tlearn: 0.2145729\ttotal: 11.1s\tremaining: 4.32s\n",
      "72:\tlearn: 0.2139634\ttotal: 11.3s\tremaining: 4.17s\n",
      "73:\tlearn: 0.2110183\ttotal: 11.5s\tremaining: 4.03s\n",
      "74:\tlearn: 0.2103342\ttotal: 11.6s\tremaining: 3.88s\n",
      "75:\tlearn: 0.2098118\ttotal: 11.8s\tremaining: 3.73s\n",
      "76:\tlearn: 0.2073482\ttotal: 11.9s\tremaining: 3.56s\n",
      "77:\tlearn: 0.2051584\ttotal: 12.1s\tremaining: 3.41s\n",
      "78:\tlearn: 0.2044252\ttotal: 12.3s\tremaining: 3.26s\n",
      "79:\tlearn: 0.2031605\ttotal: 12.4s\tremaining: 3.11s\n",
      "80:\tlearn: 0.2019912\ttotal: 12.6s\tremaining: 2.95s\n",
      "81:\tlearn: 0.1993955\ttotal: 12.7s\tremaining: 2.79s\n",
      "82:\tlearn: 0.1987028\ttotal: 12.9s\tremaining: 2.64s\n",
      "83:\tlearn: 0.1982243\ttotal: 13s\tremaining: 2.48s\n",
      "84:\tlearn: 0.1973316\ttotal: 13.2s\tremaining: 2.33s\n",
      "85:\tlearn: 0.1969788\ttotal: 13.2s\tremaining: 2.15s\n",
      "86:\tlearn: 0.1958720\ttotal: 13.4s\tremaining: 2s\n",
      "87:\tlearn: 0.1944423\ttotal: 13.5s\tremaining: 1.84s\n",
      "88:\tlearn: 0.1942513\ttotal: 13.7s\tremaining: 1.69s\n",
      "89:\tlearn: 0.1933035\ttotal: 13.8s\tremaining: 1.53s\n",
      "90:\tlearn: 0.1910715\ttotal: 14s\tremaining: 1.38s\n",
      "91:\tlearn: 0.1905902\ttotal: 14.1s\tremaining: 1.23s\n",
      "92:\tlearn: 0.1888749\ttotal: 14.3s\tremaining: 1.07s\n",
      "93:\tlearn: 0.1883784\ttotal: 14.4s\tremaining: 918ms\n",
      "94:\tlearn: 0.1871665\ttotal: 14.6s\tremaining: 768ms\n",
      "95:\tlearn: 0.1864942\ttotal: 14.7s\tremaining: 614ms\n",
      "96:\tlearn: 0.1859133\ttotal: 14.9s\tremaining: 461ms\n",
      "97:\tlearn: 0.1841053\ttotal: 15.1s\tremaining: 307ms\n",
      "98:\tlearn: 0.1820691\ttotal: 15.2s\tremaining: 154ms\n",
      "99:\tlearn: 0.1818518\ttotal: 15.4s\tremaining: 0us\n"
     ]
    },
    {
     "data": {
      "text/plain": [
       "<catboost.core.CatBoostClassifier at 0x7f6ba8e754a8>"
      ]
     },
     "execution_count": 1189,
     "metadata": {},
     "output_type": "execute_result"
    }
   ],
   "source": [
    "cb_model.fit(X_train_scale_class, y_train_class)"
   ]
  },
  {
   "cell_type": "code",
   "execution_count": 1190,
   "metadata": {},
   "outputs": [],
   "source": [
    "cb_pred = cb_model.predict(X_test_scale_class)\n",
    "predictions.append(('CatBoost',lgb_pred))"
   ]
  },
  {
   "cell_type": "code",
   "execution_count": 1191,
   "metadata": {
    "scrolled": false
   },
   "outputs": [
    {
     "name": "stdout",
     "output_type": "stream",
     "text": [
      "AdaBoostClassifier accuracy # 0.823076923076923\n",
      "XGBClassifier accuracy # 0.8769230769230769\n",
      "Lightgbm accuracy # 0.8769230769230769\n",
      "CatBoost accuracy # 0.8769230769230769\n"
     ]
    }
   ],
   "source": [
    "for name_model, pred_model in predictions:\n",
    "    print(name_model, 'accuracy #', accuracy_score(y_test_class, pred_model))"
   ]
  },
  {
   "cell_type": "markdown",
   "metadata": {},
   "source": [
    "Алгоритмы XGBClassifier, Lightgbm, CatBoost показали идентичные accuracy, но эти модели имели одинаковые параметры и не были оптимально настроены."
   ]
  },
  {
   "cell_type": "markdown",
   "metadata": {},
   "source": [
    "#### Обучим алгоримты с различными параметрами"
   ]
  },
  {
   "cell_type": "code",
   "execution_count": 1192,
   "metadata": {},
   "outputs": [],
   "source": [
    "bst = lgb.LGBMClassifier(max_depth=15, learning_rate=0.01)\n",
    "bst.fit(X_train_scale_class,y_train_class)\n",
    "predictions.append(('LGBMClassifier(max_depth=15, lr=0.01)', bst.predict(X_test_scale_class)))"
   ]
  },
  {
   "cell_type": "code",
   "execution_count": 1193,
   "metadata": {},
   "outputs": [],
   "source": [
    "xgb_model = xgb.XGBClassifier(\n",
    "                    max_depth=5,\n",
    "                    learning_rate=0.1,\n",
    "                    n_estimators=100,\n",
    ")\n",
    "xgb_model.fit(X_train_scale_class, y_train_class)\n",
    "xgb_pred = xgb_model.predict(X_test_scale_class)\n",
    "predictions.append(('XGBClassifier(max_depth=5, lr=0.1)',xgb_pred))"
   ]
  },
  {
   "cell_type": "code",
   "execution_count": 1194,
   "metadata": {},
   "outputs": [
    {
     "name": "stdout",
     "output_type": "stream",
     "text": [
      "0:\tlearn: 0.5581426\ttotal: 11.3ms\tremaining: 45.2ms\n",
      "1:\tlearn: 0.4505916\ttotal: 21.2ms\tremaining: 31.8ms\n",
      "2:\tlearn: 0.4174039\ttotal: 30.6ms\tremaining: 20.4ms\n",
      "3:\tlearn: 0.3775601\ttotal: 42.2ms\tremaining: 10.6ms\n",
      "4:\tlearn: 0.3559214\ttotal: 51.3ms\tremaining: 0us\n"
     ]
    }
   ],
   "source": [
    "cb_model = cb.CatBoostClassifier(depth=2, learning_rate=0.5, n_estimators=5)\n",
    "cb_model.fit(X_train_scale_class, y_train_class)\n",
    "cb_pred = cb_model.predict(X_test_scale_class)\n",
    "predictions.append(('CatBoost(depth=2, lr=0.5, n_estim = 5)',cb_pred))"
   ]
  },
  {
   "cell_type": "code",
   "execution_count": 1195,
   "metadata": {},
   "outputs": [
    {
     "name": "stdout",
     "output_type": "stream",
     "text": [
      "AdaBoostClassifier accuracy # 0.823076923076923\n",
      "XGBClassifier accuracy # 0.8769230769230769\n",
      "Lightgbm accuracy # 0.8769230769230769\n",
      "CatBoost accuracy # 0.8769230769230769\n",
      "LGBMClassifier(max_depth=15, lr=0.01) accuracy # 0.8538461538461538\n",
      "XGBClassifier(max_depth=5, lr=0.1) accuracy # 0.8923076923076924\n",
      "CatBoost(depth=2, lr=0.5, n_estim = 5) accuracy # 0.823076923076923\n"
     ]
    }
   ],
   "source": [
    "for name_model, pred_model in predictions:\n",
    "    print(name_model, 'accuracy #', accuracy_score(y_test_class, pred_model))"
   ]
  },
  {
   "cell_type": "code",
   "execution_count": null,
   "metadata": {},
   "outputs": [],
   "source": []
  }
 ],
 "metadata": {
  "kernelspec": {
   "display_name": "Python 3",
   "language": "python",
   "name": "python3"
  },
  "language_info": {
   "codemirror_mode": {
    "name": "ipython",
    "version": 3
   },
   "file_extension": ".py",
   "mimetype": "text/x-python",
   "name": "python",
   "nbconvert_exporter": "python",
   "pygments_lexer": "ipython3",
   "version": "3.6.7"
  }
 },
 "nbformat": 4,
 "nbformat_minor": 2
}
