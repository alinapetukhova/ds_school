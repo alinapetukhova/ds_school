{
  "cells": [
    {
      "metadata": {
        "_uuid": "8f2839f25d086af736a60e9eeb907d3b93b6e0e5",
        "_cell_guid": "b1076dfc-b9ad-4769-8c92-a6c4dae69d19",
        "trusted": true
      },
      "cell_type": "code",
      "source": "%matplotlib inline\n\nimport warnings\nwarnings.filterwarnings('ignore')\nimport scipy\nimport numpy as np\nimport pandas as pd\nfrom sklearn.tree import DecisionTreeClassifier\nfrom sklearn.ensemble import AdaBoostClassifier\nfrom xgboost import XGBClassifier\nfrom lightgbm import LGBMClassifier\nfrom catboost import CatBoostClassifier\nfrom sklearn.model_selection import train_test_split\nfrom sklearn.model_selection import GridSearchCV\nfrom sklearn.metrics import f1_score\nfrom sklearn.metrics import roc_auc_score\nfrom sklearn.metrics import matthews_corrcoef\nfrom sklearn.preprocessing import PowerTransformer\nfrom sklearn_pandas import DataFrameMapper\n\npd.set_option('display.max_rows', 200)",
      "execution_count": 18,
      "outputs": []
    },
    {
      "metadata": {
        "_cell_guid": "79c7e3d0-c299-4dcb-8224-4455121ee9b0",
        "_uuid": "d629ff2d2480ee46fbb7e2d37f6b5fab8052498a",
        "trusted": true
      },
      "cell_type": "code",
      "source": "df = pd.read_excel(\"../input/data2.xlsx\")\nx = list(df.columns.values)\nx.remove('Country Name')\ndf2 = df.copy()\nmapper = DataFrameMapper([(df2[x].columns, PowerTransformer())])\ndf2[x] = mapper.fit_transform(df2[x])\ndf2[\"LE > median\"]=df2[\"Life expectancy\"].apply(lambda x: 1 if (x>(np.median(df2[\"Life expectancy\"]))) else 0)\nX_train, X_test, Y_train, Y_test = train_test_split(df2.drop(labels=['Country Name', 'Life expectancy', 'LE > median'], axis = 1),\n                                                    df2['LE > median'], test_size=0.25, random_state=17, shuffle=True)",
      "execution_count": 19,
      "outputs": []
    },
    {
      "metadata": {
        "trusted": true,
        "_uuid": "3783d91e9f4ad7acced8b46afdb1982ea830e3e8",
        "scrolled": false
      },
      "cell_type": "code",
      "source": "model = XGBClassifier(n_estimators = 500, silent = True)\nparameters = {'max_depth': range(1,15)}\nXGB = GridSearchCV(model, parameters, n_jobs=4, verbose=2)\nXGB.fit(X_train, Y_train)\nprint(\"training acc \" + str(XGB.score(X_train, Y_train)))\nprint(\"test acc \" + str(XGB.score(X_test, Y_test)))\nprint(XGB.best_params_)",
      "execution_count": 20,
      "outputs": [
        {
          "output_type": "stream",
          "text": "Fitting 3 folds for each of 14 candidates, totalling 42 fits\n",
          "name": "stdout"
        },
        {
          "output_type": "stream",
          "text": "[Parallel(n_jobs=4)]: Using backend LokyBackend with 4 concurrent workers.\n[Parallel(n_jobs=4)]: Done  33 tasks      | elapsed:   13.6s\n[Parallel(n_jobs=4)]: Done  42 out of  42 | elapsed:   16.4s finished\n",
          "name": "stderr"
        },
        {
          "output_type": "stream",
          "text": "training acc 1.0\ntest acc 0.9773371104815864\n{'max_depth': 11}\n",
          "name": "stdout"
        }
      ]
    },
    {
      "metadata": {
        "trusted": true,
        "_uuid": "436910bdf7c1e70f19cd4795e4707273fb6b7dc6",
        "scrolled": true
      },
      "cell_type": "code",
      "source": "model = CatBoostClassifier(iterations=50, silent = True)\nparameters = {'depth': range(4,10)}\nCBC = GridSearchCV(model, parameters, n_jobs=4, verbose=2)\nCBC.fit(X_train, Y_train)\nprint(\"training acc \" + str(CBC.score(X_train, Y_train)))\nprint(\"test acc \" + str(CBC.score(X_test, Y_test)))\nprint('')\nprint(CBC.best_params_)",
      "execution_count": 21,
      "outputs": [
        {
          "output_type": "stream",
          "text": "Fitting 3 folds for each of 6 candidates, totalling 18 fits\n",
          "name": "stdout"
        },
        {
          "output_type": "stream",
          "text": "[Parallel(n_jobs=4)]: Using backend LokyBackend with 4 concurrent workers.\n[Parallel(n_jobs=4)]: Done  18 out of  18 | elapsed:   34.3s finished\n",
          "name": "stderr"
        },
        {
          "output_type": "stream",
          "text": "training acc 0.9985822306238186\ntest acc 0.9787535410764873\n\n{'depth': 9}\n",
          "name": "stdout"
        }
      ]
    },
    {
      "metadata": {
        "trusted": true,
        "_uuid": "13b46eda827287992cb989d88074686636e7c8a3"
      },
      "cell_type": "code",
      "source": "model=AdaBoostClassifier(DecisionTreeClassifier(), n_estimators=100)\nparameters = {'base_estimator__max_depth': range(1,10)}\nABC = GridSearchCV(model, parameters, n_jobs=4, verbose=2)\nABC.fit(X_train, Y_train)\nprint(\"training acc \" + str(ABC.score(X_train, Y_train)))\nprint(\"test acc \" + str(ABC.score(X_test, Y_test)))\nprint('')\nprint(ABC.best_params_)",
      "execution_count": 26,
      "outputs": [
        {
          "output_type": "stream",
          "text": "Fitting 3 folds for each of 9 candidates, totalling 27 fits\n",
          "name": "stdout"
        },
        {
          "output_type": "stream",
          "text": "[Parallel(n_jobs=4)]: Using backend LokyBackend with 4 concurrent workers.\n[Parallel(n_jobs=4)]: Done  27 out of  27 | elapsed:    8.1s finished\n",
          "name": "stderr"
        },
        {
          "output_type": "stream",
          "text": "training acc 1.0\ntest acc 0.9759206798866855\n\n{'base_estimator__max_depth': 8}\n",
          "name": "stdout"
        }
      ]
    },
    {
      "metadata": {
        "trusted": true,
        "scrolled": true,
        "_uuid": "d0d54f7ed0dbe8c0c7e9af21d0c6300823d50adb"
      },
      "cell_type": "code",
      "source": "model=LGBMClassifier()\nparameters = {'max_depth': range(1,25)}\nLBoost = GridSearchCV(model, parameters, n_jobs=4, verbose=2)\nLBoost.fit(X_train, Y_train)\nprint(\"training acc \" + str(LBoost.score(X_train, Y_train)))\nprint(\"test acc \" + str(LBoost.score(X_test, Y_test)))\nprint('')\nprint(LBoost.best_params_)",
      "execution_count": 32,
      "outputs": [
        {
          "output_type": "stream",
          "text": "Fitting 3 folds for each of 24 candidates, totalling 72 fits\n",
          "name": "stdout"
        },
        {
          "output_type": "stream",
          "text": "[Parallel(n_jobs=4)]: Using backend LokyBackend with 4 concurrent workers.\n[Parallel(n_jobs=4)]: Done  72 out of  72 | elapsed:    5.3s finished\n",
          "name": "stderr"
        },
        {
          "output_type": "stream",
          "text": "training acc 1.0\ntest acc 0.9759206798866855\n\n{'max_depth': 15}\n",
          "name": "stdout"
        }
      ]
    },
    {
      "metadata": {
        "_uuid": "a03efca7e62a2e89612261b6771bae9ee9e6dea0"
      },
      "cell_type": "markdown",
      "source": "Light  boost got the same accuracy as AdaBoost, even with different max depth parameter.\n\nAll estimators generally have very high accuracy, probably due to having a large training sample (75%, randomized).\n\nWith non-random 5 earlier years the accuracy drops to more realistic values (around 90%) across the board."
    },
    {
      "metadata": {
        "trusted": true,
        "_uuid": "72b8d454525df1f0764a5df1a75bb261e90a8c73"
      },
      "cell_type": "code",
      "source": "from statsmodels.tools.tools import add_constant\ndf=pd.read_excel(\"../input/data2.xlsx\")\nldrop=[]\nfor i in range(len(df)):\n    if df['Year'][i] not in [1996, 1997, 1998, 1999, 2000]:\n        ldrop.append(i)\ndf=df.drop(index=ldrop)\ndf=df.drop(columns='Year')\nx = list(df.columns.values)\nx.remove('Country Name')\nmapper = DataFrameMapper([(df[x].columns, PowerTransformer())])\ndf[x] = mapper.fit_transform(df[x])\ndf = add_constant(df)\ndf[\"LE > median\"]=df[\"Life expectancy\"].apply(lambda x: 1 if (x>(np.median(df[\"Life expectancy\"]))) else 0)\nX_train, Y_train = df.drop(labels=['Country Name', 'Life expectancy', 'LE > median'], axis = 1), df['LE > median']\n\ndf2=pd.read_excel(\"../input/data2.xlsx\")\nldrop=[]\nfor i in range(len(df)):\n    if df2['Year'][i] in [1996, 1997, 1998, 1999, 2000]:\n        ldrop.append(i)\ndf2=df2.drop(index=ldrop)\ndf2=df2.drop(columns='Year')\nx = list(df2.columns.values)\nx.remove('Country Name')\nmapper = DataFrameMapper([(df2[x].columns, PowerTransformer())])\ndf2[x] = mapper.fit_transform(df2[x])\ndf2 = add_constant(df2)\ndf2[\"LE > median\"]=df2[\"Life expectancy\"].apply(lambda x: 1 if (x>(np.median(df2[\"Life expectancy\"]))) else 0)\n\nX_test, Y_test = df2.drop(labels=['Country Name', 'Life expectancy', 'LE > median'], axis = 1), df2['LE > median']",
      "execution_count": 36,
      "outputs": []
    },
    {
      "metadata": {
        "trusted": true,
        "_uuid": "64b2a787197ab3515aac9b4990432a8a7044aeec"
      },
      "cell_type": "code",
      "source": "model = XGBClassifier(n_estimators = 500, silent = True)\nparameters = {'max_depth': range(1,15)}\nXGB = GridSearchCV(model, parameters, n_jobs=4, verbose=2)\nXGB.fit(X_train, Y_train)\nprint(\"training acc \" + str(XGB.score(X_train, Y_train)))\nprint(\"test acc \" + str(XGB.score(X_test, Y_test)))\nprint(XGB.best_params_)",
      "execution_count": 45,
      "outputs": [
        {
          "output_type": "stream",
          "text": "Fitting 3 folds for each of 14 candidates, totalling 42 fits\n",
          "name": "stdout"
        },
        {
          "output_type": "stream",
          "text": "[Parallel(n_jobs=4)]: Using backend LokyBackend with 4 concurrent workers.\n[Parallel(n_jobs=4)]: Done  33 tasks      | elapsed:    6.3s\n",
          "name": "stderr"
        },
        {
          "output_type": "stream",
          "text": "training acc 0.9688473520249221\ntest acc 0.8878085265519821\n{'max_depth': 1}\n",
          "name": "stdout"
        },
        {
          "output_type": "stream",
          "text": "[Parallel(n_jobs=4)]: Done  42 out of  42 | elapsed:    6.9s finished\n",
          "name": "stderr"
        }
      ]
    },
    {
      "metadata": {
        "trusted": true,
        "_uuid": "37095707ed3444ae3a3f78df9853ce26ae9145cb"
      },
      "cell_type": "code",
      "source": "model=LGBMClassifier(silent=True)\nparameters = {'max_depth': range(1,25)}\nLBoost = GridSearchCV(model, parameters, n_jobs=4, verbose=2)\nLBoost.fit(X_train, Y_train, eval_set =(X_test, Y_test))\nprint(\"training acc \" + str(LBoost.score(X_train, Y_train)))\nprint(\"test acc \" + str(LBoost.score(X_test, Y_test)))\nprint('')\nprint(LBoost.best_params_)",
      "execution_count": 41,
      "outputs": [
        {
          "output_type": "stream",
          "text": "Fitting 3 folds for each of 24 candidates, totalling 72 fits\n",
          "name": "stdout"
        },
        {
          "output_type": "stream",
          "text": "[Parallel(n_jobs=4)]: Using backend LokyBackend with 4 concurrent workers.\n[Parallel(n_jobs=4)]: Done  58 tasks      | elapsed:    1.6s\n",
          "name": "stderr"
        },
        {
          "output_type": "stream",
          "text": "training acc 0.9299065420560748\ntest acc 0.887060583395662\n\n{'max_depth': 1}\n",
          "name": "stdout"
        },
        {
          "output_type": "stream",
          "text": "[Parallel(n_jobs=4)]: Done  72 out of  72 | elapsed:    1.9s finished\n",
          "name": "stderr"
        }
      ]
    },
    {
      "metadata": {
        "trusted": true,
        "_uuid": "fcb205bcbf7cf578cc24baaf96245606a5f3c3dd"
      },
      "cell_type": "code",
      "source": "model=AdaBoostClassifier(DecisionTreeClassifier(), n_estimators=100)\nparameters = {'base_estimator__max_depth': range(1,10)}\nABC = GridSearchCV(model, parameters, n_jobs=4, verbose=2)\nABC.fit(X_train, Y_train)\nprint(\"training acc \" + str(ABC.score(X_train, Y_train)))\nprint(\"test acc \" + str(ABC.score(X_test, Y_test)))\nprint('')\nprint(ABC.best_params_)",
      "execution_count": 48,
      "outputs": [
        {
          "output_type": "stream",
          "text": "Fitting 3 folds for each of 9 candidates, totalling 27 fits\n",
          "name": "stdout"
        },
        {
          "output_type": "stream",
          "text": "[Parallel(n_jobs=4)]: Using backend LokyBackend with 4 concurrent workers.\n[Parallel(n_jobs=4)]: Done  27 out of  27 | elapsed:    5.9s finished\n",
          "name": "stderr"
        },
        {
          "output_type": "stream",
          "text": "training acc 1.0\ntest acc 0.9098728496634256\n\n{'base_estimator__max_depth': 8}\n",
          "name": "stdout"
        }
      ]
    },
    {
      "metadata": {
        "trusted": true,
        "_uuid": "898adcd20d5fe9fe9d5739273e3ce55ea6350784"
      },
      "cell_type": "code",
      "source": "model = CatBoostClassifier(iterations=50, silent = True)\nparameters = {'depth': range(4,10)}\nCBC = GridSearchCV(model, parameters, n_jobs=4, verbose=2)\nCBC.fit(X_train, Y_train)\nprint(\"training acc \" + str(CBC.score(X_train, Y_train)))\nprint(\"test acc \" + str(CBC.score(X_test, Y_test)))\nprint('')\nprint(CBC.best_params_)",
      "execution_count": 49,
      "outputs": [
        {
          "output_type": "stream",
          "text": "Fitting 3 folds for each of 6 candidates, totalling 18 fits\n",
          "name": "stdout"
        },
        {
          "output_type": "stream",
          "text": "[Parallel(n_jobs=4)]: Using backend LokyBackend with 4 concurrent workers.\n/opt/conda/lib/python3.6/site-packages/sklearn/externals/joblib/externals/loky/process_executor.py:706: UserWarning: A worker stopped while some jobs were given to the executor. This can be caused by a too short worker timeout or by a memory leak.\n  \"timeout or by a memory leak.\", UserWarning\n/opt/conda/lib/python3.6/site-packages/sklearn/externals/joblib/externals/loky/process_executor.py:706: UserWarning: A worker stopped while some jobs were given to the executor. This can be caused by a too short worker timeout or by a memory leak.\n  \"timeout or by a memory leak.\", UserWarning\n/opt/conda/lib/python3.6/site-packages/sklearn/externals/joblib/externals/loky/process_executor.py:706: UserWarning: A worker stopped while some jobs were given to the executor. This can be caused by a too short worker timeout or by a memory leak.\n  \"timeout or by a memory leak.\", UserWarning\n/opt/conda/lib/python3.6/site-packages/sklearn/externals/joblib/externals/loky/process_executor.py:706: UserWarning: A worker stopped while some jobs were given to the executor. This can be caused by a too short worker timeout or by a memory leak.\n  \"timeout or by a memory leak.\", UserWarning\n[Parallel(n_jobs=4)]: Done  18 out of  18 | elapsed:   32.8s finished\n",
          "name": "stderr"
        },
        {
          "output_type": "stream",
          "text": "training acc 0.9953271028037384\ntest acc 0.9042632759910246\n\n{'depth': 6}\n",
          "name": "stdout"
        }
      ]
    }
  ],
  "metadata": {
    "kernelspec": {
      "display_name": "Python 3",
      "language": "python",
      "name": "python3"
    },
    "language_info": {
      "name": "python",
      "version": "3.6.6",
      "mimetype": "text/x-python",
      "codemirror_mode": {
        "name": "ipython",
        "version": 3
      },
      "pygments_lexer": "ipython3",
      "nbconvert_exporter": "python",
      "file_extension": ".py"
    }
  },
  "nbformat": 4,
  "nbformat_minor": 1
}