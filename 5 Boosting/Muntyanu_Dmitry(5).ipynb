{
 "cells": [
  {
   "cell_type": "code",
   "execution_count": null,
   "metadata": {
    "_cell_guid": "b1076dfc-b9ad-4769-8c92-a6c4dae69d19",
    "_uuid": "8f2839f25d086af736a60e9eeb907d3b93b6e0e5"
   },
   "outputs": [],
   "source": [
    "# This Python 3 environment comes with many helpful analytics libraries installed\n",
    "# It is defined by the kaggle/python docker image: https://github.com/kaggle/docker-python\n",
    "# For example, here's several helpful packages to load in \n",
    "\n",
    "from sklearn.model_selection import train_test_split, GridSearchCV\n",
    "\n",
    "from sklearn.metrics import accuracy_score\n",
    "\n",
    "import numpy as np # linear algebra\n",
    "import pandas as pd # data processing, CSV file I/O (e.g. pd.read_csv)\n",
    "import seaborn as sns\n",
    "\n",
    "\n",
    "from sklearn.preprocessing import StandardScaler\n",
    "\n",
    "import pylab as plt\n",
    "%matplotlib inline\n",
    "\n",
    "from sklearn.ensemble import AdaBoostClassifier\n",
    "import lightgbm as lgb\n",
    "import xgboost as xgb\n",
    "import catboost as cb\n",
    "\n",
    "import warnings\n",
    "warnings.filterwarnings('ignore') \n",
    "plt.rcParams['figure.figsize'] = (10, 8)\n",
    "# Any results you write to the current directory are saved as output."
   ]
  },
  {
   "cell_type": "code",
   "execution_count": null,
   "metadata": {
    "_uuid": "cb8e167f02fb5b6cf1e78ba4d5bf29851b9c923e"
   },
   "outputs": [],
   "source": [
    "df = pd.read_csv('epldata_final.csv')"
   ]
  },
  {
   "cell_type": "code",
   "execution_count": null,
   "metadata": {
    "_uuid": "9f75b98b70b13654ac57f753f7d688f8e27a23a8"
   },
   "outputs": [],
   "source": [
    "df.head()"
   ]
  },
  {
   "cell_type": "code",
   "execution_count": null,
   "metadata": {
    "_uuid": "c03743235441788fa5bbbdc6e4c8103e502df32b"
   },
   "outputs": [],
   "source": [
    "def category(x):\n",
    "    if 0 <= x < 15: return 1\n",
    "    elif 15 <= x < 50: return 2\n",
    "    else: return 3"
   ]
  },
  {
   "cell_type": "code",
   "execution_count": null,
   "metadata": {
    "_uuid": "8116f77751cac6f1f73a7e5acf6bfc0e85499c6b"
   },
   "outputs": [],
   "source": [
    "# делаем задачу классификации\n",
    "df['market_value'] =  df['market_value'].apply(category)"
   ]
  },
  {
   "cell_type": "code",
   "execution_count": null,
   "metadata": {
    "_uuid": "0e50799dab718a7eb26fcdd6a6eec0525ce9a249"
   },
   "outputs": [],
   "source": [
    "df['region'].fillna((df['region'].median()), inplace=True)\n",
    "#df.isnull().any()"
   ]
  },
  {
   "cell_type": "code",
   "execution_count": null,
   "metadata": {
    "_uuid": "8692c064ef06b5a4bbde5ee02966a10c39cfa060"
   },
   "outputs": [],
   "source": [
    "df = df.drop(['age_cat'], axis=1)"
   ]
  },
  {
   "cell_type": "code",
   "execution_count": null,
   "metadata": {
    "_uuid": "fcd5ae1a43cf0d99423b79d4354f037fa8e9b173"
   },
   "outputs": [],
   "source": [
    "def create_df(data_fram, feature_list):\n",
    "    out = data_fram\n",
    "    out = pd.concat([out, pd.get_dummies(out[feature_list])], axis = 1)\n",
    "    out.drop(feature_list, axis = 1, inplace = True)\n",
    "    return out\n",
    "\n",
    "df1 = df\n",
    "features = ['club', 'position', 'nationality', 'position_cat', 'region']\n",
    "for feature in features:\n",
    "    df1[feature] = df1[feature].astype('object')\n",
    "df1 = create_df(df1, features)\n",
    "df1.head()"
   ]
  },
  {
   "cell_type": "code",
   "execution_count": null,
   "metadata": {
    "_uuid": "c376929b5b2bc15bc53caf3838e42bb3002b64ca"
   },
   "outputs": [],
   "source": [
    "y = df1['market_value']\n",
    "df1 = df1.drop(['name', 'market_value', 'fpl_sel'], axis=1)"
   ]
  },
  {
   "cell_type": "code",
   "execution_count": null,
   "metadata": {
    "_uuid": "616bb594d143da7fba3ace56d2bcaff1ff7587bd"
   },
   "outputs": [],
   "source": [
    "from sklearn import preprocessing\n",
    "# normalize the data attributes\n",
    "normalized_X = preprocessing.normalize(df1)\n",
    "# standardize the data attributes\n",
    "standardized_X = preprocessing.scale(df1)"
   ]
  },
  {
   "cell_type": "code",
   "execution_count": null,
   "metadata": {
    "_uuid": "d4c48f3d2be349c98486e433ea804c857e360c9a"
   },
   "outputs": [],
   "source": [
    "X_train, X_valid, y_train, y_valid = train_test_split(df1, y, test_size = 0.3, random_state=17)"
   ]
  },
  {
   "cell_type": "code",
   "execution_count": null,
   "metadata": {
    "_uuid": "689efd59ff163894b62ac69ebf3826197620de5f"
   },
   "outputs": [],
   "source": [
    "dict_predictions={}"
   ]
  },
  {
   "cell_type": "code",
   "execution_count": null,
   "metadata": {
    "_uuid": "f8162754b7e988ecf317e8be9d421a11f23c515f"
   },
   "outputs": [],
   "source": [
    "#adaboost\n",
    "abc = AdaBoostClassifier(learning_rate=0.05, algorithm=\"SAMME\")\n",
    "abc.fit(X_train, y_train)"
   ]
  },
  {
   "cell_type": "code",
   "execution_count": null,
   "metadata": {
    "_uuid": "f7063688e12476a3981653b7fc2773ecf48e33a1"
   },
   "outputs": [],
   "source": [
    "abc_pred = abc.predict(X_valid)\n",
    "dict_predictions['AdaBoostClassifier'] = abc_pred"
   ]
  },
  {
   "cell_type": "code",
   "execution_count": null,
   "metadata": {
    "_uuid": "f38a10b10cbc34a0b74ed6747ca997143b5b54d7"
   },
   "outputs": [],
   "source": [
    "#xgb\n",
    "xgb_model = xgb.XGBClassifier(\n",
    "                    max_depth=7,\n",
    "                    learning_rate=0.1,\n",
    "                    n_estimators=100,\n",
    "                    loss_function='MultiClass'\n",
    ")\n",
    "\n",
    "xgb_model.fit(X_train, y_train)"
   ]
  },
  {
   "cell_type": "code",
   "execution_count": null,
   "metadata": {
    "_uuid": "602fd0fb1e51429b6df359af77a615fb90041812"
   },
   "outputs": [],
   "source": [
    "xgb_pred = xgb_model.predict(X_valid)\n",
    "dict_predictions['XGBClassifier'] = xgb_pred"
   ]
  },
  {
   "cell_type": "code",
   "execution_count": null,
   "metadata": {
    "_uuid": "fed74bc79e54ff97a3349074bb4738eab49aa060"
   },
   "outputs": [],
   "source": [
    "#lgbm\n",
    "bst = lgb.LGBMClassifier(max_depth=7, learning_rate=0.1, loss_function='MultiClass')\n",
    "bst.fit(X_train, y_train)"
   ]
  },
  {
   "cell_type": "code",
   "execution_count": null,
   "metadata": {
    "_uuid": "48066800c5f956cbad688276718512a869f8e5f8"
   },
   "outputs": [],
   "source": [
    "lgb_pred = bst.predict(X_valid)\n",
    "dict_predictions['Lightgbm'] = lgb_pred"
   ]
  },
  {
   "cell_type": "code",
   "execution_count": null,
   "metadata": {
    "_uuid": "5078c4301bac7ba434bc2e94a97bf37da9a4162b"
   },
   "outputs": [],
   "source": [
    "#catboost\n",
    "cbc = cb.CatBoostClassifier(depth=7, learning_rate=0.1, n_estimators=100, loss_function='MultiClass')\n",
    "cbc.fit(X_train, y_train)"
   ]
  },
  {
   "cell_type": "code",
   "execution_count": null,
   "metadata": {
    "_uuid": "559c049b1ad7f22275a3075432275d8e6906b0fc"
   },
   "outputs": [],
   "source": [
    "cbc_pred = cbc.predict(X_valid)\n",
    "dict_predictions['CatBoost'] = cbc_pred"
   ]
  },
  {
   "cell_type": "code",
   "execution_count": null,
   "metadata": {
    "_uuid": "dc72a578e46a061be36de8750fa84f7cb0a06801"
   },
   "outputs": [],
   "source": [
    "for i in dict_predictions:\n",
    "    print(i, 'accuracy #', accuracy_score(y_valid, dict_predictions[i]))"
   ]
  }
 ],
 "metadata": {
  "kernelspec": {
   "display_name": "Python 3",
   "language": "python",
   "name": "python3"
  },
  "language_info": {
   "codemirror_mode": {
    "name": "ipython",
    "version": 3
   },
   "file_extension": ".py",
   "mimetype": "text/x-python",
   "name": "python",
   "nbconvert_exporter": "python",
   "pygments_lexer": "ipython3",
   "version": "3.6.4"
  }
 },
 "nbformat": 4,
 "nbformat_minor": 1
}
