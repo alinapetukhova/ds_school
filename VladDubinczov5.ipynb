{
 "cells": [
  {
   "cell_type": "code",
   "execution_count": 1,
   "metadata": {},
   "outputs": [],
   "source": [
    "import numpy as np\n",
    "import pandas as pd"
   ]
  },
  {
   "cell_type": "code",
   "execution_count": 2,
   "metadata": {},
   "outputs": [
    {
     "data": {
      "text/html": [
       "<div>\n",
       "<style scoped>\n",
       "    .dataframe tbody tr th:only-of-type {\n",
       "        vertical-align: middle;\n",
       "    }\n",
       "\n",
       "    .dataframe tbody tr th {\n",
       "        vertical-align: top;\n",
       "    }\n",
       "\n",
       "    .dataframe thead th {\n",
       "        text-align: right;\n",
       "    }\n",
       "</style>\n",
       "<table border=\"1\" class=\"dataframe\">\n",
       "  <thead>\n",
       "    <tr style=\"text-align: right;\">\n",
       "      <th></th>\n",
       "      <th>sex</th>\n",
       "      <th>suicides_no</th>\n",
       "      <th>population</th>\n",
       "      <th>suicides_pop</th>\n",
       "      <th>gdp_per_capita</th>\n",
       "      <th>lvl_gdp</th>\n",
       "      <th>GDP_for_group</th>\n",
       "      <th>Boomers</th>\n",
       "      <th>G_I_Generation</th>\n",
       "      <th>GenerationX</th>\n",
       "      <th>GenerationZ</th>\n",
       "      <th>Millenials</th>\n",
       "      <th>Silent</th>\n",
       "    </tr>\n",
       "  </thead>\n",
       "  <tbody>\n",
       "    <tr>\n",
       "      <th>0</th>\n",
       "      <td>1.0</td>\n",
       "      <td>21.0</td>\n",
       "      <td>312900.0</td>\n",
       "      <td>6.71</td>\n",
       "      <td>796.0</td>\n",
       "      <td>0.0</td>\n",
       "      <td>249068400.0</td>\n",
       "      <td>0.0</td>\n",
       "      <td>0.0</td>\n",
       "      <td>1.0</td>\n",
       "      <td>0.0</td>\n",
       "      <td>0.0</td>\n",
       "      <td>0.0</td>\n",
       "    </tr>\n",
       "    <tr>\n",
       "      <th>1</th>\n",
       "      <td>1.0</td>\n",
       "      <td>16.0</td>\n",
       "      <td>308000.0</td>\n",
       "      <td>5.19</td>\n",
       "      <td>796.0</td>\n",
       "      <td>0.0</td>\n",
       "      <td>245168000.0</td>\n",
       "      <td>0.0</td>\n",
       "      <td>0.0</td>\n",
       "      <td>0.0</td>\n",
       "      <td>0.0</td>\n",
       "      <td>0.0</td>\n",
       "      <td>1.0</td>\n",
       "    </tr>\n",
       "    <tr>\n",
       "      <th>2</th>\n",
       "      <td>0.0</td>\n",
       "      <td>14.0</td>\n",
       "      <td>289700.0</td>\n",
       "      <td>4.83</td>\n",
       "      <td>796.0</td>\n",
       "      <td>0.0</td>\n",
       "      <td>230601200.0</td>\n",
       "      <td>0.0</td>\n",
       "      <td>0.0</td>\n",
       "      <td>1.0</td>\n",
       "      <td>0.0</td>\n",
       "      <td>0.0</td>\n",
       "      <td>0.0</td>\n",
       "    </tr>\n",
       "    <tr>\n",
       "      <th>3</th>\n",
       "      <td>1.0</td>\n",
       "      <td>1.0</td>\n",
       "      <td>21800.0</td>\n",
       "      <td>4.59</td>\n",
       "      <td>796.0</td>\n",
       "      <td>0.0</td>\n",
       "      <td>17352800.0</td>\n",
       "      <td>0.0</td>\n",
       "      <td>1.0</td>\n",
       "      <td>0.0</td>\n",
       "      <td>0.0</td>\n",
       "      <td>0.0</td>\n",
       "      <td>0.0</td>\n",
       "    </tr>\n",
       "    <tr>\n",
       "      <th>4</th>\n",
       "      <td>1.0</td>\n",
       "      <td>9.0</td>\n",
       "      <td>274300.0</td>\n",
       "      <td>3.28</td>\n",
       "      <td>796.0</td>\n",
       "      <td>0.0</td>\n",
       "      <td>218342800.0</td>\n",
       "      <td>1.0</td>\n",
       "      <td>0.0</td>\n",
       "      <td>0.0</td>\n",
       "      <td>0.0</td>\n",
       "      <td>0.0</td>\n",
       "      <td>0.0</td>\n",
       "    </tr>\n",
       "  </tbody>\n",
       "</table>\n",
       "</div>"
      ],
      "text/plain": [
       "   sex  suicides_no  population  suicides_pop  gdp_per_capita  lvl_gdp  \\\n",
       "0  1.0         21.0    312900.0          6.71           796.0      0.0   \n",
       "1  1.0         16.0    308000.0          5.19           796.0      0.0   \n",
       "2  0.0         14.0    289700.0          4.83           796.0      0.0   \n",
       "3  1.0          1.0     21800.0          4.59           796.0      0.0   \n",
       "4  1.0          9.0    274300.0          3.28           796.0      0.0   \n",
       "\n",
       "   GDP_for_group  Boomers  G_I_Generation  GenerationX  GenerationZ  \\\n",
       "0    249068400.0      0.0             0.0          1.0          0.0   \n",
       "1    245168000.0      0.0             0.0          0.0          0.0   \n",
       "2    230601200.0      0.0             0.0          1.0          0.0   \n",
       "3     17352800.0      0.0             1.0          0.0          0.0   \n",
       "4    218342800.0      1.0             0.0          0.0          0.0   \n",
       "\n",
       "   Millenials  Silent  \n",
       "0         0.0     0.0  \n",
       "1         0.0     1.0  \n",
       "2         0.0     0.0  \n",
       "3         0.0     0.0  \n",
       "4         0.0     0.0  "
      ]
     },
     "execution_count": 2,
     "metadata": {},
     "output_type": "execute_result"
    }
   ],
   "source": [
    "df = pd.read_csv('m2.csv')\n",
    "df.head()"
   ]
  },
  {
   "cell_type": "code",
   "execution_count": 3,
   "metadata": {},
   "outputs": [
    {
     "name": "stdout",
     "output_type": "stream",
     "text": [
      "Index(['suicides_no', 'population', 'suicides_pop', 'gdp_per_capita',\n",
      "       'lvl_gdp', 'GDP_for_group', 'Boomers', 'G_I_Generation', 'GenerationX',\n",
      "       'GenerationZ', 'Millenials', 'Silent'],\n",
      "      dtype='object')\n"
     ]
    }
   ],
   "source": [
    "X = df.drop(('sex'), axis=1)\n",
    "y = df['sex']\n",
    "feature_names = X.columns\n",
    "print (feature_names)"
   ]
  },
  {
   "cell_type": "code",
   "execution_count": 4,
   "metadata": {},
   "outputs": [
    {
     "name": "stdout",
     "output_type": "stream",
     "text": [
      "(27820, 12)\n",
      "(27820,)\n"
     ]
    }
   ],
   "source": [
    "print (X.shape)\n",
    "print (y.shape)\n",
    "N, d = X.shape"
   ]
  },
  {
   "cell_type": "code",
   "execution_count": 5,
   "metadata": {},
   "outputs": [
    {
     "name": "stdout",
     "output_type": "stream",
     "text": [
      "19474 8346\n"
     ]
    }
   ],
   "source": [
    "from sklearn.model_selection import train_test_split\n",
    "\n",
    "X_train, X_test, y_train, y_test = train_test_split(X, y, test_size = 0.3, random_state = 17)\n",
    "\n",
    "N_train, _ = X_train.shape \n",
    "N_test,  _ = X_test.shape \n",
    "print (N_train, N_test)"
   ]
  },
  {
   "cell_type": "code",
   "execution_count": 6,
   "metadata": {},
   "outputs": [
    {
     "name": "stdout",
     "output_type": "stream",
     "text": [
      "0.7751018451953031\n"
     ]
    }
   ],
   "source": [
    "from sklearn.ensemble import AdaBoostClassifier\n",
    "from sklearn.tree import DecisionTreeClassifier\n",
    "from sklearn import metrics\n",
    "\n",
    "ad = AdaBoostClassifier(DecisionTreeClassifier(),\n",
    "                        algorithm=\"SAMME\", n_estimators=200)\n",
    "ad.fit(X_train, y_train)\n",
    "pred_a = ad.predict(X_test)\n",
    "\n",
    "acc_a = metrics.accuracy_score(y_test, pred_a)\n",
    "print (acc_a)"
   ]
  },
  {
   "cell_type": "code",
   "execution_count": 7,
   "metadata": {},
   "outputs": [
    {
     "name": "stdout",
     "output_type": "stream",
     "text": [
      "0.775087748515511\n"
     ]
    }
   ],
   "source": [
    "roc_a = metrics.roc_auc_score(y_test, pred_a)\n",
    "print (roc_a)"
   ]
  },
  {
   "cell_type": "code",
   "execution_count": 8,
   "metadata": {},
   "outputs": [
    {
     "name": "stdout",
     "output_type": "stream",
     "text": [
      "0.7673136832015337\n"
     ]
    }
   ],
   "source": [
    "from xgboost import XGBClassifier\n",
    "\n",
    "xg = XGBClassifier(learning_rate=0.1, n_estimators=140, max_depth=5,\n",
    "                        min_child_weight=3, gamma=0.2, subsample=0.6, colsample_bytree=1.0,\n",
    "                        objective='binary:logistic', nthread=4, scale_pos_weight=1, seed=27)\n",
    "xg.fit(X_train, y_train)\n",
    "pred_x = xg.predict(X_test)\n",
    "\n",
    "acc_x = metrics.accuracy_score(y_test, pred_x)\n",
    "print (acc_x)"
   ]
  },
  {
   "cell_type": "code",
   "execution_count": 9,
   "metadata": {},
   "outputs": [
    {
     "name": "stdout",
     "output_type": "stream",
     "text": [
      "0.7668998013024453\n"
     ]
    }
   ],
   "source": [
    "roc_x = metrics.roc_auc_score(y_test, pred_x)\n",
    "print (roc_x)"
   ]
  },
  {
   "cell_type": "code",
   "execution_count": 10,
   "metadata": {},
   "outputs": [
    {
     "name": "stdout",
     "output_type": "stream",
     "text": [
      "[1]\tvalid_0's auc: 0.812618\tvalid_0's binary_logloss: 0.603954\tvalid_0's l2: 0.206318\n",
      "Training until validation scores don't improve for 5 rounds.\n",
      "[2]\tvalid_0's auc: 0.826272\tvalid_0's binary_logloss: 0.55613\tvalid_0's l2: 0.185172\n"
     ]
    },
    {
     "name": "stderr",
     "output_type": "stream",
     "text": [
      "/anaconda3/lib/python3.7/site-packages/lightgbm/__init__.py:46: UserWarning: Starting from version 2.2.1, the library file in distribution wheels for macOS is built by the Apple Clang (Xcode_8.3.3) compiler.\n",
      "This means that in case of installing LightGBM from PyPI via the ``pip install lightgbm`` command, you don't need to install the gcc compiler anymore.\n",
      "Instead of that, you need to install the OpenMP library, which is required for running LightGBM on the system with the Apple Clang compiler.\n",
      "You can install the OpenMP library by the following command: ``brew install libomp``.\n",
      "  \"You can install the OpenMP library by the following command: ``brew install libomp``.\", UserWarning)\n"
     ]
    },
    {
     "name": "stdout",
     "output_type": "stream",
     "text": [
      "[3]\tvalid_0's auc: 0.832767\tvalid_0's binary_logloss: 0.528542\tvalid_0's l2: 0.174442\n",
      "[4]\tvalid_0's auc: 0.837634\tvalid_0's binary_logloss: 0.510412\tvalid_0's l2: 0.168204\n",
      "[5]\tvalid_0's auc: 0.842841\tvalid_0's binary_logloss: 0.495228\tvalid_0's l2: 0.16314\n",
      "[6]\tvalid_0's auc: 0.844695\tvalid_0's binary_logloss: 0.487469\tvalid_0's l2: 0.160976\n",
      "[7]\tvalid_0's auc: 0.847055\tvalid_0's binary_logloss: 0.480712\tvalid_0's l2: 0.158969\n",
      "[8]\tvalid_0's auc: 0.848439\tvalid_0's binary_logloss: 0.475374\tvalid_0's l2: 0.157486\n",
      "[9]\tvalid_0's auc: 0.850497\tvalid_0's binary_logloss: 0.471007\tvalid_0's l2: 0.156249\n",
      "[10]\tvalid_0's auc: 0.853018\tvalid_0's binary_logloss: 0.465825\tvalid_0's l2: 0.154695\n",
      "[11]\tvalid_0's auc: 0.854185\tvalid_0's binary_logloss: 0.463104\tvalid_0's l2: 0.154033\n",
      "[12]\tvalid_0's auc: 0.855891\tvalid_0's binary_logloss: 0.46068\tvalid_0's l2: 0.153251\n",
      "[13]\tvalid_0's auc: 0.857098\tvalid_0's binary_logloss: 0.459417\tvalid_0's l2: 0.15278\n",
      "[14]\tvalid_0's auc: 0.858481\tvalid_0's binary_logloss: 0.457148\tvalid_0's l2: 0.152055\n",
      "[15]\tvalid_0's auc: 0.859987\tvalid_0's binary_logloss: 0.454699\tvalid_0's l2: 0.151188\n",
      "[16]\tvalid_0's auc: 0.860782\tvalid_0's binary_logloss: 0.453038\tvalid_0's l2: 0.150757\n",
      "[17]\tvalid_0's auc: 0.861168\tvalid_0's binary_logloss: 0.451883\tvalid_0's l2: 0.150422\n",
      "[18]\tvalid_0's auc: 0.862633\tvalid_0's binary_logloss: 0.450116\tvalid_0's l2: 0.149736\n",
      "[19]\tvalid_0's auc: 0.863353\tvalid_0's binary_logloss: 0.448843\tvalid_0's l2: 0.149248\n",
      "[20]\tvalid_0's auc: 0.864064\tvalid_0's binary_logloss: 0.447539\tvalid_0's l2: 0.148797\n",
      "[21]\tvalid_0's auc: 0.86515\tvalid_0's binary_logloss: 0.445097\tvalid_0's l2: 0.148075\n",
      "[22]\tvalid_0's auc: 0.865739\tvalid_0's binary_logloss: 0.444092\tvalid_0's l2: 0.147745\n",
      "[23]\tvalid_0's auc: 0.865381\tvalid_0's binary_logloss: 0.44424\tvalid_0's l2: 0.147873\n",
      "[24]\tvalid_0's auc: 0.866401\tvalid_0's binary_logloss: 0.442983\tvalid_0's l2: 0.147318\n",
      "[25]\tvalid_0's auc: 0.86761\tvalid_0's binary_logloss: 0.441212\tvalid_0's l2: 0.146684\n",
      "[26]\tvalid_0's auc: 0.868038\tvalid_0's binary_logloss: 0.440244\tvalid_0's l2: 0.146349\n",
      "[27]\tvalid_0's auc: 0.868397\tvalid_0's binary_logloss: 0.43945\tvalid_0's l2: 0.146066\n",
      "[28]\tvalid_0's auc: 0.868924\tvalid_0's binary_logloss: 0.438634\tvalid_0's l2: 0.145809\n",
      "[29]\tvalid_0's auc: 0.869172\tvalid_0's binary_logloss: 0.437922\tvalid_0's l2: 0.145662\n",
      "[30]\tvalid_0's auc: 0.869182\tvalid_0's binary_logloss: 0.437584\tvalid_0's l2: 0.145523\n",
      "[31]\tvalid_0's auc: 0.870131\tvalid_0's binary_logloss: 0.436313\tvalid_0's l2: 0.145028\n",
      "[32]\tvalid_0's auc: 0.870475\tvalid_0's binary_logloss: 0.435682\tvalid_0's l2: 0.144903\n",
      "[33]\tvalid_0's auc: 0.870744\tvalid_0's binary_logloss: 0.435166\tvalid_0's l2: 0.14474\n",
      "[34]\tvalid_0's auc: 0.870523\tvalid_0's binary_logloss: 0.435437\tvalid_0's l2: 0.144876\n",
      "[35]\tvalid_0's auc: 0.870693\tvalid_0's binary_logloss: 0.435174\tvalid_0's l2: 0.144734\n",
      "[36]\tvalid_0's auc: 0.871218\tvalid_0's binary_logloss: 0.434379\tvalid_0's l2: 0.144409\n",
      "[37]\tvalid_0's auc: 0.871817\tvalid_0's binary_logloss: 0.4334\tvalid_0's l2: 0.144096\n",
      "[38]\tvalid_0's auc: 0.872652\tvalid_0's binary_logloss: 0.432343\tvalid_0's l2: 0.143724\n",
      "[39]\tvalid_0's auc: 0.873348\tvalid_0's binary_logloss: 0.431779\tvalid_0's l2: 0.143427\n",
      "[40]\tvalid_0's auc: 0.874177\tvalid_0's binary_logloss: 0.4306\tvalid_0's l2: 0.142969\n",
      "[41]\tvalid_0's auc: 0.874127\tvalid_0's binary_logloss: 0.430532\tvalid_0's l2: 0.142933\n",
      "[42]\tvalid_0's auc: 0.874048\tvalid_0's binary_logloss: 0.430454\tvalid_0's l2: 0.142968\n",
      "[43]\tvalid_0's auc: 0.874368\tvalid_0's binary_logloss: 0.429807\tvalid_0's l2: 0.14276\n",
      "[44]\tvalid_0's auc: 0.875172\tvalid_0's binary_logloss: 0.428706\tvalid_0's l2: 0.142352\n",
      "[45]\tvalid_0's auc: 0.875257\tvalid_0's binary_logloss: 0.428328\tvalid_0's l2: 0.142275\n",
      "[46]\tvalid_0's auc: 0.875274\tvalid_0's binary_logloss: 0.428067\tvalid_0's l2: 0.142232\n",
      "[47]\tvalid_0's auc: 0.875189\tvalid_0's binary_logloss: 0.428107\tvalid_0's l2: 0.142255\n",
      "[48]\tvalid_0's auc: 0.875352\tvalid_0's binary_logloss: 0.427715\tvalid_0's l2: 0.142146\n",
      "[49]\tvalid_0's auc: 0.875464\tvalid_0's binary_logloss: 0.427549\tvalid_0's l2: 0.14209\n",
      "[50]\tvalid_0's auc: 0.875833\tvalid_0's binary_logloss: 0.426775\tvalid_0's l2: 0.141819\n",
      "[51]\tvalid_0's auc: 0.876006\tvalid_0's binary_logloss: 0.426519\tvalid_0's l2: 0.141723\n",
      "[52]\tvalid_0's auc: 0.876217\tvalid_0's binary_logloss: 0.425786\tvalid_0's l2: 0.141548\n",
      "[53]\tvalid_0's auc: 0.876668\tvalid_0's binary_logloss: 0.425005\tvalid_0's l2: 0.141245\n",
      "[54]\tvalid_0's auc: 0.877321\tvalid_0's binary_logloss: 0.423711\tvalid_0's l2: 0.140824\n",
      "[55]\tvalid_0's auc: 0.877774\tvalid_0's binary_logloss: 0.423413\tvalid_0's l2: 0.140614\n",
      "[56]\tvalid_0's auc: 0.877884\tvalid_0's binary_logloss: 0.422856\tvalid_0's l2: 0.140491\n",
      "[57]\tvalid_0's auc: 0.877831\tvalid_0's binary_logloss: 0.422777\tvalid_0's l2: 0.140524\n",
      "[58]\tvalid_0's auc: 0.87776\tvalid_0's binary_logloss: 0.42286\tvalid_0's l2: 0.140567\n",
      "[59]\tvalid_0's auc: 0.878063\tvalid_0's binary_logloss: 0.422238\tvalid_0's l2: 0.140337\n",
      "[60]\tvalid_0's auc: 0.878628\tvalid_0's binary_logloss: 0.421546\tvalid_0's l2: 0.140061\n",
      "[61]\tvalid_0's auc: 0.879697\tvalid_0's binary_logloss: 0.420138\tvalid_0's l2: 0.139518\n",
      "[62]\tvalid_0's auc: 0.880145\tvalid_0's binary_logloss: 0.419572\tvalid_0's l2: 0.139251\n",
      "[63]\tvalid_0's auc: 0.880333\tvalid_0's binary_logloss: 0.419178\tvalid_0's l2: 0.139128\n",
      "[64]\tvalid_0's auc: 0.881069\tvalid_0's binary_logloss: 0.418335\tvalid_0's l2: 0.138743\n",
      "[65]\tvalid_0's auc: 0.88162\tvalid_0's binary_logloss: 0.417618\tvalid_0's l2: 0.138454\n",
      "Did not meet early stopping. Best iteration is:\n",
      "[65]\tvalid_0's auc: 0.88162\tvalid_0's binary_logloss: 0.417618\tvalid_0's l2: 0.138454\n"
     ]
    }
   ],
   "source": [
    "import lightgbm as lgb\n",
    "\n",
    "params = {\n",
    "        'task': 'train',\n",
    "        'objective': 'binary',    \n",
    "        'metric': 'binary_error', \n",
    "        'verbose': 1\n",
    "}\n",
    "gbm = lgb.LGBMClassifier(learning_rate = 0.35, metric = 'l2', \n",
    "                        n_estimators = 65)\n",
    "gbm.fit(X_train, y_train,\n",
    "        eval_set=[(X_test, y_test)],\n",
    "        eval_metric=['auc', 'binary_logloss'],\n",
    "early_stopping_rounds=5)\n",
    "pred_g = gbm.predict(X_test)"
   ]
  },
  {
   "cell_type": "code",
   "execution_count": 11,
   "metadata": {},
   "outputs": [
    {
     "name": "stdout",
     "output_type": "stream",
     "text": [
      "0.7891205367840882\n"
     ]
    }
   ],
   "source": [
    "acc_g = metrics.accuracy_score(y_test, pred_g)\n",
    "print (acc_g)"
   ]
  },
  {
   "cell_type": "code",
   "execution_count": 12,
   "metadata": {},
   "outputs": [
    {
     "name": "stdout",
     "output_type": "stream",
     "text": [
      "0.7887680751605085\n"
     ]
    }
   ],
   "source": [
    "roc_g = metrics.roc_auc_score(y_test, pred_g)\n",
    "print (roc_g)"
   ]
  },
  {
   "cell_type": "code",
   "execution_count": 13,
   "metadata": {},
   "outputs": [
    {
     "name": "stdout",
     "output_type": "stream",
     "text": [
      "0:\tlearn: 0.5497749\ttotal: 107ms\tremaining: 3.11s\n",
      "1:\tlearn: 0.5352083\ttotal: 150ms\tremaining: 2.1s\n",
      "2:\tlearn: 0.5261567\ttotal: 187ms\tremaining: 1.69s\n",
      "3:\tlearn: 0.5190873\ttotal: 226ms\tremaining: 1.47s\n",
      "4:\tlearn: 0.5139799\ttotal: 269ms\tremaining: 1.35s\n",
      "5:\tlearn: 0.5100478\ttotal: 332ms\tremaining: 1.33s\n",
      "6:\tlearn: 0.5049159\ttotal: 374ms\tremaining: 1.23s\n",
      "7:\tlearn: 0.5018811\ttotal: 413ms\tremaining: 1.14s\n",
      "8:\tlearn: 0.4971557\ttotal: 452ms\tremaining: 1.05s\n",
      "9:\tlearn: 0.4949168\ttotal: 526ms\tremaining: 1.05s\n",
      "10:\tlearn: 0.4916772\ttotal: 589ms\tremaining: 1.02s\n",
      "11:\tlearn: 0.4901688\ttotal: 627ms\tremaining: 940ms\n",
      "12:\tlearn: 0.4886794\ttotal: 663ms\tremaining: 867ms\n",
      "13:\tlearn: 0.4877677\ttotal: 722ms\tremaining: 825ms\n",
      "14:\tlearn: 0.4876165\ttotal: 832ms\tremaining: 832ms\n",
      "15:\tlearn: 0.4843333\ttotal: 873ms\tremaining: 764ms\n",
      "16:\tlearn: 0.4791824\ttotal: 966ms\tremaining: 739ms\n",
      "17:\tlearn: 0.4762569\ttotal: 1.03s\tremaining: 690ms\n",
      "18:\tlearn: 0.4760567\ttotal: 1.09s\tremaining: 630ms\n",
      "19:\tlearn: 0.4750104\ttotal: 1.13s\tremaining: 564ms\n",
      "20:\tlearn: 0.4736056\ttotal: 1.18s\tremaining: 506ms\n",
      "21:\tlearn: 0.4726061\ttotal: 1.22s\tremaining: 444ms\n",
      "22:\tlearn: 0.4717470\ttotal: 1.29s\tremaining: 391ms\n",
      "23:\tlearn: 0.4709617\ttotal: 1.32s\tremaining: 331ms\n",
      "24:\tlearn: 0.4696999\ttotal: 1.36s\tremaining: 273ms\n",
      "25:\tlearn: 0.4686467\ttotal: 1.4s\tremaining: 216ms\n",
      "26:\tlearn: 0.4682553\ttotal: 1.44s\tremaining: 160ms\n",
      "27:\tlearn: 0.4671840\ttotal: 1.48s\tremaining: 106ms\n",
      "28:\tlearn: 0.4641626\ttotal: 1.55s\tremaining: 53.6ms\n",
      "29:\tlearn: 0.4626751\ttotal: 1.6s\tremaining: 0us\n"
     ]
    }
   ],
   "source": [
    "from catboost import CatBoostClassifier\n",
    "\n",
    "cat = CatBoostClassifier(iterations=30, learning_rate=1, depth=6, loss_function='Logloss')\n",
    "cat.fit(X_train, y_train)\n",
    "pred_c = cat.predict(X_test)"
   ]
  },
  {
   "cell_type": "code",
   "execution_count": 14,
   "metadata": {},
   "outputs": [
    {
     "name": "stdout",
     "output_type": "stream",
     "text": [
      "0.7588066139468008\n"
     ]
    }
   ],
   "source": [
    "acc_c = metrics.accuracy_score(y_test, pred_c)\n",
    "print(acc_c)"
   ]
  },
  {
   "cell_type": "code",
   "execution_count": 15,
   "metadata": {},
   "outputs": [
    {
     "name": "stdout",
     "output_type": "stream",
     "text": [
      "0.7584406836114715\n"
     ]
    }
   ],
   "source": [
    "roc_c = metrics.roc_auc_score(y_test, pred_c)\n",
    "print (roc_c)"
   ]
  },
  {
   "cell_type": "code",
   "execution_count": 16,
   "metadata": {},
   "outputs": [],
   "source": [
    "per_a = (acc_a + roc_a) / 2\n",
    "per_x = (acc_x + roc_x) / 2\n",
    "per_g = (acc_g + roc_g) / 2\n",
    "per_c = (acc_c + roc_c) / 2"
   ]
  },
  {
   "cell_type": "code",
   "execution_count": 17,
   "metadata": {},
   "outputs": [],
   "source": [
    "t = [per_a, per_x, per_c, per_g]\n",
    "t = max(t)"
   ]
  },
  {
   "cell_type": "code",
   "execution_count": 18,
   "metadata": {},
   "outputs": [
    {
     "name": "stdout",
     "output_type": "stream",
     "text": [
      "LGBM Classifier accuracy score: 0.7891205367840882 roc auc score: 0.7887680751605085\n"
     ]
    }
   ],
   "source": [
    "if per_a == t:\n",
    "    print ('AdaBoost Classifier accuracy score:', acc_a, 'roc auc score:', roc_a)\n",
    "elif per_x == t:\n",
    "    print ('XGB Classifier accuracy score:', acc_x, 'roc auc score:', roc_x)\n",
    "elif per_g == t:\n",
    "    print ('LGBM Classifier accuracy score:', acc_g, 'roc auc score:', roc_g)\n",
    "elif per_c == t:\n",
    "    print ('CatBoost Classifier accuracy score:', acc_c, 'roc auc score:', roc_c)"
   ]
  }
 ],
 "metadata": {
  "kernelspec": {
   "display_name": "Python 3",
   "language": "python",
   "name": "python3"
  },
  "language_info": {
   "codemirror_mode": {
    "name": "ipython",
    "version": 3
   },
   "file_extension": ".py",
   "mimetype": "text/x-python",
   "name": "python",
   "nbconvert_exporter": "python",
   "pygments_lexer": "ipython3",
   "version": "3.7.1"
  }
 },
 "nbformat": 4,
 "nbformat_minor": 1
}
